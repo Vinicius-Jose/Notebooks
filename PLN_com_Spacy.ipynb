{
  "nbformat": 4,
  "nbformat_minor": 0,
  "metadata": {
    "colab": {
      "name": "PLN com Spacy.ipynb",
      "provenance": [],
      "collapsed_sections": [
        "YLGReOUPA55h"
      ],
      "authorship_tag": "ABX9TyOxY86yC4P2moCfowEqYTCG",
      "include_colab_link": true
    },
    "kernelspec": {
      "name": "python3",
      "display_name": "Python 3"
    },
    "language_info": {
      "name": "python"
    }
  },
  "cells": [
    {
      "cell_type": "markdown",
      "metadata": {
        "id": "view-in-github",
        "colab_type": "text"
      },
      "source": [
        "<a href=\"https://colab.research.google.com/github/Vinicius-Jose/Notebooks/blob/main/PLN_com_Spacy.ipynb\" target=\"_parent\"><img src=\"https://colab.research.google.com/assets/colab-badge.svg\" alt=\"Open In Colab\"/></a>"
      ]
    },
    {
      "cell_type": "markdown",
      "metadata": {
        "id": "YLGReOUPA55h"
      },
      "source": [
        "## Instalação do spacy e do core em portugues"
      ]
    },
    {
      "cell_type": "code",
      "metadata": {
        "id": "Qh8Yd_PB9gFz"
      },
      "source": [
        "pip install -U spacy"
      ],
      "execution_count": null,
      "outputs": []
    },
    {
      "cell_type": "code",
      "metadata": {
        "id": "kO4SSnfs9iop"
      },
      "source": [
        "pip install -U spacy-lookups-data"
      ],
      "execution_count": null,
      "outputs": []
    },
    {
      "cell_type": "code",
      "metadata": {
        "id": "n1X3JeAZ-odz"
      },
      "source": [
        "!python -m spacy download pt_core_news_lg"
      ],
      "execution_count": null,
      "outputs": []
    },
    {
      "cell_type": "markdown",
      "metadata": {
        "id": "Q49FodC_BD3u"
      },
      "source": [
        "## Utilização do Spacy \n"
      ]
    },
    {
      "cell_type": "code",
      "metadata": {
        "id": "YNtG5HS_ACe2"
      },
      "source": [
        "import spacy"
      ],
      "execution_count": 33,
      "outputs": []
    },
    {
      "cell_type": "code",
      "metadata": {
        "id": "jfafxRiQBO-I"
      },
      "source": [
        "texto = open('/content/sample_data/texto.txt').read()\n",
        "nlp = spacy.load('pt_core_news_lg')\n",
        "doc = nlp(texto)"
      ],
      "execution_count": 34,
      "outputs": []
    },
    {
      "cell_type": "code",
      "metadata": {
        "id": "5c1TlfZwCLlC"
      },
      "source": [
        "tokens = [token.orth_ for token in doc]\n",
        "tokens"
      ],
      "execution_count": null,
      "outputs": []
    },
    {
      "cell_type": "code",
      "metadata": {
        "id": "TuhDEG41Clva"
      },
      "source": [
        "alpha_tokens = [token.orth_ for token in doc if  token.is_alpha]\n",
        "alpha_tokens"
      ],
      "execution_count": null,
      "outputs": []
    },
    {
      "cell_type": "code",
      "metadata": {
        "id": "ereob6U6E9Q2"
      },
      "source": [
        "digit_tokens = [token.orth_ for token in doc if  token.is_digit]\n",
        "digit_tokens"
      ],
      "execution_count": null,
      "outputs": []
    },
    {
      "cell_type": "code",
      "metadata": {
        "id": "tvgPkOzPE92f"
      },
      "source": [
        "punct_tokens = [token.orth_ for token in doc if  token.is_punct]\n",
        "punct_tokens"
      ],
      "execution_count": null,
      "outputs": []
    },
    {
      "cell_type": "code",
      "metadata": {
        "id": "_Ns1wc0KFjV7"
      },
      "source": [
        "verb = [token.lemma_ for token in doc if  token.pos_ == 'VERB']\n",
        "verb"
      ],
      "execution_count": null,
      "outputs": []
    },
    {
      "cell_type": "code",
      "metadata": {
        "id": "l5ATw6bmHUh9"
      },
      "source": [
        "pos = [(token.orth_,token.pos_) for token in doc]\n",
        "pos"
      ],
      "execution_count": null,
      "outputs": []
    },
    {
      "cell_type": "code",
      "metadata": {
        "id": "bWnVok7tHvWL"
      },
      "source": [
        "morfologicas = [(token.orth_,token.morph) for token in doc]\n",
        "morfologicas"
      ],
      "execution_count": null,
      "outputs": []
    },
    {
      "cell_type": "markdown",
      "metadata": {
        "id": "Nj2oc6yQK_me"
      },
      "source": [
        "## Mostrando entidades nomeadas"
      ]
    },
    {
      "cell_type": "code",
      "metadata": {
        "id": "N3-EBoKsJDlD"
      },
      "source": [
        "#Entidades nomeadas\n",
        "entidades = list(doc.ents)\n",
        "entidades"
      ],
      "execution_count": null,
      "outputs": []
    },
    {
      "cell_type": "code",
      "metadata": {
        "id": "jNM8WyHfJh36"
      },
      "source": [
        "detalhes_entdades = [(entidade,entidade.label_ ) for entidade in doc.ents]\n",
        "detalhes_entdades"
      ],
      "execution_count": null,
      "outputs": []
    },
    {
      "cell_type": "code",
      "metadata": {
        "id": "nsRFJd6LLHdb"
      },
      "source": [
        "html = spacy.displacy.render(doc, style='ent')\n",
        "output_path = open('index.html','w', encoding='utf-8')\n",
        "output_path.write(html)\n",
        "output_path.close()"
      ],
      "execution_count": 53,
      "outputs": []
    },
    {
      "cell_type": "markdown",
      "metadata": {
        "id": "HLABfv9HL7Tl"
      },
      "source": [
        "## Analise sintática"
      ]
    },
    {
      "cell_type": "code",
      "metadata": {
        "id": "HFw1isLBL-JT"
      },
      "source": [
        "sintaxe = [(token.orth_,token.dep_) for token in doc]\n",
        "sintaxe"
      ],
      "execution_count": null,
      "outputs": []
    },
    {
      "cell_type": "code",
      "metadata": {
        "id": "qatIijuvMP-B"
      },
      "source": [
        "svg = spacy.displacy.render(doc, style='dep')\n",
        "output_path = open('dep.svg','w', encoding='utf-8')\n",
        "output_path.write(svg)\n",
        "output_path.close()"
      ],
      "execution_count": 56,
      "outputs": []
    }
  ]
}