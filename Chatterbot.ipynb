{
  "nbformat": 4,
  "nbformat_minor": 0,
  "metadata": {
    "colab": {
      "name": "Chatterbot.ipynb",
      "provenance": [],
      "collapsed_sections": [],
      "authorship_tag": "ABX9TyNll6SY1/Hx+iiGcZ6rZ6ic",
      "include_colab_link": true
    },
    "kernelspec": {
      "name": "python3",
      "display_name": "Python 3"
    },
    "language_info": {
      "name": "python"
    }
  },
  "cells": [
    {
      "cell_type": "markdown",
      "metadata": {
        "id": "view-in-github",
        "colab_type": "text"
      },
      "source": [
        "<a href=\"https://colab.research.google.com/github/Vinicius-Jose/Notebooks/blob/main/Chatterbot.ipynb\" target=\"_parent\"><img src=\"https://colab.research.google.com/assets/colab-badge.svg\" alt=\"Open In Colab\"/></a>"
      ]
    },
    {
      "cell_type": "code",
      "metadata": {
        "colab": {
          "base_uri": "https://localhost:8080/"
        },
        "id": "2DQWLPFoZtls",
        "outputId": "029bfe51-43d1-4060-9d94-e1d2f38639ab"
      },
      "source": [
        "!pip install chatterbot\n",
        "!pip install chatterbot-corpus"
      ],
      "execution_count": null,
      "outputs": [
        {
          "output_type": "stream",
          "text": [
            "Collecting chatterbot\n",
            "\u001b[?25l  Downloading https://files.pythonhosted.org/packages/7c/21/85c2b114bd9dfabdd46ba58fc4519acdaed45d8c70898d40079e37a45e67/ChatterBot-1.0.8-py2.py3-none-any.whl (63kB)\n",
            "\r\u001b[K     |█████▏                          | 10kB 16.4MB/s eta 0:00:01\r\u001b[K     |██████████▎                     | 20kB 16.6MB/s eta 0:00:01\r\u001b[K     |███████████████▌                | 30kB 10.2MB/s eta 0:00:01\r\u001b[K     |████████████████████▋           | 40kB 8.4MB/s eta 0:00:01\r\u001b[K     |█████████████████████████▊      | 51kB 7.1MB/s eta 0:00:01\r\u001b[K     |███████████████████████████████ | 61kB 7.5MB/s eta 0:00:01\r\u001b[K     |████████████████████████████████| 71kB 5.0MB/s \n",
            "\u001b[?25hRequirement already satisfied: pytz in /usr/local/lib/python3.7/dist-packages (from chatterbot) (2018.9)\n",
            "Requirement already satisfied: python-dateutil<2.9,>=2.8 in /usr/local/lib/python3.7/dist-packages (from chatterbot) (2.8.1)\n",
            "Collecting sqlalchemy<1.4,>=1.3\n",
            "\u001b[?25l  Downloading https://files.pythonhosted.org/packages/31/44/a86070dda790ce94cd7d9fb9281cd614c7d30850ed774ace9a84d0d5d491/SQLAlchemy-1.3.24-cp37-cp37m-manylinux2010_x86_64.whl (1.3MB)\n",
            "\u001b[K     |████████████████████████████████| 1.3MB 10.5MB/s \n",
            "\u001b[?25hCollecting mathparse<0.2,>=0.1\n",
            "  Downloading https://files.pythonhosted.org/packages/c3/e5/4910fb85950cb960fcf3f5aabe1c8e55f5c9201788a1c1302b570a7e1f84/mathparse-0.1.2-py3-none-any.whl\n",
            "Requirement already satisfied: six>=1.5 in /usr/local/lib/python3.7/dist-packages (from python-dateutil<2.9,>=2.8->chatterbot) (1.15.0)\n",
            "Installing collected packages: sqlalchemy, mathparse, chatterbot\n",
            "  Found existing installation: SQLAlchemy 1.4.15\n",
            "    Uninstalling SQLAlchemy-1.4.15:\n",
            "      Successfully uninstalled SQLAlchemy-1.4.15\n",
            "Successfully installed chatterbot-1.0.8 mathparse-0.1.2 sqlalchemy-1.3.24\n",
            "Collecting chatterbot-corpus\n",
            "\u001b[?25l  Downloading https://files.pythonhosted.org/packages/ed/19/f8b41daf36fe4b0f43e283a820362ffdb2c1128600ab4ee187e84262fa4d/chatterbot_corpus-1.2.0-py2.py3-none-any.whl (117kB)\n",
            "\u001b[K     |████████████████████████████████| 122kB 8.5MB/s \n",
            "\u001b[?25hRequirement already satisfied: PyYAML<4.0,>=3.12 in /usr/local/lib/python3.7/dist-packages (from chatterbot-corpus) (3.13)\n",
            "Installing collected packages: chatterbot-corpus\n",
            "Successfully installed chatterbot-corpus-1.2.0\n"
          ],
          "name": "stdout"
        }
      ]
    },
    {
      "cell_type": "code",
      "metadata": {
        "id": "lWwEMKkMZx2I"
      },
      "source": [
        "from chatterbot import ChatBot\n",
        "from chatterbot.trainers import ChatterBotCorpusTrainer\n",
        "from chatterbot import logic, comparisons"
      ],
      "execution_count": null,
      "outputs": []
    },
    {
      "cell_type": "code",
      "metadata": {
        "id": "DRj-41Q1afsm"
      },
      "source": [
        "chatbot = ChatBot('Tony',logic_adapters=[{\n",
        "        \"import_path\": \"chatterbot.logic.BestMatch\",\n",
        "        \"statement_comparison_function\": comparisons.LevenshteinDistance}\n",
        "    ])\n"
      ],
      "execution_count": null,
      "outputs": []
    },
    {
      "cell_type": "code",
      "metadata": {
        "colab": {
          "base_uri": "https://localhost:8080/"
        },
        "id": "kJPjqQDHa0N0",
        "outputId": "cf419a99-bd12-49ce-a55c-a8f4e496527c"
      },
      "source": [
        "trainer = ChatterBotCorpusTrainer(chatbot)\n",
        "trainer.train(\"chatterbot.corpus.portuguese\")"
      ],
      "execution_count": null,
      "outputs": [
        {
          "output_type": "stream",
          "text": [
            "Training compliment.yml: [####################] 100%\n",
            "Training conversations.yml: [####################] 100%\n",
            "Training greetings.yml: [####################] 100%\n",
            "Training linguistic_knowledge.yml: [####################] 100%\n",
            "Training proverbs.yml: [####################] 100%\n",
            "Training suggestions.yml: [####################] 100%\n",
            "Training trivia.yml: [####################] 100%\n",
            "Training unilab.yml: [####################] 100%\n"
          ],
          "name": "stdout"
        }
      ]
    },
    {
      "cell_type": "code",
      "metadata": {
        "id": "IxpOM0nX1KV5"
      },
      "source": [
        "trainer.export_for_training('./my_export.json')"
      ],
      "execution_count": null,
      "outputs": []
    },
    {
      "cell_type": "code",
      "metadata": {
        "colab": {
          "base_uri": "https://localhost:8080/"
        },
        "id": "CFhgDvrx1t53",
        "outputId": "b3fe921a-ed88-4079-f6c6-13bf8ca8a4d4"
      },
      "source": [
        "trainer.train('./my_export.json')"
      ],
      "execution_count": null,
      "outputs": [
        {
          "output_type": "stream",
          "text": [
            "Training my_export.json: [####################] 100%\n"
          ],
          "name": "stdout"
        }
      ]
    },
    {
      "cell_type": "code",
      "metadata": {
        "id": "xXMCsmoRbMaX",
        "colab": {
          "base_uri": "https://localhost:8080/"
        },
        "outputId": "b9065b50-87ca-44a6-bea5-268961139a84"
      },
      "source": [
        "while True:\n",
        "    pergunta = input(\"Usuário: \")\n",
        "    resposta = chatbot.get_response(pergunta)\n",
        "    if float(resposta.confidence) > 0.5:\n",
        "        print('TW Bot: ', resposta)\n",
        "        print(resposta.conversation)\n",
        "        \n",
        "    else:\n",
        "        print('TW Bot: Ainda não sei responder esta pergunta')\n"
      ],
      "execution_count": null,
      "outputs": [
        {
          "output_type": "stream",
          "text": [
            "Usuário: oi\n",
            "TW Bot:  Como vai você?\n",
            "\n",
            "<Logger chatterbot.chatterbot (WARNING)>\n"
          ],
          "name": "stdout"
        }
      ]
    }
  ]
}