{
  "nbformat": 4,
  "nbformat_minor": 0,
  "metadata": {
    "colab": {
      "name": "gTTS .ipynb",
      "provenance": [],
      "collapsed_sections": [],
      "authorship_tag": "ABX9TyM48uuo9q/DLaDDGsdZ5vSd",
      "include_colab_link": true
    },
    "kernelspec": {
      "name": "python3",
      "display_name": "Python 3"
    },
    "language_info": {
      "name": "python"
    }
  },
  "cells": [
    {
      "cell_type": "markdown",
      "metadata": {
        "id": "view-in-github",
        "colab_type": "text"
      },
      "source": [
        "<a href=\"https://colab.research.google.com/github/Vinicius-Jose/Notebooks/blob/main/gTTS_.ipynb\" target=\"_parent\"><img src=\"https://colab.research.google.com/assets/colab-badge.svg\" alt=\"Open In Colab\"/></a>"
      ]
    },
    {
      "cell_type": "code",
      "metadata": {
        "colab": {
          "base_uri": "https://localhost:8080/"
        },
        "id": "axuRBIcIDaV8",
        "outputId": "29ea3e07-5066-4c8d-a0d5-789185311c1b"
      },
      "source": [
        "!pip install gTTS"
      ],
      "execution_count": null,
      "outputs": [
        {
          "output_type": "stream",
          "text": [
            "Collecting gTTS\n",
            "  Downloading https://files.pythonhosted.org/packages/5f/b9/94e59337107be134b21ce395a29fc0715b707b560108d6797de2d93e1178/gTTS-2.2.2-py3-none-any.whl\n",
            "Requirement already satisfied: six in /usr/local/lib/python3.7/dist-packages (from gTTS) (1.15.0)\n",
            "Requirement already satisfied: click in /usr/local/lib/python3.7/dist-packages (from gTTS) (7.1.2)\n",
            "Requirement already satisfied: requests in /usr/local/lib/python3.7/dist-packages (from gTTS) (2.23.0)\n",
            "Requirement already satisfied: chardet<4,>=3.0.2 in /usr/local/lib/python3.7/dist-packages (from requests->gTTS) (3.0.4)\n",
            "Requirement already satisfied: urllib3!=1.25.0,!=1.25.1,<1.26,>=1.21.1 in /usr/local/lib/python3.7/dist-packages (from requests->gTTS) (1.24.3)\n",
            "Requirement already satisfied: idna<3,>=2.5 in /usr/local/lib/python3.7/dist-packages (from requests->gTTS) (2.10)\n",
            "Requirement already satisfied: certifi>=2017.4.17 in /usr/local/lib/python3.7/dist-packages (from requests->gTTS) (2020.12.5)\n",
            "Installing collected packages: gTTS\n",
            "Successfully installed gTTS-2.2.2\n"
          ],
          "name": "stdout"
        }
      ]
    },
    {
      "cell_type": "code",
      "metadata": {
        "id": "RWu2iOYRDd35"
      },
      "source": [
        "from gtts import gTTS, lang\n",
        "from tempfile import TemporaryFile\n",
        "from IPython.display import Audio"
      ],
      "execution_count": null,
      "outputs": []
    },
    {
      "cell_type": "code",
      "metadata": {
        "id": "Dzwm99kMDhJt"
      },
      "source": [
        "tts = gTTS('Palmeiras nao tem mundial',lang='pt',tld='com.br')"
      ],
      "execution_count": null,
      "outputs": []
    },
    {
      "cell_type": "code",
      "metadata": {
        "id": "P2yH3h4yDpFa"
      },
      "source": [
        "tts.save(\"audio.wav\")"
      ],
      "execution_count": null,
      "outputs": []
    },
    {
      "cell_type": "code",
      "metadata": {
        "colab": {
          "base_uri": "https://localhost:8080/"
        },
        "id": "vRa0ZyIDLXCP",
        "outputId": "5db1327b-4021-4b35-93f7-913d592ddf87"
      },
      "source": [
        "print(lang.tts_langs())"
      ],
      "execution_count": null,
      "outputs": [
        {
          "output_type": "stream",
          "text": [
            "{'af': 'Afrikaans', 'ar': 'Arabic', 'bn': 'Bengali', 'bs': 'Bosnian', 'ca': 'Catalan', 'cs': 'Czech', 'cy': 'Welsh', 'da': 'Danish', 'de': 'German', 'el': 'Greek', 'en': 'English', 'eo': 'Esperanto', 'es': 'Spanish', 'et': 'Estonian', 'fi': 'Finnish', 'fr': 'French', 'gu': 'Gujarati', 'hi': 'Hindi', 'hr': 'Croatian', 'hu': 'Hungarian', 'hy': 'Armenian', 'id': 'Indonesian', 'is': 'Icelandic', 'it': 'Italian', 'ja': 'Japanese', 'jw': 'Javanese', 'km': 'Khmer', 'kn': 'Kannada', 'ko': 'Korean', 'la': 'Latin', 'lv': 'Latvian', 'mk': 'Macedonian', 'ml': 'Malayalam', 'mr': 'Marathi', 'my': 'Myanmar (Burmese)', 'ne': 'Nepali', 'nl': 'Dutch', 'no': 'Norwegian', 'pl': 'Polish', 'pt': 'Portuguese', 'ro': 'Romanian', 'ru': 'Russian', 'si': 'Sinhala', 'sk': 'Slovak', 'sq': 'Albanian', 'sr': 'Serbian', 'su': 'Sundanese', 'sv': 'Swedish', 'sw': 'Swahili', 'ta': 'Tamil', 'te': 'Telugu', 'th': 'Thai', 'tl': 'Filipino', 'tr': 'Turkish', 'uk': 'Ukrainian', 'ur': 'Urdu', 'vi': 'Vietnamese', 'zh-CN': 'Chinese', 'zh-TW': 'Chinese (Mandarin/Taiwan)', 'zh': 'Chinese (Mandarin)'}\n"
          ],
          "name": "stdout"
        }
      ]
    },
    {
      "cell_type": "code",
      "metadata": {
        "colab": {
          "base_uri": "https://localhost:8080/",
          "height": 61
        },
        "id": "DQwKVTpsJxcG",
        "outputId": "e37e93cf-72e4-4982-e4d0-0033c1c214c6"
      },
      "source": [
        "Audio(\"audio.wav\", autoplay=True) "
      ],
      "execution_count": null,
      "outputs": [
        {
          "output_type": "execute_result",
          "data": {
            "text/html": [
              "\n",
              "                <audio controls=\"controls\" autoplay=\"autoplay\">\n",
              "                    <source src=\"data:audio/x-wav;base64,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\" type=\"audio/x-wav\" />\n",
              "                    Your browser does not support the audio element.\n",
              "                </audio>\n",
              "              "
            ],
            "text/plain": [
              "<IPython.lib.display.Audio object>"
            ]
          },
          "metadata": {
            "tags": []
          },
          "execution_count": 5
        }
      ]
    }
  ]
}