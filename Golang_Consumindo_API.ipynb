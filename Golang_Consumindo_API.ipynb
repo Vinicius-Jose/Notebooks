{
  "nbformat": 4,
  "nbformat_minor": 0,
  "metadata": {
    "colab": {
      "name": "Golang Consumindo API.ipynb",
      "provenance": [],
      "collapsed_sections": [
        "HQcH_Jd1XJ62",
        "t0LrgII1c934",
        "x2ZsYWl4XcgV",
        "ZWedBzkAgfv9"
      ],
      "include_colab_link": true
    },
    "kernelspec": {
      "name": "gophernotes",
      "display_name": "Go"
    }
  },
  "cells": [
    {
      "cell_type": "markdown",
      "metadata": {
        "id": "view-in-github",
        "colab_type": "text"
      },
      "source": [
        "<a href=\"https://colab.research.google.com/github/Vinicius-Jose/Notebooks/blob/main/Golang_Consumindo_API.ipynb\" target=\"_parent\"><img src=\"https://colab.research.google.com/assets/colab-badge.svg\" alt=\"Open In Colab\"/></a>"
      ]
    },
    {
      "cell_type": "markdown",
      "metadata": {
        "id": "3o0eEBjPUUW4"
      },
      "source": [
        "**How to run Golang in Google Colab.**\n",
        "\n",
        "1.   Run the first code cell, using the python runtime. \n",
        "2.   Refresh the page to use the Go kernel (gophernotes).\n",
        "3.   Test that everything went well by running the Golang cells below."
      ]
    },
    {
      "cell_type": "markdown",
      "metadata": {
        "id": "HQcH_Jd1XJ62"
      },
      "source": [
        "# Instalaçao Golang no Colab\n",
        "###### adicionar o kernel a partir de github.com/gopherdata/gophernotes\n"
      ]
    },
    {
      "cell_type": "code",
      "metadata": {
        "id": "caT1iMfshw62",
        "colab": {
          "base_uri": "https://localhost:8080/"
        },
        "outputId": "ee39c774-e3a5-4546-c5fd-adf8446146f8"
      },
      "source": [
        "!add-apt-repository ppa:longsleep/golang-backports -y\n",
        "!apt update\n",
        "!apt install golang-go\n",
        "%env GOPATH=/root/go\n",
        "!go get -u github.com/gopherdata/gophernotes\n",
        "!cp ~/go/bin/gophernotes /usr/bin/\n",
        "!mkdir /usr/local/share/jupyter/kernels/gophernotes\n",
        "!cp /usr/local/share/jupyter/kernels/python3/* \\\n",
        "       /usr/local/share/jupyter/kernels/gophernotes/\n",
        "!echo '{\"argv\":[\"gophernotes\",\"{connection_file}\"],\"display_name\":\"Go\",\"language\":\"go\",\"name\":\"go\"}' > /usr/local/share/jupyter/kernels/gophernotes/kernel.json"
      ],
      "execution_count": null,
      "outputs": [
        {
          "output_type": "stream",
          "text": [
            "\r0% [Working]\r            \rHit:1 http://security.ubuntu.com/ubuntu bionic-security InRelease\n",
            "\r0% [Connecting to archive.ubuntu.com (91.189.88.152)] [Connected to cloud.r-pro\r0% [1 InRelease gpgv 88.7 kB] [Connecting to archive.ubuntu.com (91.189.88.152)\r                                                                               \rHit:2 https://cloud.r-project.org/bin/linux/ubuntu bionic-cran40/ InRelease\n",
            "Ign:3 https://developer.download.nvidia.com/compute/cuda/repos/ubuntu1804/x86_64  InRelease\n",
            "Hit:4 http://archive.ubuntu.com/ubuntu bionic InRelease\n",
            "Ign:5 https://developer.download.nvidia.com/compute/machine-learning/repos/ubuntu1804/x86_64  InRelease\n",
            "Hit:6 https://developer.download.nvidia.com/compute/cuda/repos/ubuntu1804/x86_64  Release\n",
            "Hit:7 https://developer.download.nvidia.com/compute/machine-learning/repos/ubuntu1804/x86_64  Release\n",
            "Hit:8 http://ppa.launchpad.net/c2d4u.team/c2d4u4.0+/ubuntu bionic InRelease\n",
            "Hit:9 http://archive.ubuntu.com/ubuntu bionic-updates InRelease\n",
            "Hit:10 http://archive.ubuntu.com/ubuntu bionic-backports InRelease\n",
            "Hit:11 http://ppa.launchpad.net/cran/libgit2/ubuntu bionic InRelease\n",
            "Hit:12 http://ppa.launchpad.net/deadsnakes/ppa/ubuntu bionic InRelease\n",
            "Hit:13 http://ppa.launchpad.net/graphics-drivers/ppa/ubuntu bionic InRelease\n",
            "Hit:14 http://ppa.launchpad.net/longsleep/golang-backports/ubuntu bionic InRelease\n",
            "Reading package lists... Done\n",
            "Hit:1 http://security.ubuntu.com/ubuntu bionic-security InRelease\n",
            "Hit:2 https://cloud.r-project.org/bin/linux/ubuntu bionic-cran40/ InRelease\n",
            "Ign:3 https://developer.download.nvidia.com/compute/cuda/repos/ubuntu1804/x86_64  InRelease\n",
            "Hit:4 http://ppa.launchpad.net/c2d4u.team/c2d4u4.0+/ubuntu bionic InRelease\n",
            "Hit:5 http://archive.ubuntu.com/ubuntu bionic InRelease\n",
            "Ign:6 https://developer.download.nvidia.com/compute/machine-learning/repos/ubuntu1804/x86_64  InRelease\n",
            "Hit:7 https://developer.download.nvidia.com/compute/cuda/repos/ubuntu1804/x86_64  Release\n",
            "Hit:8 https://developer.download.nvidia.com/compute/machine-learning/repos/ubuntu1804/x86_64  Release\n",
            "Hit:9 http://archive.ubuntu.com/ubuntu bionic-updates InRelease\n",
            "Hit:10 http://ppa.launchpad.net/cran/libgit2/ubuntu bionic InRelease\n",
            "Hit:11 http://archive.ubuntu.com/ubuntu bionic-backports InRelease\n",
            "Hit:12 http://ppa.launchpad.net/deadsnakes/ppa/ubuntu bionic InRelease\n",
            "Hit:13 http://ppa.launchpad.net/graphics-drivers/ppa/ubuntu bionic InRelease\n",
            "Hit:14 http://ppa.launchpad.net/longsleep/golang-backports/ubuntu bionic InRelease\n",
            "Reading package lists... Done\n",
            "Building dependency tree       \n",
            "Reading state information... Done\n",
            "46 packages can be upgraded. Run 'apt list --upgradable' to see them.\n",
            "Reading package lists... Done\n",
            "Building dependency tree       \n",
            "Reading state information... Done\n",
            "golang-go is already the newest version (2:1.16-1longsleep1+bionic).\n",
            "0 upgraded, 0 newly installed, 0 to remove and 46 not upgraded.\n",
            "env: GOPATH=/root/go\n",
            "mkdir: cannot create directory ‘/usr/local/share/jupyter/kernels/gophernotes’: File exists\n",
            "cp: cannot stat '/root/go/src/github.com/gopherdata/gophernotes/kernel/*': No such file or directory\n"
          ],
          "name": "stdout"
        }
      ]
    },
    {
      "cell_type": "markdown",
      "metadata": {
        "id": "t0LrgII1c934"
      },
      "source": [
        "# Importações\n"
      ]
    },
    {
      "cell_type": "code",
      "metadata": {
        "id": "dv29Doq9azBC"
      },
      "source": [
        "package main\n",
        "\n",
        "import (\n",
        "  \"fmt\"\n",
        "  \"net/http\"\n",
        "  \"encoding/json\"\n",
        "  \"io/ioutil\"\n",
        "  \"strconv\"\n",
        "  \"strings\"\n",
        "  \"net/url\"\n",
        "  )"
      ],
      "execution_count": 129,
      "outputs": []
    },
    {
      "cell_type": "markdown",
      "metadata": {
        "id": "x2ZsYWl4XcgV"
      },
      "source": [
        "# Código Golang consumindo api"
      ]
    },
    {
      "cell_type": "markdown",
      "metadata": {
        "id": "NJeh4fVHU8Gy"
      },
      "source": [
        "**Golang Code Cells**"
      ]
    },
    {
      "cell_type": "code",
      "metadata": {
        "id": "voxjyR9BRXV0"
      },
      "source": [
        "type api struct {\n",
        "\tPage int `json:\"page\"`\n",
        "\tPerPage int `json:\"per_page\"`\n",
        "\tTotal int `json:\"total\"`\n",
        "\tTotalPages int `json:\"total_pages\"`\n",
        "\tData []user `json:\"data\"`\n",
        "\tAd ad `json:\"ad\"`\n",
        "}\n",
        "\n",
        "type user struct {\n",
        "\tID int `json:\"id\"`\n",
        "\tEmail string `json:\"email\"`\n",
        "\tFirstName string `json:\"first_name\"`\n",
        "\tLastName string `json:\"last_name\"`\n",
        "\tAvatar string `json:\"avatar\"`\n",
        "}\n",
        "\n",
        "type ad struct {\n",
        "\tCompany string `json:\"company\"`\n",
        "\tURL string `json:\"url\"`\n",
        "\tText string `json:\"text\"`\n",
        "}"
      ],
      "execution_count": 3,
      "outputs": []
    },
    {
      "cell_type": "code",
      "metadata": {
        "id": "Ci9r1PW8VVUi"
      },
      "source": [
        "resp, err := http.Get(\"https://reqres.in/api/users\")\n",
        "if err != nil {\n",
        "\tprint(err)\n",
        "}"
      ],
      "execution_count": 7,
      "outputs": []
    },
    {
      "cell_type": "code",
      "metadata": {
        "id": "jxOX0bVxWjmw"
      },
      "source": [
        "body, err := ioutil.ReadAll(resp.Body)\n",
        "\tif err != nil {\n",
        "\t\tprint(body)\n",
        "\t}"
      ],
      "execution_count": 15,
      "outputs": []
    },
    {
      "cell_type": "code",
      "metadata": {
        "id": "9tZ9nzJbV98v"
      },
      "source": [
        "content := api{}"
      ],
      "execution_count": 8,
      "outputs": []
    },
    {
      "cell_type": "code",
      "metadata": {
        "id": "aNf27QngWIKT"
      },
      "source": [
        "err = json.Unmarshal(body, &content)\n",
        "if err != nil {\n",
        "  print(err)\n",
        "}"
      ],
      "execution_count": 16,
      "outputs": []
    },
    {
      "cell_type": "code",
      "metadata": {
        "colab": {
          "base_uri": "https://localhost:8080/"
        },
        "id": "xe5xshL5Wx-c",
        "outputId": "42d6ad85-2a37-48cc-9dda-538c30b8f660"
      },
      "source": [
        "print(content)"
      ],
      "execution_count": 17,
      "outputs": [
        {
          "output_type": "stream",
          "text": [
            "{1 6 12 2 [{1 george.bluth@reqres.in George Bluth https://reqres.in/img/faces/1-image.jpg} {2 janet.weaver@reqres.in Janet Weaver https://reqres.in/img/faces/2-image.jpg} {3 emma.wong@reqres.in Emma Wong https://reqres.in/img/faces/3-image.jpg} {4 eve.holt@reqres.in Eve Holt https://reqres.in/img/faces/4-image.jpg} {5 charles.morris@reqres.in Charles Morris https://reqres.in/img/faces/5-image.jpg} {6 tracey.ramos@reqres.in Tracey Ramos https://reqres.in/img/faces/6-image.jpg}] {  }}"
          ],
          "name": "stderr"
        }
      ]
    },
    {
      "cell_type": "code",
      "metadata": {
        "colab": {
          "base_uri": "https://localhost:8080/"
        },
        "id": "-whS0PB6XCic",
        "outputId": "6816b838-574b-4d33-fd54-aa642cbadc2b"
      },
      "source": [
        "for _, c := range content.Data {\n",
        "\t\tfmt.Printf(\"E-mail: %v\\n\", c.Email)\n",
        "\t}"
      ],
      "execution_count": 18,
      "outputs": [
        {
          "output_type": "stream",
          "text": [
            "E-mail: george.bluth@reqres.in\n",
            "E-mail: janet.weaver@reqres.in\n",
            "E-mail: emma.wong@reqres.in\n",
            "E-mail: eve.holt@reqres.in\n",
            "E-mail: charles.morris@reqres.in\n",
            "E-mail: tracey.ramos@reqres.in\n"
          ],
          "name": "stdout"
        }
      ]
    },
    {
      "cell_type": "markdown",
      "metadata": {
        "id": "ZWedBzkAgfv9"
      },
      "source": [
        "# API deezer\n"
      ]
    },
    {
      "cell_type": "code",
      "metadata": {
        "id": "_QOhRhJ1i6FV"
      },
      "source": [
        "type artist struct{\n",
        "  id int `json:\"id\"`\n",
        "  name string `json:\"name\"`\n",
        "  nb_album int  `json:\"nb_album\"`\n",
        "  nb_fan int  `json:\"nb_fan\"`\n",
        "  radio bool  `json:\"bool\"`\n",
        "}\n",
        "\n",
        "type data_artist struct{\n",
        "  data [] artist `json:\"data\"`\n",
        "}\n",
        "\n",
        "type album struct{\n",
        "  id int `json:\"id\"`\n",
        "  title string `json:\"title\"`\n",
        "  link string `json:\"link\"`\n",
        "  cover string `json:\"cover\"`\n",
        "  genre_id int `json:\"genre_id\"`\n",
        "  release_date string `json:\"release_date\"`\n",
        "  record_type string `json:\"record_type\"`\n",
        "  explicit_lyrics bool `json:\"explicit_lyrics\"`\n",
        "}\n",
        "\n",
        "type data_albums struct{\n",
        "  data [] album `json:\"data\"`\n",
        "}"
      ],
      "execution_count": 127,
      "outputs": []
    },
    {
      "cell_type": "code",
      "metadata": {
        "id": "hxwRQLFpgljD"
      },
      "source": [
        "func get_artist(name string)data_artist{\n",
        "  url  := \"https://api.deezer.com/search/artist?q=\"\n",
        "  url += (strings.Join(strings.Split(name,\" \"),\"+\"))\n",
        "\n",
        "  resp, err := http.Get(url)\n",
        "  if err != nil {\n",
        "\t  fmt.Println(err)\n",
        "    \n",
        "  }\n",
        "\n",
        "  body, err := ioutil.ReadAll(resp.Body)\n",
        "\tif err != nil {\n",
        "\t\tfmt.Print(err)\n",
        "\t}\n",
        "  content := data_artist{}\n",
        "\n",
        "  err = json.Unmarshal(body, &content)\n",
        "  if err != nil {\n",
        "    fmt.Print(err)\n",
        "    \n",
        "  }\n",
        "  return content\n",
        "\n",
        "}"
      ],
      "execution_count": 132,
      "outputs": []
    },
    {
      "cell_type": "code",
      "metadata": {
        "id": "rCYd4MdDpKGt"
      },
      "source": [
        "func get_albuns(id_artist int)data_albums{\n",
        "  url  := \"https://api.deezer.com/artist/\"\n",
        "  url += strconv.Itoa(id_artist)\n",
        "  url += \"/albums\"\n",
        "\n",
        "\n",
        "  resp, err := http.Get(url)\n",
        "  if err != nil {\n",
        "\t  fmt.Println(err)\n",
        "    \n",
        "  }\n",
        "\n",
        "  body, err := ioutil.ReadAll(resp.Body)\n",
        "\tif err != nil {\n",
        "\t\tfmt.Print(err)\n",
        "\t}\n",
        "  content := data_albums{}\n",
        "\n",
        "  err = json.Unmarshal(body, &content)\n",
        "  if err != nil {\n",
        "    fmt.Print(err)\n",
        "    \n",
        "  }\n",
        "  return content\n",
        "} "
      ],
      "execution_count": 119,
      "outputs": []
    },
    {
      "cell_type": "code",
      "metadata": {
        "colab": {
          "base_uri": "https://localhost:8080/"
        },
        "id": "Ul3_qr8Msfy0",
        "outputId": "ea6f372a-c2c9-4e07-db75-0c0fc2ae6b5d"
      },
      "source": [
        "artist_to_find := \"mariah carey\"\n",
        "fmt.Print(\"Nome do artista: \")\n",
        "\n",
        "\n",
        "\n",
        "resp_artist := get_artist(artist_to_find)\n",
        "var selected_artist artist\n",
        "\n",
        "for _,c := range resp_artist.data{\n",
        "  if strings.ToLower(artist_to_find) == strings.ToLower(c.name){\n",
        "    selected_artist = c\n",
        "\n",
        "    break\n",
        "  }\n",
        "}\n",
        "\n",
        "albums := get_albuns(selected_artist.id)\n",
        "\n",
        "fmt.Println(\"ALBUNS ENCONTRADOS\")\n",
        "for _,a := range albums.data{\n",
        "  fmt.Println(\"Artista: \", selected_artist.name)\n",
        "  fmt.Println(\"Album: \", a.title)\n",
        "  fmt.Println(\"Link: \", a.link)\n",
        "  fmt.Println(\"Data de lancamento: \", a.release_date)\n",
        "  fmt.Println(\"Tipo de album\", a.record_type)\n",
        "  fmt.Println(\"\")\n",
        "  fmt.Println(\"\")\n",
        "}"
      ],
      "execution_count": 135,
      "outputs": [
        {
          "output_type": "stream",
          "text": [
            "Nome do artista: ALBUNS ENCONTRADOS\n",
            "Artista:  Mariah Carey\n",
            "Album:  Boy (I Need You) - EP\n",
            "Link:  https://www.deezer.com/album/200111842\n",
            "Data de lancamento:  2021-01-22\n",
            "Tipo de album album\n",
            "\n",
            "\n",
            "Artista:  Mariah Carey\n",
            "Album:  Mariah Carey's Magical Christmas Special (Apple TV+ Original Soundtrack)\n",
            "Link:  https://www.deezer.com/album/191117892\n",
            "Data de lancamento:  2020-12-04\n",
            "Tipo de album album\n",
            "\n",
            "\n",
            "Artista:  Mariah Carey\n",
            "Album:  The Rarities\n",
            "Link:  https://www.deezer.com/album/176237482\n",
            "Data de lancamento:  2020-10-02\n",
            "Tipo de album album\n",
            "\n",
            "\n",
            "Artista:  Mariah Carey\n",
            "Album:  The Live Debut - 1990\n",
            "Link:  https://www.deezer.com/album/159410042\n",
            "Data de lancamento:  2020-07-17\n",
            "Tipo de album album\n",
            "\n",
            "\n",
            "Artista:  Mariah Carey\n",
            "Album:  Merry Christmas (Deluxe Anniversary Edition)\n",
            "Link:  https://www.deezer.com/album/116411952\n",
            "Data de lancamento:  2019-11-01\n",
            "Tipo de album album\n",
            "\n",
            "\n",
            "Artista:  Mariah Carey\n",
            "Album:  Caution\n",
            "Link:  https://www.deezer.com/album/78614392\n",
            "Data de lancamento:  2018-11-16\n",
            "Tipo de album album\n",
            "\n",
            "\n",
            "Artista:  Mariah Carey\n",
            "Album:  #1 to Infinity\n",
            "Link:  https://www.deezer.com/album/10210900\n",
            "Data de lancamento:  2015-05-18\n",
            "Tipo de album album\n",
            "\n",
            "\n",
            "Artista:  Mariah Carey\n",
            "Album:  Me. I Am Mariah... The Elusive Chanteuse\n",
            "Link:  https://www.deezer.com/album/7815406\n",
            "Data de lancamento:  2014-05-27\n",
            "Tipo de album album\n",
            "\n",
            "\n",
            "Artista:  Mariah Carey\n",
            "Album:  Me. I Am Mariah…The Elusive Chanteuse (Deluxe)\n",
            "Link:  https://www.deezer.com/album/7815408\n",
            "Data de lancamento:  2014-05-27\n",
            "Tipo de album album\n",
            "\n",
            "\n",
            "Artista:  Mariah Carey\n",
            "Album:  Me. I Am Mariah…The Elusive Chanteuse\n",
            "Link:  https://www.deezer.com/album/7815424\n",
            "Data de lancamento:  2014-05-27\n",
            "Tipo de album album\n",
            "\n",
            "\n",
            "Artista:  Mariah Carey\n",
            "Album:  You're Mine (Eternal) (The Dance Remixes)\n",
            "Link:  https://www.deezer.com/album/7570153\n",
            "Data de lancamento:  2014-04-01\n",
            "Tipo de album album\n",
            "\n",
            "\n",
            "Artista:  Mariah Carey\n",
            "Album:  Triumphant (The Remixes)\n",
            "Link:  https://www.deezer.com/album/5748841\n",
            "Data de lancamento:  2012-09-04\n",
            "Tipo de album album\n",
            "\n",
            "\n",
            "Artista:  Mariah Carey\n",
            "Album:  Auld Lang Syne (The New Year's Anthem) The Remixes\n",
            "Link:  https://www.deezer.com/album/729622\n",
            "Data de lancamento:  2010-12-11\n",
            "Tipo de album album\n",
            "\n",
            "\n",
            "Artista:  Mariah Carey\n",
            "Album:  Merry Christmas II You\n",
            "Link:  https://www.deezer.com/album/697791\n",
            "Data de lancamento:  2010-01-01\n",
            "Tipo de album album\n",
            "\n",
            "\n",
            "Artista:  Mariah Carey\n",
            "Album:  Oh Santa! The Remixes\n",
            "Link:  https://www.deezer.com/album/729621\n",
            "Data de lancamento:  2010-01-01\n",
            "Tipo de album album\n",
            "\n",
            "\n",
            "Artista:  Mariah Carey\n",
            "Album:  I Want To Know What Love Is (The Remixes)\n",
            "Link:  https://www.deezer.com/album/422007\n",
            "Data de lancamento:  2009-01-01\n",
            "Tipo de album album\n",
            "\n",
            "\n",
            "Artista:  Mariah Carey\n",
            "Album:  I Stay In Love - EP\n",
            "Link:  https://www.deezer.com/album/208834022\n",
            "Data de lancamento:  2021-02-26\n",
            "Tipo de album album\n",
            "\n",
            "\n",
            "Artista:  Mariah Carey\n",
            "Album:  I'll Be Lovin' U Long Time - EP\n",
            "Link:  https://www.deezer.com/album/203592682\n",
            "Data de lancamento:  2021-02-05\n",
            "Tipo de album album\n",
            "\n",
            "\n",
            "Artista:  Mariah Carey\n",
            "Album:  E=MC2\n",
            "Link:  https://www.deezer.com/album/203592792\n",
            "Data de lancamento:  2021-02-05\n",
            "Tipo de album album\n",
            "\n",
            "\n",
            "Artista:  Mariah Carey\n",
            "Album:  Touch My Body - EP\n",
            "Link:  https://www.deezer.com/album/203589672\n",
            "Data de lancamento:  2021-02-05\n",
            "Tipo de album album\n",
            "\n",
            "\n",
            "Artista:  Mariah Carey\n",
            "Album:  Say Somethin' - EP\n",
            "Link:  https://www.deezer.com/album/201888102\n",
            "Data de lancamento:  2021-01-29\n",
            "Tipo de album album\n",
            "\n",
            "\n",
            "Artista:  Mariah Carey\n",
            "Album:  Don't Forget About Us - EP\n",
            "Link:  https://www.deezer.com/album/201888862\n",
            "Data de lancamento:  2021-01-29\n",
            "Tipo de album album\n",
            "\n",
            "\n",
            "Artista:  Mariah Carey\n",
            "Album:  The Emancipation Of Mimi (Ultra Platinum Edition)\n",
            "Link:  https://www.deezer.com/album/201887282\n",
            "Data de lancamento:  2021-01-29\n",
            "Tipo de album album\n",
            "\n",
            "\n",
            "Artista:  Mariah Carey\n",
            "Album:  We Belong Together - EP\n",
            "Link:  https://www.deezer.com/album/201889212\n",
            "Data de lancamento:  2021-01-29\n",
            "Tipo de album album\n",
            "\n",
            "\n",
            "Artista:  Mariah Carey\n",
            "Album:  It's Like That - EP\n",
            "Link:  https://www.deezer.com/album/201888782\n",
            "Data de lancamento:  2021-01-29\n",
            "Tipo de album album\n",
            "\n",
            "\n"
          ],
          "name": "stdout"
        }
      ]
    }
  ]
}