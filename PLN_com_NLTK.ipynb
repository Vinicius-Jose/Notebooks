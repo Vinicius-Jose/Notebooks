{
  "nbformat": 4,
  "nbformat_minor": 0,
  "metadata": {
    "colab": {
      "name": "PLN com NLTK.ipynb",
      "provenance": [],
      "collapsed_sections": [
        "OBYicV9qpR60",
        "Fm5uAGtyiYmv",
        "G4OIhByhidhf",
        "XCe_J1heiki4",
        "78PQCO5tiLAg",
        "jdv3a_1Mi1jT",
        "O6QpyTBnm91q"
      ],
      "mount_file_id": "106wJaByWg9UgRchnDpMBTB3o5H2kv010",
      "authorship_tag": "ABX9TyPQK+Fpv29iz1OADUjlpzSd",
      "include_colab_link": true
    },
    "kernelspec": {
      "display_name": "Python 3",
      "name": "python3"
    },
    "language_info": {
      "name": "python"
    }
  },
  "cells": [
    {
      "cell_type": "markdown",
      "metadata": {
        "id": "view-in-github",
        "colab_type": "text"
      },
      "source": [
        "<a href=\"https://colab.research.google.com/github/Vinicius-Jose/Notebooks/blob/main/PLN_com_NLTK.ipynb\" target=\"_parent\"><img src=\"https://colab.research.google.com/assets/colab-badge.svg\" alt=\"Open In Colab\"/></a>"
      ]
    },
    {
      "cell_type": "markdown",
      "metadata": {
        "id": "OBYicV9qpR60"
      },
      "source": [
        "## Importando NLTK e Tokenizer"
      ]
    },
    {
      "cell_type": "code",
      "metadata": {
        "id": "4KQtMKcBH1tN"
      },
      "source": [
        "import nltk"
      ],
      "execution_count": null,
      "outputs": []
    },
    {
      "cell_type": "code",
      "metadata": {
        "id": "zG4-3ZPBStp1"
      },
      "source": [
        "from nltk.tokenize import RegexpTokenizer"
      ],
      "execution_count": null,
      "outputs": []
    },
    {
      "cell_type": "code",
      "metadata": {
        "id": "9jUoHViZKQcH"
      },
      "source": [
        "\n",
        "nltk.download()"
      ],
      "execution_count": null,
      "outputs": []
    },
    {
      "cell_type": "code",
      "metadata": {
        "colab": {
          "base_uri": "https://localhost:8080/"
        },
        "id": "gKj4t6Y0LISH",
        "outputId": "e33b3e78-8a12-4882-e192-7986cd3e519d"
      },
      "source": [
        "nltk.corpus.mac_morpho.words()\n"
      ],
      "execution_count": null,
      "outputs": [
        {
          "data": {
            "text/plain": [
              "['Jersei', 'atinge', 'média', 'de', 'Cr$', '1,4', ...]"
            ]
          },
          "execution_count": 29,
          "metadata": {},
          "output_type": "execute_result"
        }
      ]
    },
    {
      "cell_type": "code",
      "metadata": {
        "colab": {
          "base_uri": "https://localhost:8080/"
        },
        "id": "hI74iIIkN0ir",
        "outputId": "e2e4aa15-e13e-4d59-f102-250c9120edd3"
      },
      "source": [
        "nltk.corpus.mac_morpho.sents()\n"
      ],
      "execution_count": null,
      "outputs": [
        {
          "data": {
            "text/plain": [
              "[['Jersei', 'atinge', 'média', 'de', 'Cr$', '1,4', 'milhão', 'em', 'a', 'venda', 'de', 'a', 'Pinhal', 'em', 'São', 'Paulo'], ['Programe', 'sua', 'viagem', 'a', 'a', 'Exposição', 'Nacional', 'do', 'Zebu', ',', 'que', 'começa', 'dia', '25'], ...]"
            ]
          },
          "execution_count": 5,
          "metadata": {},
          "output_type": "execute_result"
        }
      ]
    },
    {
      "cell_type": "code",
      "metadata": {
        "colab": {
          "base_uri": "https://localhost:8080/"
        },
        "id": "jsPJBLMUOaCN",
        "outputId": "2d1015f6-4abd-4fcd-90f7-7ef250bdf60f"
      },
      "source": [
        "nltk.corpus.mac_morpho.tagged_words()[599]"
      ],
      "execution_count": null,
      "outputs": [
        {
          "data": {
            "text/plain": [
              "('a', 'ART')"
            ]
          },
          "execution_count": 6,
          "metadata": {},
          "output_type": "execute_result"
        }
      ]
    },
    {
      "cell_type": "markdown",
      "metadata": {
        "id": "Fm5uAGtyiYmv"
      },
      "source": [
        "## Tokenizaçao de texto\n"
      ]
    },
    {
      "cell_type": "code",
      "metadata": {
        "colab": {
          "base_uri": "https://localhost:8080/"
        },
        "id": "cAFsZHMbOtzM",
        "outputId": "b8a935d8-943e-4b7b-c5f4-cb8ec05d9d17"
      },
      "source": [
        "texto = 'O Milwaukee Bucks é um time de basquete profissional americano sediado em Milwaukee. Os Bucks competem na National Basketball Association como membro da Divisão Central da Conferência Leste. A equipe foi fundada em 1968 como uma equipe de expansão.'\n",
        "nltk.word_tokenize(texto)"
      ],
      "execution_count": null,
      "outputs": [
        {
          "data": {
            "text/plain": [
              "['O',\n",
              " 'Milwaukee',\n",
              " 'Bucks',\n",
              " 'é',\n",
              " 'um',\n",
              " 'time',\n",
              " 'de',\n",
              " 'basquete',\n",
              " 'profissional',\n",
              " 'americano',\n",
              " 'sediado',\n",
              " 'em',\n",
              " 'Milwaukee',\n",
              " '.',\n",
              " 'Os',\n",
              " 'Bucks',\n",
              " 'competem',\n",
              " 'na',\n",
              " 'National',\n",
              " 'Basketball',\n",
              " 'Association',\n",
              " 'como',\n",
              " 'membro',\n",
              " 'da',\n",
              " 'Divisão',\n",
              " 'Central',\n",
              " 'da',\n",
              " 'Conferência',\n",
              " 'Leste',\n",
              " '.',\n",
              " 'A',\n",
              " 'equipe',\n",
              " 'foi',\n",
              " 'fundada',\n",
              " 'em',\n",
              " '1968',\n",
              " 'como',\n",
              " 'uma',\n",
              " 'equipe',\n",
              " 'de',\n",
              " 'expansão',\n",
              " '.']"
            ]
          },
          "execution_count": 7,
          "metadata": {},
          "output_type": "execute_result"
        }
      ]
    },
    {
      "cell_type": "code",
      "metadata": {
        "colab": {
          "base_uri": "https://localhost:8080/"
        },
        "id": "i0H9d1I9Ust2",
        "outputId": "9722d5ea-6d5a-4600-aa14-9554ccd34814"
      },
      "source": [
        "tokenizer = RegexpTokenizer(r'[A-z]\\w+')\n",
        "tokens = tokenizer.tokenize(texto)\n",
        "print(tokens)"
      ],
      "execution_count": null,
      "outputs": [
        {
          "name": "stdout",
          "output_type": "stream",
          "text": [
            "['Milwaukee', 'Bucks', 'um', 'time', 'de', 'basquete', 'profissional', 'americano', 'sediado', 'em', 'Milwaukee', 'Os', 'Bucks', 'competem', 'na', 'National', 'Basketball', 'Association', 'como', 'membro', 'da', 'Divisão', 'Central', 'da', 'Conferência', 'Leste', 'equipe', 'foi', 'fundada', 'em', 'como', 'uma', 'equipe', 'de', 'expansão']\n"
          ]
        }
      ]
    },
    {
      "cell_type": "code",
      "metadata": {
        "colab": {
          "base_uri": "https://localhost:8080/"
        },
        "id": "mPwJcxYiVZlh",
        "outputId": "a9e0e904-efe3-4b23-ef3c-bd417d01bc36"
      },
      "source": [
        "tokens = nltk.word_tokenize(texto)\n",
        "frequencia = nltk.FreqDist(tokens)\n",
        "print(frequencia.most_common(10))"
      ],
      "execution_count": null,
      "outputs": [
        {
          "name": "stdout",
          "output_type": "stream",
          "text": [
            "[('.', 3), ('Milwaukee', 2), ('Bucks', 2), ('de', 2), ('em', 2), ('como', 2), ('da', 2), ('equipe', 2), ('O', 1), ('é', 1)]\n"
          ]
        }
      ]
    },
    {
      "cell_type": "code",
      "metadata": {
        "colab": {
          "base_uri": "https://localhost:8080/"
        },
        "id": "D4oY445sZKSY",
        "outputId": "724a7734-18f5-45d6-cc48-43f5f0bf5cfb"
      },
      "source": [
        "corpus = open('/content/texto.txt').read()\n",
        "#Tokenizer do NLTK\n",
        "tokens = nltk.word_tokenize(corpus)\n",
        "frequencia = nltk.FreqDist(tokens)\n",
        "print(frequencia.most_common(10))\n",
        "\n",
        "# Tonkenizer criado\n",
        "tokens_tokenizer = tokenizer.tokenize(corpus)\n",
        "frequencia = nltk.FreqDist(tokens_tokenizer)\n",
        "print(frequencia.most_common(10))\n"
      ],
      "execution_count": null,
      "outputs": [
        {
          "name": "stdout",
          "output_type": "stream",
          "text": [
            "[(',', 220), ('de', 201), ('.', 158), ('o', 100), ('a', 98), ('Bucks', 84), ('da', 78), ('e', 77), ('[', 72), (']', 72)]\n",
            "[('de', 201), ('Bucks', 84), ('da', 78), ('em', 69), ('os', 64), ('temporada', 50), ('para', 48), ('uma', 43), ('com', 43), ('equipe', 42)]\n"
          ]
        }
      ]
    },
    {
      "cell_type": "markdown",
      "metadata": {
        "id": "G4OIhByhidhf"
      },
      "source": [
        "## Palavras mais frequentes em um texto"
      ]
    },
    {
      "cell_type": "code",
      "metadata": {
        "colab": {
          "base_uri": "https://localhost:8080/"
        },
        "id": "wvFFdN3tcYTu",
        "outputId": "b1a21363-4147-453f-c5df-8565c4fdb4ca"
      },
      "source": [
        "nova_lista =[x.lower() for x in tokens_tokenizer]\n",
        "frequencia = nltk.FreqDist(nova_lista)\n",
        "print(frequencia.most_common())\n"
      ],
      "execution_count": null,
      "outputs": [
        {
          "name": "stdout",
          "output_type": "stream",
          "text": [
            "[('de', 202), ('em', 95), ('os', 84), ('bucks', 84), ('da', 78), ('temporada', 52), ('para', 48), ('na', 46), ('com', 45), ('uma', 43), ('equipe', 42), ('que', 39), ('um', 37), ('do', 36), ('foi', 27), ('no', 26), ('nba', 24), ('se', 24), ('por', 23), ('dos', 22), ('milwaukee', 19), ('recorde', 19), ('playoffs', 18), ('seu', 17), ('eles', 16), ('primeira', 15), ('jogos', 15), ('sua', 14), ('como', 13), ('após', 13), ('mais', 12), ('arena', 12), ('nos', 12), ('era', 11), ('anos', 11), ('mas', 11), ('durante', 11), ('pelos', 11), ('não', 11), ('novo', 10), ('ao', 10), ('depois', 10), ('jogo', 10), ('draft', 10), ('abdul', 10), ('jabbar', 10), ('história', 10), ('leste', 10), ('foram', 10), ('nova', 10), ('pelo', 10), ('franquia', 9), ('pistons', 9), ('conferência', 9), ('divisão', 9), ('geral', 9), ('time', 8), ('primeiro', 8), ('terminaram', 8), ('troca', 8), ('técnico', 8), ('antetokounmpo', 8), ('contra', 7), ('detroit', 7), ('as', 7), ('jogadores', 7), ('pela', 7), ('bradley', 7), ('desde', 7), ('giannis', 7), ('segunda', 6), ('temporadas', 6), ('ano', 6), ('escolha', 6), ('melhor', 6), ('liga', 6), ('celtics', 6), ('vitórias', 6), ('nas', 6), ('finais', 6), ('maior', 6), ('los', 6), ('treinador', 6), ('rodada', 6), ('us', 6), ('aos', 6), ('center', 6), ('wisconsin', 5), ('anterior', 5), ('atlanta', 5), ('venceram', 5), ('apenas', 5), ('tiveram', 5), ('seis', 5), ('terceira', 5), ('abril', 5), ('começou', 5), ('terminou', 5), ('junho', 5), ('vender', 5), ('larry', 5), ('jogando', 5), ('seattle', 5), ('kohl', 5), ('michael', 5), ('harris', 5), ('karl', 5), ('sob', 5), ('bogut', 5), ('milhões', 5), ('nome', 4), ('parte', 4), ('hawks', 4), ('quatro', 4), ('regular', 4), ('dificuldade', 4), ('quando', 4), ('seus', 4), ('alcindor', 4), ('suas', 4), ('atrás', 4), ('boston', 4), ('título', 4), ('década', 4), ('perdeu', 4), ('final', 4), ('lesões', 4), ('série', 4), ('fez', 4), ('perderam', 4), ('ele', 4), ('fitzgerald', 4), ('tornou', 4), ('selecionaram', 4), ('eliminados', 4), ('uniformes', 4), ('fora', 4), ('havia', 4), ('sete', 4), ('esse', 4), ('período', 4), ('vez', 4), ('gerente', 4), ('redd', 4), ('quadra', 4), ('jennings', 4), ('kidd', 4), ('público', 4), ('janeiro', 3), ('participação', 3), ('cervo', 3), ('início', 3), ('antes', 3), ('chicago', 3), ('bulls', 3), ('das', 3), ('equipes', 3), ('expansão', 3), ('vitória', 3), ('metade', 3), ('vencer', 3), ('york', 3), ('melhoria', 3), ('ers', 3), ('cinco', 3), ('semifinais', 3), ('presente', 3), ('big', 3), ('ainda', 3), ('tornaram', 3), ('angeles', 3), ('lakers', 3), ('isso', 3), ('queria', 3), ('jogar', 3), ('cidade', 3), ('ou', 3), ('jim', 3), ('benson', 3), ('moncrief', 3), ('ambos', 3), ('conquistou', 3), ('títulos', 3), ('deu', 3), ('chegada', 3), ('terry', 3), ('supersonics', 3), ('sendo', 3), ('cores', 3), ('vermelho', 3), ('herb', 3), ('anunciaram', 3), ('bmo', 3), ('mike', 3), ('robinson', 3), ('ray', 3), ('allen', 3), ('também', 3), ('contratou', 3), ('mason', 3), ('tornando', 3), ('selecionou', 3), ('classificaram', 3), ('ex', 3), ('brandon', 3), ('vaga', 3), ('comando', 3), ('jason', 3), ('julho', 3), ('blake', 3), ('concurso', 2), ('fãs', 2), ('enquanto', 2), ('estado', 2), ('referência', 2), ('recebeu', 2), ('eram', 2), ('retorno', 2), ('jogou', 2), ('outubro', 2), ('sexto', 2), ('seria', 2), ('seguinte', 2), ('conclusão', 2), ('lew', 2), ('guerra', 2), ('lo', 2), ('kareem', 2), ('segundo', 2), ('new', 2), ('knicks', 2), ('até', 2), ('philadelphia', 2), ('ganhou', 2), ('prêmio', 2), ('robertson', 2), ('negociação', 2), ('poca', 2), ('rápido', 2), ('norte', 2), ('americano', 2), ('mudou', 2), ('venceu', 2), ('warriors', 2), ('consecutiva', 2), ('fazer', 2), ('duas', 2), ('mão', 2), ('derrotas', 2), ('anúncio', 2), ('conseguiram', 2), ('mudança', 2), ('donos', 2), ('ações', 2), ('embora', 2), ('fosse', 2), ('transição', 2), ('desses', 2), ('continuaria', 2), ('vários', 2), ('parceiros', 2), ('don', 2), ('nelson', 2), ('marques', 2), ('johnson', 2), ('ernie', 2), ('grunfeld', 2), ('novato', 2), ('sidney', 2), ('dois', 2), ('próximos', 2), ('forma', 2), ('novamente', 2), ('conquistaram', 2), ('perder', 2), ('forte', 2), ('entanto', 2), ('chegar', 2), ('verde', 2), ('eliminaram', 2), ('mudanças', 2), ('dono', 2), ('investidores', 2), ('estavam', 2), ('futuro', 2), ('comprar', 2), ('la', 2), ('pettit', 2), ('maio', 2), ('toni', 2), ('kukoč', 2), ('ford', 2), ('consecutivas', 2), ('glenn', 2), ('adquiriu', 2), ('logotipo', 2), ('antigo', 2), ('three', 2), ('procurou', 2), ('operações', 2), ('basquete', 2), ('george', 2), ('cassell', 2), ('criou', 2), ('chegou', 2), ('papel', 2), ('lutou', 2), ('teve', 2), ('campanha', 2), ('fevereiro', 2), ('março', 2), ('ltimo', 2), ('entre', 2), ('usada', 2), ('payton', 2), ('tempo', 2), ('sucesso', 2), ('derrotados', 2), ('andrew', 2), ('primeiros', 2), ('principais', 2), ('contrato', 2), ('presidente', 2), ('joe', 2), ('alexander', 2), ('jogador', 2), ('the', 2), ('resto', 2), ('jackson', 2), ('skiles', 2), ('demitiu', 2), ('boylan', 2), ('anunciado', 2), ('miami', 2), ('heat', 2), ('drew', 2), ('wes', 2), ('edens', 2), ('marc', 2), ('lasry', 2), ('ser', 2), ('onde', 2), ('partida', 2), ('novas', 2), ('toronto', 2), ('raptors', 2), ('prunty', 2), ('budenholzer', 2), ('agosto', 2), ('mvp', 2), ('playoff', 2), ('assassinato', 2), ('concedeu', 1), ('professional', 1), ('sports', 1), ('and', 1), ('services', 1), ('inc', 1), ('pro', 1), ('grupo', 1), ('liderado', 1), ('wesley', 1), ('pavalon', 1), ('marvin', 1), ('fishman', 1), ('realizado', 1), ('nomear', 1), ('[4', 1), ('votada', 1), ('robins', 1), ('batizada', 1), ('ave', 1), ('juízes', 1), ('escolheram', 1), ('opção', 1), ('popular', 1), ('animal', 1), ('selvagem', 1), ('oficial', 1), ('cauda', 1), ('branca', 1), ('fã', 1), ('trebilcox', 1), ('carro', 1), ('raciocínio', 1), ('bom', 1), ('dizendo', 1), ('espirituosos', 1), ('bons', 1), ('saltadores', 1), ('rápidos', 1), ('geis', 1), ('[5', 1), ('marcaram', 1), ('mudar', 1), ('st', 1), ('louis', 1), ('agora', 1), ('está', 1), ('jogaram', 1), ('diante', 1), ('multidão', 1), ('[6', 1), ('típico', 1), ('ocorreu', 1), ('[7', 1), ('[8', 1), ('naquele', 1), ('rendeu', 1), ('lhes', 1), ('moeda', 1), ('primos', 1), ('phoenix', 1), ('suns', 1), ('ver', 1), ('quem', 1), ('escolher', 1), ('considerou', 1), ('precipitada', 1), ('ucla', 1), ('sorteio', 1), ('lances', 1), ('novíssima', 1), ('american', 1), ('basketball', 1), ('association', 1), ('aba', 1), ('protegê', 1), ('[9', 1), ('obteve', 1), ('média', 1), ('pontos', 1), ('rebotes', 1), ('apesar', 1), ('golpe', 1), ('sorte', 1), ('desembarque', 1), ('ninguém', 1), ('esperava', 1), ('aconteceu', 1), ('reversão', 1), ('quase', 1), ('exata', 1), ('boa', 1), ('suficiente', 1), ('registro', 1), ('[10', 1), ('duraria', 1), ('saltasse', 1), ('derrotaram', 1), ('[11', 1), ('despachados', 1), ('[12', 1), ('denovato', 1), ('[13', 1), ('membro', 1), ('receberam', 1), ('inesperado', 1), ('adquirir', 1), ('oscar', 1), ('conhecido', 1), ('cincinnati', 1), ('royals', 1), ('[14', 1), ('varrendo', 1), ('baltimore', 1), ('bullets', 1), ('[15', 1), ('esporte', 1), ('campeonato', 1), ('permaneceram', 1), ('potência', 1), ('converteu', 1), ('islã', 1), ('[16', 1), ('[17', 1), ('resultaram', 1), ('saída', 1), ('antecipada', 1), ('[18', 1), ('voltaram', 1), ('[19', 1), ('famoso', 1), ('arremesso', 1), ('sky', 1), ('hook', 1), ('encerrar', 1), ('clássica', 1), ('prorrogações', 1), ('sofreu', 1), ('lesão', 1), ('outras', 1), ('ocorreram', 1), ('enviando', 1), ('fundo', 1), ('[20', 1), ('impressionante', 1), ('desejando', 1), ('solicitou', 1), ('diretores', 1), ('convencê', 1), ('contrário', 1), ('conseguiu', 1), ('mega', 1), ('enviar', 1), ('elmore', 1), ('smith', 1), ('junior', 1), ('bridgeman', 1), ('brian', 1), ('winters', 1), ('david', 1), ('meyers', 1), ('desencadeou', 1), ('eventos', 1), ('levaram', 1), ('proprietário', 1), ('minoritário', 1), ('opôs', 1), ('acionista', 1), ('nico', 1), ('possuía', 1), ('suficientes', 1), ('controlar', 1), ('acordo', 1), ('várias', 1), ('maioria', 1), ('ajudando', 1), ('vendido', 1), ('entrariam', 1), ('outra', 1), ('grandeza', 1), ('tudo', 1), ('novembro', 1), ('costello', 1), ('renunciou', 1), ('abruptamente', 1), ('três', 1), ('escolhas', 1), ('kent', 1), ('[21', 1), ('estreou', 1), ('prêmios', 1), ('[22', 1), ('[23', 1), ('soco', 1), ('quebrou', 1), ('processo', 1), ('multado', 1), ('[24', 1), ('nunca', 1), ('tão', 1), ('agressiva', 1), ('trocou', 1), ('veterano', 1), ('bob', 1), ('lanier', 1), ('centro', 1), ('oeste', 1), ('[25', 1), ('[26', 1), ('mudaram', 1), ('central', 1), ('seguintes', 1), ('ganharam', 1), ('consecutivos', 1), ('nesses', 1), ('perenes', 1), ('candidatos', 1), ('principalmente', 1), ('devido', 1), ('desempenho', 1), ('paul', 1), ('pressey', 1), ('craig', 1), ('hodges', 1), ('cummings', 1), ('ricky', 1), ('pierce', 1), ('jack', 1), ('sikma', 1), ('negociações', 1), ('clippers', 1), ('respectivamente', 1), ('sixers', 1), ('[27', 1), ('[28', 1), ('[29', 1), ('grande', 1), ('floresta', 1), ('escuro', 1), ('branco', 1), ('adicionaram', 1), ('tons', 1), ('decidiram', 1), ('estava', 1), ('problemas', 1), ('saúde', 1), ('alguns', 1), ('queriam', 1), ('sair', 1), ('menor', 1), ('construir', 1), ('empresário', 1), ('senador', 1), ('comprou', 1), ('temer', 1), ('pudessem', 1), ('removê', 1), ('transação', 1), ('lloyd', 1), ('esposa', 1), ('jane', 1), ('doando', 1), ('chamada', 1), ('considerar', 1), ('anunciou', 1), ('decidido', 1), ('jordan', 1), ('possuí', 1), ('melhorá', 1), ('comprometê', 1), ('permanecer', 1), ('direitos', 1), ('nomeação', 1), ('vendidos', 1), ('bank', 1), ('herdeiros', 1), ('fortuna', 1), ('deram', 1), ('aprovação', 1), ('renomeada', 1), ('[30', 1), ('atolada', 1), ('mediocridade', 1), ('comandada', 1), ('treinadores', 1), ('frank', 1), ('hamblen', 1), ('dunleavy', 1), ('chris', 1), ('sofreram', 1), ('[31', 1), ('minnesota', 1), ('timberwolves', 1), ('teriam', 1), ('papéis', 1), ('proeminentes', 1), ('ressurgimento', 1), ('aniversário', 1), ('revisou', 1), ('apresentava', 1), ('desenho', 1), ('animado', 1), ('substituído', 1), ('realista', 1), ('esquema', 1), ('primárias', 1), ('alterado', 1), ('suplantado', 1), ('roxo', 1), ('roxos', 1), ('substituíram', 1), ('antigos', 1), ('verdes', 1), ('conseguindo', 1), ('ir', 1), ('sétima', 1), ('[32', 1), ('morando', 1), ('baixo', 1), ('classificação', 1), ('dar', 1), ('credibilidade', 1), ('chegado', 1), ('liderança', 1), ('constante', 1), ('adição', 1), ('talentos', 1), ('tim', 1), ('thomas', 1), ('sam', 1), ('elite', 1), ('núcleo', 1), ('constituído', 1), ('junto', 1), ('renascimento', 1), ('bem', 1), ('sucedida', 1), ('atingiu', 1), ('apogeu', 1), ('vencendo', 1), ('[33', 1), ('[34', 1), ('acréscimos', 1), ('importantes', 1), ('colocar', 1), ('trás', 1), ('incentivo', 1), ('anthony', 1), ('essa', 1), ('favorito', 1), ('peso', 1), ('encontrar', 1), ('meio', 1), ('quarta', 1), ('caiu', 1), ('colapso', 1), ('culminou', 1), ('derrota', 1), ('eliminou', 1), ('queda', 1), ('tensão', 1), ('resultando', 1), ('seleção', 1), ('selecionar', 1), ('trocaram', 1), ('ronald', 1), ('murray', 1), ('gary', 1), ('desmond', 1), ('negócio', 1), ('permitiu', 1), ('astro', 1), ('emergente', 1), ('visse', 1), ('aumento', 1), ('defesa', 1), ('[35', 1), ('jersey', 1), ('nets', 1), ('[36', 1), ('responsáveis', 1), ('direção', 1), ('enfrentaram', 1), ('inconsistências', 1), ('chegaram', 1), ('vezes', 1), ('porter', 1), ('[37', 1), ('stotts', 1), ('[38', 1), ('casos', 1), ('transformou', 1), ('estrela', 1), ('rosto', 1), ('[39', 1), ('contribuintes', 1), ('todos', 1), ('times', 1), ('[40', 1), ('renovariam', 1), ('expiraria', 1), ('john', 1), ('hammond', 1), ('vice', 1), ('dando', 1), ('diretor', 1), ('recentemente', 1), ('associado', 1), ('[41', 1), ('virgínia', 1), ('ocidental', 1), ('oitava', 1), ('[42', 1), ('nascido', 1), ('taiwan', 1), ('armador', 1), ('feito', 1), ('universidade', 1), ('jogado', 1), ('itália', 1), ('[43', 1), ('juntamente', 1), ('ersan', 1), ('lyasova', 1), ('fizeram', 1), ('candidato', 1), ('sobre', 1), ('frase', 1), ('fear', 1), ('deer', 1), ('provavelmente', 1), ('feita', 1), ('comentarista', 1), ('espn', 1), ('adotada', 1), ('fóruns', 1), ('grito', 1), ('[44', 1), ('[45', 1), ('[46', 1), ('ponto', 1), ('longe', 1), ('pós', 1), ('nono', 1), ('alcance', 1), ('[47', 1), ('stephen', 1), ('brigando', 1), ('scott', 1), ('decidiu', 1), ('trocar', 1), ('horas', 1), ('prazo', 1), ('mandaram', 1), ('golden', 1), ('state', 1), ('monta', 1), ('ellis', 1), ('ekpe', 1), ('udoh', 1), ('kwame', 1), ('brown', 1), ('interino', 1), ('levou', 1), ('[48', 1), ('rapidamente', 1), ('[49', 1), ('dispensado', 1), ('funções', 1), ('contratado', 1), ('grego', 1), ('[50', 1), ('tinham', 1), ('tendo', 1), ('pior', 1), ('recorda', 1), ('[51', 1), ('concordou', 1), ('majoritária', 1), ('bilionários', 1), ('mantém', 1), ('minoritária', 1), ('significativa', 1), ('[52', 1), ('espera', 1), ('novos', 1), ('proprietários', 1), ('mantenham', 1), ('contribuiriam', 1), ('construção', 1), ('jabari', 1), ('parker', 1), ('duke', 1), ('[53', 1), ('muitas', 1), ('dentro', 1), ('slogan', 1), ('own', 1), ('future', 1), ('[54', 1), ('relação', 1), ('eliminado', 1), ('[55', 1), ('peter', 1), ('feigin', 1), ('declarou', 1), ('financiamento', 1), ('cair', 1), ('poderá', 1), ('transferi', 1), ('las', 1), ('vegas', 1), ('atuais', 1), ('jamie', 1), ('dinan', 1), ('combinaram', 1), ('prometer', 1), ('buscaram', 1), ('fundos', 1), ('viriam', 1), ('district', 1), ('dívidas', 1), ('cidadãos', 1), ('distrito', 1), ('começaria', 1), ('reembolsar', 1), ('[56', 1), ('solidificado', 1), ('senado', 1), ('votoua', 1), ('favor', 1), ('proposta', 1), ('uso', 1), ('dinheiro', 1), ('ajudar', 1), ('financiar', 1), ('substituiria', 1), ('antiga', 1), ('oracle', 1), ('madison', 1), ('square', 1), ('garden', 1), ('inaugurado', 1), ('sido', 1), ('usado', 1), ('[57', 1), ('[58', 1), ('elenco', 1), ('jovem', 1), ('passo', 1), ('alcançando', 1), ('tenha', 1), ('tido', 1), ('melhora', 1), ('encorajadora', 1), ('acumulando', 1), ('triplos', 1), ('duplos', 1), ('[59', 1), ('setembro', 1), ('concordaram', 1), ('extensão', 1), ('além', 1), ('disso', 1), ('acrescentaria', 1), ('melhorias', 1), ('conquistando', 1), ('charlotte', 1), ('hornets', 1), ('vencedora', 1), ('[60', 1), ('quinto', 1), ('liderar', 1), ('categorias', 1), ('estatísticas', 1), ('terminar', 1), ('cada', 1), ('categoria', 1), ('abertura', 1), ('[61', 1), ('tinha', 1), ('assistente', 1), ('substituto', 1), ('caráter', 1), ('provisório', 1), ('levando', 1), ('[62', 1), ('[63', 1), ('[64', 1), ('fiserv', 1), ('forum', 1), ('aberta', 1), ('quinta', 1), ('[65', 1), ('igualando', 1), ('garantiu', 1), ('vantagem', 1), ('casa', 1), ('qualquer', 1), ('milênio', 1), ('[66', 1), ('[67', 1), ('eventual', 1), ('campeão', 1), ('[68', 1), ('nomeado', 1), ('conquistar', 1), ('lugar', 1), ('medido', 1), ('número', 1), ('disputados', 1), ('data', 1), ('calendário', 1), ('formato', 1), ('[69', 1), ('suspensão', 1), ('convidadas', 1), ('bolha', 1), ('participar', 1), ('ltimos', 1), ('[70', 1), ('recusaram', 1), ('orlando', 1), ('magic', 1), ('jacob', 1), ('polícia', 1), ('[71', 1), ('[72', 1), ('consecutivo', 1), ('[73', 1), ('[74', 1), ('posse', 1), ('ambas', 1), ('ajoelharam', 1), ('protesto', 1), ('acusações', 1), ('criminais', 1), ('seriam', 1), ('feitas', 1), ('policiais', 1), ('seguraram', 1), ('bola', 1), ('segundos', 1), ('tiros', 1), ('[75', 1)]\n"
          ]
        }
      ]
    },
    {
      "cell_type": "markdown",
      "metadata": {
        "id": "XCe_J1heiki4"
      },
      "source": [
        "## Removendo stopwords do texto"
      ]
    },
    {
      "cell_type": "code",
      "metadata": {
        "id": "7A3X1YXafOPo"
      },
      "source": [
        "# Capturando as stopwords(de, para, o , a ...)\n",
        "stopped = nltk.corpus.stopwords.words('portuguese')"
      ],
      "execution_count": null,
      "outputs": []
    },
    {
      "cell_type": "code",
      "metadata": {
        "colab": {
          "base_uri": "https://localhost:8080/"
        },
        "id": "2ibALvp7f2cZ",
        "outputId": "306a3746-1cc7-41bd-ea31-41ff9ebbd4cc"
      },
      "source": [
        "nova_lista =[x.lower() for x in tokens_tokenizer if x not in stopped] \n",
        "frequencia = nltk.FreqDist(nova_lista)\n",
        "print(frequencia.most_common())\n"
      ],
      "execution_count": null,
      "outputs": [
        {
          "name": "stdout",
          "output_type": "stream",
          "text": [
            "[('bucks', 84), ('temporada', 52), ('equipe', 42), ('em', 26), ('nba', 24), ('os', 20), ('milwaukee', 19), ('recorde', 19), ('playoffs', 18), ('primeira', 15), ('jogos', 15), ('após', 13), ('arena', 12), ('anos', 11), ('durante', 11), ('novo', 10), ('jogo', 10), ('draft', 10), ('abdul', 10), ('jabbar', 10), ('história', 10), ('leste', 10), ('nova', 10), ('franquia', 9), ('pistons', 9), ('na', 9), ('conferência', 9), ('divisão', 9), ('geral', 9), ('time', 8), ('primeiro', 8), ('terminaram', 8), ('troca', 8), ('técnico', 8), ('antetokounmpo', 8), ('contra', 7), ('detroit', 7), ('eles', 7), ('no', 7), ('jogadores', 7), ('bradley', 7), ('desde', 7), ('giannis', 7), ('segunda', 6), ('temporadas', 6), ('ano', 6), ('escolha', 6), ('era', 6), ('melhor', 6), ('liga', 6), ('celtics', 6), ('vitórias', 6), ('finais', 6), ('maior', 6), ('los', 6), ('treinador', 6), ('rodada', 6), ('us', 6), ('center', 6), ('wisconsin', 5), ('anterior', 5), ('atlanta', 5), ('venceram', 5), ('apenas', 5), ('seis', 5), ('terceira', 5), ('abril', 5), ('começou', 5), ('terminou', 5), ('junho', 5), ('vender', 5), ('larry', 5), ('jogando', 5), ('seattle', 5), ('kohl', 5), ('michael', 5), ('harris', 5), ('karl', 5), ('sob', 5), ('bogut', 5), ('milhões', 5), ('nome', 4), ('parte', 4), ('hawks', 4), ('quatro', 4), ('regular', 4), ('dificuldade', 4), ('alcindor', 4), ('atrás', 4), ('boston', 4), ('título', 4), ('década', 4), ('perdeu', 4), ('final', 4), ('lesões', 4), ('série', 4), ('fez', 4), ('perderam', 4), ('fitzgerald', 4), ('tornou', 4), ('selecionaram', 4), ('eliminados', 4), ('uniformes', 4), ('havia', 4), ('sete', 4), ('período', 4), ('vez', 4), ('gerente', 4), ('redd', 4), ('quadra', 4), ('jennings', 4), ('kidd', 4), ('público', 4), ('janeiro', 3), ('participação', 3), ('cervo', 3), ('início', 3), ('antes', 3), ('chicago', 3), ('bulls', 3), ('equipes', 3), ('expansão', 3), ('vitória', 3), ('metade', 3), ('vencer', 3), ('york', 3), ('melhoria', 3), ('ers', 3), ('cinco', 3), ('semifinais', 3), ('presente', 3), ('big', 3), ('ainda', 3), ('tornaram', 3), ('angeles', 3), ('lakers', 3), ('queria', 3), ('jogar', 3), ('cidade', 3), ('jim', 3), ('depois', 3), ('benson', 3), ('moncrief', 3), ('ambos', 3), ('conquistou', 3), ('títulos', 3), ('deu', 3), ('chegada', 3), ('terry', 3), ('supersonics', 3), ('sendo', 3), ('cores', 3), ('vermelho', 3), ('herb', 3), ('anunciaram', 3), ('bmo', 3), ('mike', 3), ('robinson', 3), ('ray', 3), ('allen', 3), ('contratou', 3), ('mason', 3), ('tornando', 3), ('selecionou', 3), ('classificaram', 3), ('ex', 3), ('brandon', 3), ('vaga', 3), ('comando', 3), ('jason', 3), ('julho', 3), ('blake', 3), ('um', 2), ('concurso', 2), ('fãs', 2), ('enquanto', 2), ('estado', 2), ('referência', 2), ('recebeu', 2), ('retorno', 2), ('jogou', 2), ('outubro', 2), ('sua', 2), ('sexto', 2), ('seguinte', 2), ('conclusão', 2), ('lew', 2), ('guerra', 2), ('lo', 2), ('kareem', 2), ('segundo', 2), ('new', 2), ('knicks', 2), ('philadelphia', 2), ('ganhou', 2), ('prêmio', 2), ('robertson', 2), ('negociação', 2), ('poca', 2), ('rápido', 2), ('norte', 2), ('americano', 2), ('mudou', 2), ('venceu', 2), ('warriors', 2), ('consecutiva', 2), ('fazer', 2), ('duas', 2), ('quando', 2), ('mão', 2), ('derrotas', 2), ('anúncio', 2), ('conseguiram', 2), ('mudança', 2), ('donos', 2), ('ações', 2), ('embora', 2), ('transição', 2), ('desses', 2), ('continuaria', 2), ('vários', 2), ('parceiros', 2), ('don', 2), ('nelson', 2), ('marques', 2), ('johnson', 2), ('ernie', 2), ('grunfeld', 2), ('novato', 2), ('sidney', 2), ('dois', 2), ('próximos', 2), ('forma', 2), ('novamente', 2), ('conquistaram', 2), ('perder', 2), ('forte', 2), ('entanto', 2), ('chegar', 2), ('verde', 2), ('eliminaram', 2), ('mudanças', 2), ('dono', 2), ('investidores', 2), ('futuro', 2), ('comprar', 2), ('la', 2), ('pettit', 2), ('maio', 2), ('toni', 2), ('kukoč', 2), ('ford', 2), ('consecutivas', 2), ('glenn', 2), ('adquiriu', 2), ('logotipo', 2), ('antigo', 2), ('three', 2), ('procurou', 2), ('operações', 2), ('basquete', 2), ('george', 2), ('cassell', 2), ('criou', 2), ('chegou', 2), ('papel', 2), ('lutou', 2), ('campanha', 2), ('fevereiro', 2), ('março', 2), ('ltimo', 2), ('usada', 2), ('payton', 2), ('tempo', 2), ('sucesso', 2), ('derrotados', 2), ('andrew', 2), ('primeiros', 2), ('principais', 2), ('contrato', 2), ('presidente', 2), ('joe', 2), ('alexander', 2), ('jogador', 2), ('foi', 2), ('the', 2), ('com', 2), ('resto', 2), ('jackson', 2), ('skiles', 2), ('demitiu', 2), ('boylan', 2), ('anunciado', 2), ('miami', 2), ('heat', 2), ('drew', 2), ('wes', 2), ('edens', 2), ('marc', 2), ('lasry', 2), ('ser', 2), ('onde', 2), ('partida', 2), ('novas', 2), ('toronto', 2), ('raptors', 2), ('prunty', 2), ('budenholzer', 2), ('agosto', 2), ('mvp', 2), ('playoff', 2), ('assassinato', 2), ('concedeu', 1), ('professional', 1), ('sports', 1), ('and', 1), ('services', 1), ('inc', 1), ('pro', 1), ('grupo', 1), ('liderado', 1), ('wesley', 1), ('pavalon', 1), ('marvin', 1), ('fishman', 1), ('realizado', 1), ('nomear', 1), ('[4', 1), ('votada', 1), ('robins', 1), ('batizada', 1), ('ave', 1), ('juízes', 1), ('escolheram', 1), ('opção', 1), ('popular', 1), ('animal', 1), ('selvagem', 1), ('oficial', 1), ('cauda', 1), ('branca', 1), ('fã', 1), ('trebilcox', 1), ('carro', 1), ('raciocínio', 1), ('bom', 1), ('dizendo', 1), ('espirituosos', 1), ('bons', 1), ('saltadores', 1), ('rápidos', 1), ('geis', 1), ('[5', 1), ('marcaram', 1), ('mudar', 1), ('st', 1), ('louis', 1), ('agora', 1), ('jogaram', 1), ('diante', 1), ('multidão', 1), ('[6', 1), ('como', 1), ('típico', 1), ('ocorreu', 1), ('[7', 1), ('[8', 1), ('naquele', 1), ('rendeu', 1), ('moeda', 1), ('primos', 1), ('phoenix', 1), ('suns', 1), ('ver', 1), ('escolher', 1), ('considerou', 1), ('precipitada', 1), ('ucla', 1), ('sorteio', 1), ('lances', 1), ('novíssima', 1), ('american', 1), ('basketball', 1), ('association', 1), ('aba', 1), ('protegê', 1), ('[9', 1), ('obteve', 1), ('média', 1), ('pontos', 1), ('rebotes', 1), ('apesar', 1), ('golpe', 1), ('sorte', 1), ('desembarque', 1), ('ninguém', 1), ('esperava', 1), ('aconteceu', 1), ('reversão', 1), ('quase', 1), ('exata', 1), ('boa', 1), ('suficiente', 1), ('registro', 1), ('[10', 1), ('duraria', 1), ('saltasse', 1), ('derrotaram', 1), ('[11', 1), ('despachados', 1), ('[12', 1), ('denovato', 1), ('[13', 1), ('membro', 1), ('receberam', 1), ('inesperado', 1), ('adquirir', 1), ('oscar', 1), ('conhecido', 1), ('cincinnati', 1), ('royals', 1), ('[14', 1), ('varrendo', 1), ('baltimore', 1), ('bullets', 1), ('[15', 1), ('ao', 1), ('esporte', 1), ('campeonato', 1), ('permaneceram', 1), ('potência', 1), ('converteu', 1), ('islã', 1), ('[16', 1), ('[17', 1), ('resultaram', 1), ('saída', 1), ('antecipada', 1), ('[18', 1), ('voltaram', 1), ('[19', 1), ('famoso', 1), ('arremesso', 1), ('sky', 1), ('hook', 1), ('encerrar', 1), ('clássica', 1), ('prorrogações', 1), ('sofreu', 1), ('lesão', 1), ('outras', 1), ('ocorreram', 1), ('enviando', 1), ('fundo', 1), ('[20', 1), ('impressionante', 1), ('desejando', 1), ('solicitou', 1), ('diretores', 1), ('convencê', 1), ('contrário', 1), ('conseguiu', 1), ('mega', 1), ('enviar', 1), ('elmore', 1), ('smith', 1), ('junior', 1), ('bridgeman', 1), ('brian', 1), ('winters', 1), ('david', 1), ('meyers', 1), ('desencadeou', 1), ('eventos', 1), ('levaram', 1), ('proprietário', 1), ('minoritário', 1), ('opôs', 1), ('acionista', 1), ('nico', 1), ('possuía', 1), ('suficientes', 1), ('controlar', 1), ('acordo', 1), ('várias', 1), ('maioria', 1), ('ajudando', 1), ('vendido', 1), ('entrariam', 1), ('outra', 1), ('grandeza', 1), ('tudo', 1), ('novembro', 1), ('costello', 1), ('renunciou', 1), ('abruptamente', 1), ('três', 1), ('escolhas', 1), ('kent', 1), ('[21', 1), ('estreou', 1), ('prêmios', 1), ('[22', 1), ('[23', 1), ('soco', 1), ('quebrou', 1), ('processo', 1), ('multado', 1), ('[24', 1), ('nunca', 1), ('tão', 1), ('agressiva', 1), ('trocou', 1), ('veterano', 1), ('bob', 1), ('lanier', 1), ('centro', 1), ('oeste', 1), ('[25', 1), ('[26', 1), ('mudaram', 1), ('central', 1), ('nos', 1), ('seguintes', 1), ('ganharam', 1), ('consecutivos', 1), ('nesses', 1), ('perenes', 1), ('candidatos', 1), ('principalmente', 1), ('devido', 1), ('desempenho', 1), ('paul', 1), ('pressey', 1), ('craig', 1), ('hodges', 1), ('cummings', 1), ('ricky', 1), ('pierce', 1), ('jack', 1), ('sikma', 1), ('negociações', 1), ('clippers', 1), ('respectivamente', 1), ('sixers', 1), ('[27', 1), ('[28', 1), ('[29', 1), ('grande', 1), ('floresta', 1), ('escuro', 1), ('branco', 1), ('adicionaram', 1), ('tons', 1), ('decidiram', 1), ('ele', 1), ('problemas', 1), ('saúde', 1), ('alguns', 1), ('queriam', 1), ('sair', 1), ('menor', 1), ('construir', 1), ('empresário', 1), ('senador', 1), ('comprou', 1), ('temer', 1), ('pudessem', 1), ('removê', 1), ('transação', 1), ('lloyd', 1), ('esposa', 1), ('jane', 1), ('doando', 1), ('chamada', 1), ('considerar', 1), ('anunciou', 1), ('decidido', 1), ('jordan', 1), ('possuí', 1), ('melhorá', 1), ('comprometê', 1), ('permanecer', 1), ('direitos', 1), ('nomeação', 1), ('vendidos', 1), ('bank', 1), ('herdeiros', 1), ('fortuna', 1), ('deram', 1), ('aprovação', 1), ('renomeada', 1), ('[30', 1), ('atolada', 1), ('mediocridade', 1), ('comandada', 1), ('treinadores', 1), ('frank', 1), ('hamblen', 1), ('dunleavy', 1), ('chris', 1), ('de', 1), ('sofreram', 1), ('[31', 1), ('minnesota', 1), ('timberwolves', 1), ('papéis', 1), ('proeminentes', 1), ('ressurgimento', 1), ('aniversário', 1), ('revisou', 1), ('apresentava', 1), ('desenho', 1), ('animado', 1), ('substituído', 1), ('realista', 1), ('esquema', 1), ('primárias', 1), ('alterado', 1), ('suplantado', 1), ('roxo', 1), ('roxos', 1), ('substituíram', 1), ('antigos', 1), ('verdes', 1), ('conseguindo', 1), ('ir', 1), ('sétima', 1), ('[32', 1), ('morando', 1), ('baixo', 1), ('classificação', 1), ('dar', 1), ('credibilidade', 1), ('chegado', 1), ('liderança', 1), ('constante', 1), ('adição', 1), ('talentos', 1), ('tim', 1), ('thomas', 1), ('sam', 1), ('elite', 1), ('núcleo', 1), ('constituído', 1), ('junto', 1), ('renascimento', 1), ('bem', 1), ('sucedida', 1), ('atingiu', 1), ('apogeu', 1), ('vencendo', 1), ('[33', 1), ('[34', 1), ('acréscimos', 1), ('importantes', 1), ('colocar', 1), ('por', 1), ('trás', 1), ('incentivo', 1), ('anthony', 1), ('favorito', 1), ('peso', 1), ('encontrar', 1), ('meio', 1), ('quarta', 1), ('caiu', 1), ('colapso', 1), ('culminou', 1), ('derrota', 1), ('eliminou', 1), ('queda', 1), ('tensão', 1), ('resultando', 1), ('seleção', 1), ('selecionar', 1), ('trocaram', 1), ('ronald', 1), ('murray', 1), ('gary', 1), ('desmond', 1), ('negócio', 1), ('permitiu', 1), ('astro', 1), ('emergente', 1), ('visse', 1), ('aumento', 1), ('defesa', 1), ('[35', 1), ('jersey', 1), ('nets', 1), ('[36', 1), ('responsáveis', 1), ('direção', 1), ('enfrentaram', 1), ('inconsistências', 1), ('chegaram', 1), ('vezes', 1), ('porter', 1), ('[37', 1), ('stotts', 1), ('[38', 1), ('casos', 1), ('transformou', 1), ('estrela', 1), ('rosto', 1), ('[39', 1), ('contribuintes', 1), ('todos', 1), ('times', 1), ('[40', 1), ('renovariam', 1), ('expiraria', 1), ('john', 1), ('hammond', 1), ('vice', 1), ('dando', 1), ('diretor', 1), ('recentemente', 1), ('associado', 1), ('[41', 1), ('virgínia', 1), ('ocidental', 1), ('oitava', 1), ('[42', 1), ('nascido', 1), ('taiwan', 1), ('armador', 1), ('feito', 1), ('universidade', 1), ('jogado', 1), ('itália', 1), ('[43', 1), ('juntamente', 1), ('ersan', 1), ('lyasova', 1), ('fizeram', 1), ('candidato', 1), ('sobre', 1), ('frase', 1), ('fear', 1), ('deer', 1), ('provavelmente', 1), ('feita', 1), ('comentarista', 1), ('espn', 1), ('adotada', 1), ('fóruns', 1), ('grito', 1), ('[44', 1), ('[45', 1), ('[46', 1), ('ponto', 1), ('longe', 1), ('pós', 1), ('nono', 1), ('alcance', 1), ('[47', 1), ('stephen', 1), ('brigando', 1), ('scott', 1), ('decidiu', 1), ('trocar', 1), ('horas', 1), ('prazo', 1), ('mandaram', 1), ('golden', 1), ('state', 1), ('monta', 1), ('ellis', 1), ('ekpe', 1), ('udoh', 1), ('kwame', 1), ('brown', 1), ('interino', 1), ('levou', 1), ('[48', 1), ('rapidamente', 1), ('[49', 1), ('dispensado', 1), ('funções', 1), ('contratado', 1), ('grego', 1), ('[50', 1), ('tendo', 1), ('pior', 1), ('recorda', 1), ('[51', 1), ('concordou', 1), ('majoritária', 1), ('bilionários', 1), ('mantém', 1), ('minoritária', 1), ('significativa', 1), ('[52', 1), ('espera', 1), ('novos', 1), ('proprietários', 1), ('mantenham', 1), ('contribuiriam', 1), ('construção', 1), ('jabari', 1), ('parker', 1), ('duke', 1), ('[53', 1), ('muitas', 1), ('dentro', 1), ('slogan', 1), ('own', 1), ('future', 1), ('[54', 1), ('relação', 1), ('eliminado', 1), ('[55', 1), ('peter', 1), ('feigin', 1), ('declarou', 1), ('financiamento', 1), ('cair', 1), ('poderá', 1), ('transferi', 1), ('las', 1), ('vegas', 1), ('atuais', 1), ('jamie', 1), ('dinan', 1), ('combinaram', 1), ('prometer', 1), ('buscaram', 1), ('fundos', 1), ('viriam', 1), ('district', 1), ('dívidas', 1), ('cidadãos', 1), ('distrito', 1), ('começaria', 1), ('reembolsar', 1), ('[56', 1), ('solidificado', 1), ('senado', 1), ('votoua', 1), ('favor', 1), ('proposta', 1), ('uso', 1), ('dinheiro', 1), ('ajudar', 1), ('financiar', 1), ('substituiria', 1), ('antiga', 1), ('oracle', 1), ('madison', 1), ('square', 1), ('garden', 1), ('inaugurado', 1), ('sido', 1), ('usado', 1), ('[57', 1), ('[58', 1), ('elenco', 1), ('jovem', 1), ('passo', 1), ('alcançando', 1), ('tido', 1), ('melhora', 1), ('encorajadora', 1), ('acumulando', 1), ('triplos', 1), ('duplos', 1), ('[59', 1), ('setembro', 1), ('concordaram', 1), ('extensão', 1), ('além', 1), ('disso', 1), ('acrescentaria', 1), ('melhorias', 1), ('conquistando', 1), ('charlotte', 1), ('hornets', 1), ('vencedora', 1), ('[60', 1), ('quinto', 1), ('liderar', 1), ('categorias', 1), ('estatísticas', 1), ('terminar', 1), ('cada', 1), ('categoria', 1), ('abertura', 1), ('[61', 1), ('assistente', 1), ('substituto', 1), ('caráter', 1), ('provisório', 1), ('levando', 1), ('[62', 1), ('[63', 1), ('[64', 1), ('fiserv', 1), ('forum', 1), ('aberta', 1), ('quinta', 1), ('[65', 1), ('igualando', 1), ('isso', 1), ('garantiu', 1), ('vantagem', 1), ('casa', 1), ('qualquer', 1), ('milênio', 1), ('[66', 1), ('[67', 1), ('eventual', 1), ('campeão', 1), ('[68', 1), ('nomeado', 1), ('conquistar', 1), ('lugar', 1), ('medido', 1), ('número', 1), ('disputados', 1), ('data', 1), ('calendário', 1), ('formato', 1), ('[69', 1), ('suspensão', 1), ('convidadas', 1), ('bolha', 1), ('participar', 1), ('ltimos', 1), ('[70', 1), ('recusaram', 1), ('orlando', 1), ('magic', 1), ('jacob', 1), ('polícia', 1), ('[71', 1), ('[72', 1), ('consecutivo', 1), ('[73', 1), ('[74', 1), ('posse', 1), ('ambas', 1), ('ajoelharam', 1), ('protesto', 1), ('acusações', 1), ('criminais', 1), ('feitas', 1), ('policiais', 1), ('seguraram', 1), ('bola', 1), ('segundos', 1), ('tiros', 1), ('[75', 1)]\n"
          ]
        }
      ]
    },
    {
      "cell_type": "markdown",
      "metadata": {
        "id": "78PQCO5tiLAg"
      },
      "source": [
        "## BIGRAMAS, TRIGRAMAS e NGRAMAS\n",
        "\n"
      ]
    },
    {
      "cell_type": "code",
      "metadata": {
        "id": "4LtxPgYzkIBW"
      },
      "source": [
        "from nltk import bigrams,trigrams, ngrams"
      ],
      "execution_count": null,
      "outputs": []
    },
    {
      "cell_type": "code",
      "metadata": {
        "id": "ry7C_4o-hDc0"
      },
      "source": [
        "corpus = open('/content/texto.txt').read()\n",
        "#Tokenizer do NLTK\n",
        "tokens = nltk.word_tokenize(corpus)"
      ],
      "execution_count": null,
      "outputs": []
    },
    {
      "cell_type": "code",
      "metadata": {
        "id": "fvD5qY6ohP0R"
      },
      "source": [
        "tokens_bigrams = list(bigrams(tokens))\n",
        "tokens_bigrams"
      ],
      "execution_count": null,
      "outputs": []
    },
    {
      "cell_type": "code",
      "metadata": {
        "id": "rJOPn2_phgbs"
      },
      "source": [
        "tokens_trigrams = list(trigrams(tokens))\n",
        "tokens_trigrams"
      ],
      "execution_count": null,
      "outputs": []
    },
    {
      "cell_type": "code",
      "metadata": {
        "id": "PrjELsXRh59g"
      },
      "source": [
        "tokens_ngrams = list(ngrams(tokens,6))\n",
        "tokens_ngrams"
      ],
      "execution_count": null,
      "outputs": []
    },
    {
      "cell_type": "markdown",
      "metadata": {
        "id": "jdv3a_1Mi1jT"
      },
      "source": [
        "## Reconhecer entidades nomeadas"
      ]
    },
    {
      "cell_type": "code",
      "metadata": {
        "id": "hoKiMJX9iyfJ"
      },
      "source": [
        "for bigrama in tokens_bigrams:\n",
        "  if bigrama[0][0].isupper() and bigrama[1][0].isupper():\n",
        "    print(bigrama)"
      ],
      "execution_count": null,
      "outputs": []
    },
    {
      "cell_type": "code",
      "metadata": {
        "id": "ArS7FMlglIK7"
      },
      "source": [
        "for trigrama in tokens_trigrams:\n",
        "  if trigrama[0][0].isupper() and trigrama[1][0].isupper() and trigrama[2][0].isupper():\n",
        "    print(trigrama)"
      ],
      "execution_count": null,
      "outputs": []
    },
    {
      "cell_type": "markdown",
      "metadata": {
        "id": "O6QpyTBnm91q"
      },
      "source": [
        "## Stemming e Lematização\n"
      ]
    },
    {
      "cell_type": "code",
      "metadata": {
        "id": "8AtSSal9nCSP"
      },
      "source": [
        "steamer = nltk.RSLPStemmer()\n",
        "print(steamer.stem('Amigão'))\n",
        "print(steamer.stem('Propuseram'))\n",
        "print(steamer.stem('Amiguito'))"
      ],
      "execution_count": null,
      "outputs": []
    },
    {
      "cell_type": "markdown",
      "metadata": {
        "id": "ExIzkooOoual"
      },
      "source": [
        "## Etiquetador"
      ]
    },
    {
      "cell_type": "code",
      "metadata": {
        "id": "Ie9exiX4nYpt"
      },
      "source": [
        "from nltk.corpus import mac_morpho"
      ],
      "execution_count": null,
      "outputs": []
    },
    {
      "cell_type": "code",
      "metadata": {
        "id": "y2pjGNZOo8rp"
      },
      "source": [
        "from nltk.tag import UnigramTagger, DefaultTagger"
      ],
      "execution_count": null,
      "outputs": []
    },
    {
      "cell_type": "code",
      "metadata": {
        "colab": {
          "base_uri": "https://localhost:8080/"
        },
        "id": "U0g1UxZto9uo",
        "outputId": "7623cd4a-12e0-4c03-c03b-b039caa6807d"
      },
      "source": [
        "sentencas_treino = mac_morpho.tagged_sents()\n",
        "etiquetador = UnigramTagger(sentencas_treino)\n",
        "etiquetado = etiquetador.tag(tokens)\n",
        "print(etiquetado)"
      ],
      "execution_count": null,
      "outputs": [
        {
          "name": "stdout",
          "output_type": "stream",
          "text": [
            "[('Em', 'PREP|+'), ('22', 'NUM'), ('de', 'PREP'), ('janeiro', 'N'), ('de', 'PREP'), ('1968', 'N'), (',', ','), ('a', 'ART'), ('NBA', 'NPROP'), ('concedeu', 'V'), ('uma', 'ART'), ('franquia', 'N'), ('à', 'NPROP'), ('Milwaukee', 'NPROP'), ('Professional', 'NPROP'), ('Sports', 'NPROP'), ('and', 'NPROP'), ('Services', 'NPROP'), (',', ','), ('Inc.', 'NPROP'), ('(', '('), ('Milwaukee', 'NPROP'), ('Pro', 'NPROP'), (')', ')'), (',', ','), ('um', 'ART'), ('grupo', 'N'), ('liderado', 'PCP'), ('por', 'PREP|+'), ('Wesley', 'NPROP'), ('Pavalon', None), ('e', 'KC'), ('Marvin', 'NPROP'), ('Fishman', None), ('.', '.'), ('Um', 'ART'), ('concurso', 'N'), ('de', 'PREP'), ('fãs', 'N'), ('foi', 'VAUX'), ('realizado', 'PCP'), ('para', 'PREP'), ('nomear', 'V'), ('o', 'ART'), ('novo', 'ADJ'), ('time', 'N'), (',', ','), ('com', 'PREP'), ('a', 'ART'), ('participação', 'N'), ('de', 'PREP'), ('mais', 'ADV'), ('de', 'PREP'), ('40.000', None), ('fãs', 'N'), ('.', '.'), ('[', '['), ('4', 'NUM'), (']', None), ('Enquanto', 'KS'), ('o', 'ART'), ('nome', 'N'), ('mais', 'ADV'), ('votada', 'PCP'), ('foi', 'VAUX'), ('Robins', None), (',', ','), ('batizada', 'PCP'), ('com', 'PREP'), ('o', 'ART'), ('nome', 'N'), ('da', 'NPROP'), ('ave', 'N'), ('do', 'NPROP'), ('estado', 'N'), ('de', 'PREP'), ('Wisconsin', None), (',', ','), ('os', 'ART'), ('juízes', 'N'), ('do', 'NPROP'), ('concurso', 'N'), ('escolheram', 'V'), ('a', 'ART'), ('segunda', 'ADJ'), ('opção', 'N'), ('mais', 'ADV'), ('popular', 'ADJ'), (',', ','), ('Bucks', 'NPROP'), (',', ','), ('que', 'PRO-KS-REL'), ('era', 'V'), ('uma', 'ART'), ('referência', 'N'), ('ao', 'PREP'), ('animal', 'N'), ('selvagem', 'ADJ'), ('oficial', 'ADJ'), ('de', 'PREP'), ('Wisconsin', None), (',', ','), ('o', 'ART'), ('cervo', 'N'), ('de', 'PREP'), ('cauda', 'N'), ('branca', 'ADJ'), ('.', '.'), ('Um', 'ART'), ('fã', 'N'), (',', ','), ('R.', 'NPROP'), ('D.', 'NPROP'), ('Trebilcox', None), (',', ','), ('recebeu', 'V'), ('um', 'ART'), ('carro', 'N'), ('novo', 'ADJ'), ('por', 'PREP|+'), ('sua', 'PROADJ'), ('parte', 'N'), ('no', 'KC'), ('raciocínio', 'N'), ('de', 'PREP'), ('por', 'PREP|+'), ('que', 'PRO-KS-REL'), ('Bucks', 'NPROP'), ('era', 'V'), ('um', 'ART'), ('bom', 'ADJ'), ('nome', 'N'), (',', ','), ('dizendo', 'V'), ('que', 'PRO-KS-REL'), ('os', 'ART'), ('cervo', 'N'), ('eram', 'V'), ('``', None), ('espirituosos', None), (',', ','), ('bons', 'ADJ'), ('saltadores', None), (',', ','), ('rápidos', 'ADJ'), ('e', 'KC'), ('ágeis', 'ADJ'), (\"''\", None), ('.', '.'), ('[', '['), ('5', 'NUM'), (']', None), ('Os', 'ART'), ('Bucks', 'NPROP'), ('marcaram', 'V'), ('um', 'ART'), ('retorno', 'N'), ('da', 'NPROP'), ('NBA', 'NPROP'), ('para', 'PREP'), ('Milwaukee', 'NPROP'), ('depois', 'ADV'), ('de', 'PREP'), ('13', 'NUM'), ('anos', 'N'), (';', ';'), ('seu', 'PROADJ'), ('time', 'N'), ('anterior', 'ADJ'), (',', ','), ('o', 'ART'), ('Milwaukee', 'NPROP'), ('Hawks', 'NPROP'), (',', ','), ('jogou', 'V'), ('por', 'PREP|+'), ('quatro', 'NUM'), ('temporadas', 'N'), ('no', 'KC'), ('início', 'N'), ('dos', 'NPROP'), ('anos', 'N'), ('50', 'NUM'), (',', ','), ('antes', 'ADV'), ('de', 'PREP'), ('se', 'PROPESS'), ('mudar', 'V'), ('para', 'PREP'), ('St.', 'NPROP'), ('Louis', 'NPROP'), ('em', 'PREP|+'), ('1955', 'N'), ('(', '('), ('agora', 'ADV'), ('está', 'V'), ('em', 'PREP|+'), ('Atlanta', 'NPROP'), (')', ')'), ('.', '.'), ('Em', 'PREP|+'), ('outubro', 'N'), (',', ','), ('os', 'ART'), ('Bucks', 'NPROP'), ('jogaram', 'V'), ('seu', 'PROADJ'), ('primeiro', 'ADJ'), ('jogo', 'N'), ('na', 'NPROP'), ('temporada', 'N'), ('regular', 'ADJ'), ('da', 'NPROP'), ('NBA', 'NPROP'), ('contra', 'PREP'), ('o', 'ART'), ('Chicago', 'NPROP'), ('Bulls', 'NPROP'), (',', ','), ('diante', 'PREP|+'), ('de', 'PREP'), ('uma', 'ART'), ('multidão', 'N'), ('de', 'PREP'), ('8.467', None), ('na', 'NPROP'), ('Milwaukee', 'NPROP'), ('Arena', 'NPROP'), ('.', '.'), ('[', '['), ('6', 'NUM'), (']', None), ('Como', 'KS'), ('é', 'V'), ('típico', 'ADJ'), ('das', 'NPROP'), ('equipes', 'N'), ('de', 'PREP'), ('expansão', 'N'), (',', ','), ('a', 'ART'), ('primeira', 'ADJ'), ('temporada', 'N'), ('dos', 'NPROP'), ('Bucks', 'NPROP'), ('(', '('), ('1968-69', None), (')', ')'), ('foi', 'VAUX'), ('de', 'PREP'), ('dificuldade', 'N'), ('.', '.'), ('Sua', 'PROADJ'), ('primeira', 'ADJ'), ('vitória', 'N'), ('ocorreu', 'V'), ('no', 'KC'), ('sexto', 'ADJ'), ('jogo', 'N'), (',', ','), ('quando', 'KS'), ('venceram', 'V'), ('o', 'ART'), ('Detroit', 'NPROP'), ('Pistons', 'NPROP'), ('por', 'PREP|+'), ('134-118', None), (';', ';'), ('[', '['), ('7', 'NUM'), (']', None), ('eles', 'PROPESS'), ('venceram', 'V'), ('apenas', 'PDEN'), ('mais', 'ADV'), ('26', 'NUM'), ('jogos', 'N'), ('no', 'KC'), ('primeiro', 'ADJ'), ('ano', 'N'), ('.', '.'), ('[', '['), ('8', 'NUM'), (']', None), ('O', 'ART'), ('recorde', 'N'), ('dos', 'NPROP'), ('Bucks', 'NPROP'), ('naquele', None), ('ano', 'N'), ('rendeu-lhes', None), ('uma', 'ART'), ('metade', 'N'), ('da', 'NPROP'), ('moeda', 'N'), ('contra', 'PREP'), ('seus', 'PROADJ'), ('primos', 'N'), ('em', 'PREP|+'), ('expansão', 'N'), (',', ','), ('o', 'ART'), ('Phoenix', 'NPROP'), ('Suns', 'NPROP'), (',', ','), ('para', 'PREP'), ('ver', 'V'), ('quem', 'PRO-KS'), ('seria', 'V'), ('o', 'ART'), ('primeiro', 'ADJ'), ('a', 'ART'), ('escolher', 'V'), ('no', 'KC'), ('Draft', None), ('seguinte', 'ADJ'), ('.', '.'), ('Considerou-se', None), ('uma', 'ART'), ('conclusão', 'N'), ('precipitada', 'PCP'), ('que', 'PRO-KS-REL'), ('a', 'ART'), ('primeira', 'ADJ'), ('escolha', 'N'), ('no', 'KC'), ('draft', 'N|EST'), ('seria', 'V'), ('Lew', None), ('Alcindor', None), (',', ','), ('da', 'NPROP'), ('UCLA', None), ('.', '.'), ('Os', 'ART'), ('Bucks', 'NPROP'), ('venceram', 'V'), ('o', 'ART'), ('sorteio', 'N'), (',', ','), ('mas', 'KC'), ('tiveram', 'V'), ('que', 'PRO-KS-REL'), ('vencer', 'V'), ('uma', 'ART'), ('guerra', 'N'), ('de', 'PREP'), ('lances', 'N'), ('com', 'PREP'), ('a', 'ART'), ('novíssima', 'ADJ'), ('American', 'NPROP'), ('Basketball', None), ('Association', 'NPROP'), ('(', '('), ('ABA', None), (')', ')'), ('para', 'PREP'), ('protegê-lo', None), ('.', '.'), ('[', '['), ('9', 'NUM'), (']', None), ('1969-1975', None), (':', ':'), ('Era', 'V'), ('Kareem', 'NPROP'), ('Abdul-Jabbar', 'NPROP'), ('Durante', 'PREP'), ('suas', 'PROADJ'), ('seis', 'NUM'), ('temporadas', 'N'), ('nos', 'PROPESS'), ('Bucks', 'NPROP'), (',', ','), ('Abdul-Jabbar', 'NPROP'), ('obteve', 'V'), ('uma', 'ART'), ('média', 'N'), ('de', 'PREP'), ('30,4', None), ('pontos', 'N'), ('e', 'KC'), ('15,3', 'NUM'), ('rebotes', 'N'), ('por', 'PREP|+'), ('jogo', 'N'), ('.', '.'), ('Apesar', 'PREP|+'), ('do', 'NPROP'), ('golpe', 'N'), ('de', 'PREP'), ('sorte', 'N'), ('dos', 'NPROP'), ('Bucks', 'NPROP'), ('no', 'KC'), ('desembarque', 'N'), ('de', 'PREP'), ('Alcindor', None), (',', ','), ('ninguém', 'PROSUB'), ('esperava', 'V'), ('o', 'ART'), ('que', 'PRO-KS-REL'), ('aconteceu', 'V'), ('na', 'NPROP'), ('temporada', 'N'), ('de', 'PREP'), ('1969-70', None), ('.', '.'), ('Eles', 'PROPESS'), ('terminaram', 'V'), ('com', 'PREP'), ('um', 'ART'), ('recorde', 'N'), ('de', 'PREP'), ('56-26', None), ('-', '-'), ('uma', 'ART'), ('reversão', 'N'), ('quase', 'ADV'), ('exata', 'ADJ'), ('do', 'NPROP'), ('ano', 'N'), ('anterior', 'ADJ'), ('e', 'KC'), ('boa', 'ADJ'), ('o', 'ART'), ('suficiente', 'ADJ'), ('para', 'PREP'), ('o', 'ART'), ('segundo', 'PREP'), ('melhor', 'ADJ'), ('registro', 'N'), ('da', 'NPROP'), ('liga', 'V'), (',', ','), ('atrás', 'ADV'), ('do', 'NPROP'), ('New', 'NPROP'), ('York', 'NPROP'), ('Knicks', 'NPROP'), ('.', '.'), ('[', '['), ('10', 'NUM'), (']', None), ('A', 'ART'), ('melhoria', 'N'), ('de', 'PREP'), ('29', 'NUM'), ('jogos', 'N'), ('foi', 'VAUX'), ('a', 'ART'), ('melhor', 'ADJ'), ('da', 'NPROP'), ('história', 'N'), ('da', 'NPROP'), ('liga', 'V'), ('-', '-'), ('um', 'ART'), ('recorde', 'N'), ('que', 'PRO-KS-REL'), ('duraria', None), ('10', 'NUM'), ('anos', 'N'), ('até', 'PREP'), ('que', 'PRO-KS-REL'), ('o', 'ART'), ('Boston', 'NPROP'), ('Celtics', 'NPROP'), ('saltasse', 'V'), ('de', 'PREP'), ('29', 'NUM'), ('vitórias', 'N'), ('na', 'NPROP'), ('temporada', 'N'), ('de', 'PREP'), ('1978-79', None), ('para', 'PREP'), ('61', 'NUM'), ('vitórias', 'N'), ('na', 'NPROP'), ('temporada', 'N'), ('de', 'PREP'), ('1979-80', 'N|DAT'), ('.', '.'), ('Os', 'ART'), ('Bucks', 'NPROP'), ('derrotaram', None), ('o', 'ART'), ('Philadelphia', 'NPROP'), ('76ers', None), ('em', 'PREP|+'), ('cinco', 'NUM'), ('jogos', 'N'), ('nas', 'NPROP'), ('semifinais', 'N'), ('do', 'NPROP'), ('Leste', 'NPROP'), ('[', '['), ('11', 'NUM'), (']', None), ('e', 'KC'), ('foram', 'VAUX'), ('despachados', None), ('pelos', None), ('Knicks', 'NPROP'), ('nas', 'NPROP'), ('finais', 'N'), ('do', 'NPROP'), ('Leste', 'NPROP'), ('.', '.'), ('[', '['), ('12', 'NUM'), (']', None), ('Alcindor', None), ('ganhou', 'V'), ('o', 'ART'), ('prêmio', 'N'), ('deNovato', None), ('do', 'NPROP'), ('Ano', 'NPROP'), ('da', 'NPROP'), ('NBA', 'NPROP'), ('.', '.'), ('[', '['), ('13', 'NUM'), (']', None), ('Robertson', 'NPROP'), ('como', 'PREP'), ('membro', 'N'), ('do', 'NPROP'), ('Milwaukee', 'NPROP'), ('Bucks', 'NPROP'), ('Na', 'NPROP'), ('temporada', 'N'), ('seguinte', 'ADJ'), (',', ','), ('os', 'ART'), ('Bucks', 'NPROP'), ('receberam', 'V'), ('um', 'ART'), ('presente', 'ADJ'), ('inesperado', 'ADJ'), ('ao', 'PREP'), ('adquirir', 'V'), ('Oscar', 'NPROP'), ('Robertson', 'NPROP'), (',', ','), ('conhecido', 'PCP'), ('como', 'PREP'), ('o', 'ART'), ('``', None), ('Big', 'NPROP'), ('O', 'ART'), (\"''\", None), (',', ','), ('em', 'PREP|+'), ('uma', 'ART'), ('negociação', 'N'), ('com', 'PREP'), ('o', 'ART'), ('Cincinnati', 'NPROP'), ('Royals', None), ('.', '.'), ('Na', 'NPROP'), ('terceira', 'ADJ'), ('temporada', 'N'), ('da', 'NPROP'), ('equipe', 'N'), (',', ','), ('eles', 'PROPESS'), ('terminaram', 'V'), ('com', 'PREP'), ('um', 'ART'), ('recorde', 'N'), ('de', 'PREP'), ('66-16', None), ('-', '-'), ('a', 'ART'), ('segunda', 'ADJ'), ('maior', 'ADJ'), ('da', 'NPROP'), ('história', 'N'), ('da', 'NPROP'), ('NBA', 'NPROP'), ('na', 'NPROP'), ('época', 'N'), ('e', 'KC'), ('ainda', 'ADV'), ('a', 'ART'), ('maior', 'ADJ'), ('da', 'NPROP'), ('história', 'N'), ('da', 'NPROP'), ('franquia', 'N'), ('.', '.'), ('[', '['), ('14', 'NUM'), (']', None), ('Eles', 'PROPESS'), ('venceram', 'V'), ('o', 'ART'), ('título', 'N'), ('da', 'NPROP'), ('NBA', 'NPROP'), ('em', 'PREP|+'), ('30', 'NUM'), ('de', 'PREP'), ('abril', 'N'), ('de', 'PREP'), ('1971', 'N'), (',', ','), ('varrendo', None), ('o', 'ART'), ('Baltimore', None), ('Bullets', None), ('em', 'PREP|+'), ('quatro', 'NUM'), ('jogos', 'N'), ('.', '.'), ('[', '['), ('15', 'NUM'), (']', None), ('Ao', 'PREP'), ('vencer', 'V'), ('o', 'ART'), ('título', 'N'), ('em', 'PREP|+'), ('apenas', 'PDEN'), ('sua', 'PROADJ'), ('terceira', 'ADJ'), ('temporada', 'N'), (',', ','), ('os', 'ART'), ('Bucks', 'NPROP'), ('se', 'PROPESS'), ('tornaram', 'V'), ('o', 'ART'), ('time', 'N'), ('de', 'PREP'), ('expansão', 'N'), ('mais', 'ADV'), ('rápido', 'ADJ'), ('na', 'NPROP'), ('história', 'N'), ('do', 'NPROP'), ('esporte', 'N'), ('norte-americano', 'ADJ'), ('a', 'ART'), ('vencer', 'V'), ('um', 'ART'), ('campeonato', 'N'), ('.', '.'), ('Os', 'ART'), ('Bucks', 'NPROP'), ('permaneceram', 'V'), ('uma', 'ART'), ('potência', 'N'), ('na', 'NPROP'), ('primeira', 'ADJ'), ('metade', 'N'), ('da', 'NPROP'), ('década', 'N'), ('de', 'PREP'), ('1970', 'N'), ('.', '.'), ('Em', 'PREP|+'), ('1972', 'N'), (',', ','), ('Lew', None), ('Alcindor', None), ('se', 'PROPESS'), ('converteu', 'V'), ('ao', 'PREP'), ('Islã', 'NPROP'), ('e', 'KC'), ('mudou', 'V'), ('seu', 'PROADJ'), ('nome', 'N'), ('para', 'PREP'), ('Kareem', 'NPROP'), ('Abdul-Jabbar', 'NPROP'), ('.', '.'), ('Na', 'NPROP'), ('Temporada', None), ('de', 'PREP'), ('1971–72', None), (',', ','), ('Milwaukee', 'NPROP'), ('venceu', 'V'), ('os', 'ART'), ('Warriors', 'NPROP'), ('nos', 'PROPESS'), ('playoffs', 'N|EST'), ('por', 'PREP|+'), ('4-1', 'N|AP'), (',', ','), ('[', '['), ('16', 'NUM'), (']', None), ('mas', 'KC'), ('perdeu', 'V'), ('a', 'ART'), ('final', 'N'), ('da', 'NPROP'), ('conferência', 'N'), ('para', 'PREP'), ('o', 'ART'), ('Los', 'NPROP'), ('Angeles', 'NPROP'), ('Lakers', 'NPROP'), ('por', 'PREP|+'), ('4-2', 'N|AP'), ('.', '.'), ('[', '['), ('17', 'NUM'), (']', None), ('Em', 'PREP|+'), ('1973', 'N'), (',', ','), ('eles', 'PROPESS'), ('tiveram', 'V'), ('a', 'ART'), ('sua', 'PROADJ'), ('terceira', 'ADJ'), ('temporada', 'N'), ('consecutiva', 'ADJ'), ('de', 'PREP'), ('60', 'NUM'), ('vitórias', 'N'), (',', ','), ('a', 'ART'), ('primeira', 'ADJ'), ('equipe', 'N'), ('da', 'NPROP'), ('NBA', 'NPROP'), ('a', 'ART'), ('fazer', 'V'), ('isso', 'PROSUB'), (',', ','), ('mas', 'KC'), ('as', 'ART'), ('lesões', 'N'), ('resultaram', 'V'), ('em', 'PREP|+'), ('uma', 'ART'), ('saída', 'N'), ('antecipada', 'PCP'), ('dos', 'NPROP'), ('playoffs', 'N|EST'), ('.', '.'), ('[', '['), ('18', 'NUM'), (']', None), ('Os', 'ART'), ('Bucks', 'NPROP'), ('voltaram', 'V'), ('as', 'ART'), ('finais', 'N'), ('da', 'NPROP'), ('NBA', 'NPROP'), ('de', 'PREP'), ('1974', 'N'), ('contra', 'PREP'), ('o', 'ART'), ('Boston', 'NPROP'), ('Celtics', 'NPROP'), ('.', '.'), ('[', '['), ('19', 'N|AP'), (']', None), ('No', 'KC'), ('sexto', 'ADJ'), ('jogo', 'N'), ('da', 'NPROP'), ('série', 'N'), (',', ','), ('Abdul-Jabbar', 'NPROP'), ('fez', 'V'), ('seu', 'PROADJ'), ('famoso', 'ADJ'), ('arremesso', 'N'), ('de', 'PREP'), ('``', None), ('sky', None), ('hook', None), (\"''\", None), ('para', 'PREP'), ('encerrar', 'V'), ('uma', 'ART'), ('vitória', 'N'), ('clássica', 'ADJ'), ('dos', 'NPROP'), ('Bucks', 'NPROP'), ('após', 'PREP'), ('duas', 'NUM'), ('prorrogações', None), ('.', '.'), ('Os', 'ART'), ('Bucks', 'NPROP'), ('perderam', 'V'), ('o', 'ART'), ('jogo', 'N'), ('7', 'NUM'), ('e', 'KC'), ('a', 'ART'), ('série', 'N'), ('para', 'PREP'), ('os', 'ART'), ('Celtics', 'NPROP'), ('.', '.'), ('Quando', 'KS'), ('a', 'ART'), ('temporada', 'N'), ('de', 'PREP'), ('1974-75', None), ('começou', 'VAUX'), (',', ','), ('Abdul-Jabbar', 'NPROP'), ('sofreu', 'V'), ('uma', 'ART'), ('lesão', 'N'), ('na', 'NPROP'), ('mão', 'N'), ('e', 'KC'), ('a', 'ART'), ('equipe', 'N'), ('começou', 'VAUX'), ('começou', 'VAUX'), ('com', 'PREP'), ('um', 'ART'), ('recorde', 'N'), ('de', 'PREP'), ('3-3', 'N|AP'), ('.', '.'), ('Após', 'PREP'), ('seu', 'PROADJ'), ('retorno', 'N'), (',', ','), ('outras', 'PROADJ'), ('lesões', 'N'), ('ocorreram', 'V'), ('em', 'PREP|+'), ('Milwaukee', 'NPROP'), (',', ','), ('enviando-os', None), ('para', 'PREP'), ('o', 'ART'), ('fundo', 'N'), ('da', 'NPROP'), ('divisão', 'N'), ('com', 'PREP'), ('38', 'NUM'), ('vitórias', 'N'), ('e', 'KC'), ('44', 'NUM'), ('derrotas', 'N'), ('.', '.'), ('[', '['), ('20', 'NUM'), (']', None), ('Quando', 'KS'), ('a', 'ART'), ('temporada', 'N'), ('terminou', 'V'), (',', ','), ('Abdul-Jabbar', 'NPROP'), ('fez', 'V'), ('o', 'ART'), ('anúncio', 'N'), ('impressionante', 'ADJ'), ('de', 'PREP'), ('que', 'PRO-KS-REL'), ('ele', 'PROPESS'), ('não', 'ADV'), ('queria', 'V'), ('mais', 'ADV'), ('jogar', 'V'), ('pelos', None), ('Bucks', 'NPROP'), ('.', '.'), ('Desejando', 'V'), ('jogar', 'V'), ('em', 'PREP|+'), ('uma', 'ART'), ('cidade', 'N'), ('maior', 'ADJ'), (',', ','), ('ele', 'PROPESS'), ('solicitou', 'V'), ('uma', 'ART'), ('troca', 'N'), ('para', 'PREP'), ('Los', 'NPROP'), ('Angeles', 'NPROP'), ('ou', 'KC'), ('Nova', 'NPROP'), ('York', 'NPROP'), ('.', '.'), ('Os', 'ART'), ('diretores', 'N'), ('da', 'NPROP'), ('equipe', 'N'), ('não', 'ADV'), ('conseguiram', 'V'), ('convencê-lo', None), ('do', 'NPROP'), ('contrário', 'N'), ('e', 'KC'), (',', ','), ('em', 'PREP|+'), ('16', 'NUM'), ('de', 'PREP'), ('junho', 'N'), ('de', 'PREP'), ('1975', 'N'), (',', ','), ('os', 'ART'), ('Bucks', 'NPROP'), ('conseguiu', 'V'), ('uma', 'ART'), ('mega', 'N|EST'), ('troca', 'N'), ('ao', 'PREP'), ('enviar', 'V'), ('Abdul-Jabbar', 'NPROP'), ('ao', 'PREP'), ('Lakers', 'NPROP'), ('em', 'PREP|+'), ('troca', 'N'), ('de', 'PREP'), ('Elmore', 'NPROP'), ('Smith', 'NPROP'), (',', ','), ('Junior', 'NPROP'), ('Bridgeman', None), (',', ','), ('Brian', 'NPROP'), ('Winters', None), ('e', 'KC'), ('David', 'NPROP'), ('Meyers', None), ('.', '.'), ('A', 'ART'), ('troca', 'N'), ('desencadeou', 'V'), ('uma', 'ART'), ('série', 'N'), ('de', 'PREP'), ('eventos', 'N'), ('que', 'PRO-KS-REL'), ('levaram', 'V'), ('a', 'ART'), ('uma', 'ART'), ('mudança', 'N'), ('de', 'PREP'), ('donos', 'N'), ('da', 'NPROP'), ('equipe', 'N'), ('.', '.'), ('O', 'ART'), ('proprietário', 'N'), ('minoritário', None), (',', ','), ('Jim', 'NPROP'), ('Fitzgerald', 'NPROP'), (',', ','), ('se', 'PROPESS'), ('opôs', 'V'), ('a', 'ART'), ('troca', 'N'), ('e', 'KC'), ('queria', 'V'), ('vender', 'V'), ('suas', 'PROADJ'), ('ações', 'N'), ('.', '.'), ('Embora', 'KS'), ('Fitzgerald', 'NPROP'), ('fosse', 'V'), ('o', 'ART'), ('maior', 'ADJ'), ('acionista', 'N'), ('único', 'ADJ'), (',', ','), ('ele', 'PROPESS'), ('não', 'ADV'), ('possuía', 'V'), ('ações', 'N'), ('suficientes', 'ADJ'), ('para', 'PREP'), ('controlar', 'V'), ('a', 'ART'), ('equipe', 'N'), ('.', '.'), ('1976-1979', None), (':', ':'), ('Transição', None), ('de', 'PREP'), ('Abdul-Jabbar', 'NPROP'), ('Após', 'PREP'), ('o', 'ART'), ('acordo', 'PREP'), (',', ','), ('os', 'ART'), ('Bucks', 'NPROP'), ('tiveram', 'V'), ('várias', 'PROADJ'), ('temporadas', 'N'), ('em', 'PREP|+'), ('transição', 'N'), (',', ','), ('mas', 'KC'), ('a', 'ART'), ('maioria', 'N'), ('desses', 'V'), ('jogadores', 'N'), ('continuaria', 'V'), ('ajudando', 'V'), ('o', 'ART'), ('time', 'N'), ('.', '.'), ('Depois', 'ADV'), ('de', 'PREP'), ('vendido', 'PCP'), ('para', 'PREP'), ('Fitzgerald', 'NPROP'), ('e', 'KC'), ('vários', 'PROADJ'), ('parceiros', 'N'), ('em', 'PREP|+'), ('1976', 'N'), (',', ','), ('os', 'ART'), ('Bucks', 'NPROP'), ('entrariam', None), ('em', 'PREP|+'), ('outra', 'PROADJ'), ('era', 'V'), ('de', 'PREP'), ('grandeza', 'N'), ('.', '.'), ('Tudo', 'PROSUB'), ('começou', 'VAUX'), ('com', 'PREP'), ('Don', 'NPROP'), ('Nelson', 'NPROP'), (',', ','), ('que', 'PRO-KS-REL'), ('se', 'PROPESS'), ('tornou', 'V'), ('treinador', 'N'), ('em', 'PREP|+'), ('novembro', 'N'), ('de', 'PREP'), ('1976', 'N'), (',', ','), ('depois', 'ADV'), ('que', 'PRO-KS-REL'), ('Larry', 'NPROP'), ('Costello', None), ('renunciou', 'V'), ('abruptamente', 'ADV'), ('.', '.'), ('No', 'KC'), ('Draft', None), ('de', 'PREP'), ('1977', 'N'), (',', ','), ('os', 'ART'), ('Bucks', 'NPROP'), ('tiveram', 'V'), ('três', 'NUM'), ('escolhas', 'N'), ('na', 'NPROP'), ('primeira', 'ADJ'), ('rodada', 'N'), ('e', 'KC'), ('selecionaram', 'V'), ('Kent', 'NPROP'), ('Benson', 'NPROP'), (',', ','), ('Marques', 'NPROP'), ('Johnson', 'NPROP'), ('e', 'KC'), ('Ernie', 'NPROP'), ('Grunfeld', None), ('.', '.'), ('[', '['), ('21', 'NUM'), (']', None), ('O', 'ART'), ('novato', 'N'), ('Sidney', 'NPROP'), ('Moncrief', None), ('estreou', 'V'), ('em', 'PREP|+'), ('1979', 'N'), ('.', '.'), ('Don', 'NPROP'), ('Nelson', 'NPROP'), ('ganhou', 'V'), ('dois', 'NUM'), ('prêmios', 'N'), ('de', 'PREP'), ('Treinador', 'N'), ('do', 'NPROP'), ('Ano', 'NPROP'), ('da', 'NPROP'), ('NBA', 'NPROP'), ('com', 'PREP'), ('os', 'ART'), ('Bucks', 'NPROP'), (',', ','), ('ambos', 'PROSUB'), ('durante', 'PREP'), ('as', 'ART'), ('temporadas', 'N'), ('em', 'PREP|+'), ('que', 'PRO-KS-REL'), ('a', 'ART'), ('equipe', 'N'), ('conquistou', 'V'), ('títulos', 'N'), ('de', 'PREP'), ('divisão', 'N'), (',', ','), ('em', 'PREP|+'), ('1983', 'N'), ('e', 'KC'), ('1985', 'N'), ('.', '.'), ('[', '['), ('22', 'NUM'), (']', None), ('[', '['), ('23', 'NUM'), (']', None), ('Em', 'PREP|+'), ('18', 'NUM'), ('de', 'PREP'), ('outubro', 'N'), ('de', 'PREP'), ('1977', 'N'), (',', ','), ('Abdul-Jabbar', 'NPROP'), (',', ','), ('jogando', 'V'), ('nos', 'PROPESS'), ('Lakers', 'NPROP'), (',', ','), ('deu', 'V'), ('um', 'ART'), ('soco', 'N'), ('em', 'PREP|+'), ('Benson', 'NPROP'), ('durante', 'PREP'), ('um', 'ART'), ('jogo', 'N'), ('.', '.'), ('Abdul-Jabbar', 'NPROP'), ('quebrou', 'V'), ('a', 'ART'), ('mão', 'N'), ('no', 'KC'), ('processo', 'N'), ('e', 'KC'), ('foi', 'VAUX'), ('multado', 'PCP'), ('em', 'PREP|+'), ('US', None), ('$', '$'), ('5.000', 'NUM'), ('pela', 'NPROP'), ('NBA', 'NPROP'), ('e', 'KC'), ('perdeu', 'V'), ('os', 'ART'), ('próximos', 'ADJ'), ('20', 'NUM'), ('jogos', 'N'), ('.', '.'), ('[', '['), ('24', 'NUM'), (']', None), ('Enquanto', 'KS'), ('isso', 'PROSUB'), (',', ','), ('Benson', 'NPROP'), ('nunca', 'ADV'), ('jogou', 'V'), ('de', 'PREP'), ('forma', 'N'), ('tão', 'ADV'), ('agressiva', 'ADJ'), ('novamente', 'ADV'), ('e', 'KC'), ('os', 'ART'), ('Bucks', 'NPROP'), ('o', 'ART'), ('trocou', 'V'), ('para', 'PREP'), ('o', 'ART'), ('Detroit', 'NPROP'), ('Pistons', 'NPROP'), ('em', 'PREP|+'), ('1980', 'N'), ('pelo', 'PDEN'), ('veterano', 'N'), ('Bob', 'NPROP'), ('Lanier', None), ('.', '.'), ('Eles', 'PROPESS'), ('conquistaram', 'V'), ('o', 'ART'), ('título', 'N'), ('da', 'NPROP'), ('Divisão', 'NPROP'), ('Centro-Oeste', 'NPROP'), ('em', 'PREP|+'), ('1980', 'N'), ('.', '.'), ('[', '['), ('25', 'NUM'), (']', None), ('Depois', 'ADV'), ('de', 'PREP'), ('perder', 'V'), ('para', 'PREP'), ('Seattle', 'NPROP'), ('nas', 'NPROP'), ('semifinais', 'N'), (',', ','), ('[', '['), ('26', 'NUM'), (']', None), ('os', 'ART'), ('Bucks', 'NPROP'), ('se', 'PROPESS'), ('mudaram', 'V'), ('para', 'PREP'), ('a', 'ART'), ('Divisão', 'NPROP'), ('Central', 'NPROP'), ('da', 'NPROP'), ('Conferência', 'NPROP'), ('Leste', 'NPROP'), ('.', '.'), ('1979-1990', None), (':', ':'), ('Era', 'V'), ('Sidney', 'NPROP'), ('Moncrief', None), ('Nos', 'PROPESS'), ('anos', 'N'), ('seguintes', 'ADJ'), (',', ','), ('eles', 'PROPESS'), ('ganharam', 'V'), ('seis', 'NUM'), ('títulos', 'N'), ('de', 'PREP'), ('divisão', 'N'), ('consecutivos', 'ADJ'), ('.', '.'), ('Nesses', None), ('anos', 'N'), (',', ','), ('os', 'ART'), ('Bucks', 'NPROP'), ('se', 'PROPESS'), ('tornaram', 'V'), ('perenes', 'ADJ'), ('candidatos', 'N'), ('à', 'NPROP'), ('Conferência', 'NPROP'), ('Leste', 'NPROP'), (',', ','), ('principalmente', 'ADV'), ('devido', 'PREP|+'), ('ao', 'PREP'), ('forte', 'ADJ'), ('desempenho', 'N'), ('de', 'PREP'), ('Moncrief', None), (',', ','), ('Marques', 'NPROP'), ('Johnson', 'NPROP'), (',', ','), ('Paul', 'NPROP'), ('Pressey', None), (',', ','), ('Craig', 'NPROP'), ('Hodges', None), ('e', 'KC'), ('a', 'ART'), ('chegada', 'N'), ('de', 'PREP'), ('Terry', 'NPROP'), ('Cummings', 'NPROP'), (',', ','), ('Ricky', 'NPROP'), ('Pierce', 'NPROP'), ('e', 'KC'), ('Jack', 'NPROP'), ('Sikma', None), ('de', 'PREP'), ('negociações', 'N'), ('com', 'PREP'), ('o', 'ART'), ('Los', 'NPROP'), ('Angeles', 'NPROP'), ('Clippers', 'NPROP'), ('e', 'KC'), ('o', 'ART'), ('Seattle', 'NPROP'), ('SuperSonics', None), (',', ','), ('respectivamente', 'ADV'), ('.', '.'), ('No', 'KC'), ('entanto', 'KC'), (',', ','), ('os', 'ART'), ('Bucks', 'NPROP'), ('não', 'ADV'), ('conseguiram', 'V'), ('chegar', 'V'), ('às', 'ADV'), ('finais', 'N'), ('da', 'NPROP'), ('NBA', 'NPROP'), ('novamente', 'ADV'), (',', ','), ('sendo', 'VAUX'), ('eliminados', 'PCP'), ('pelos', None), ('Celtics', 'NPROP'), ('ou', 'KC'), ('pelos', None), ('Sixers', None), ('.', '.'), ('[', '['), ('27', 'NUM'), (']', None), ('[', '['), ('28', 'NUM'), (']', None), ('[', '['), ('29', 'NUM'), (']', None), ('Durante', 'PREP'), ('grande', 'ADJ'), ('parte', 'N'), ('da', 'NPROP'), ('década', 'N'), ('de', 'PREP'), ('1970', 'N'), (',', ','), ('as', 'ART'), ('cores', 'N'), ('do', 'NPROP'), ('Bucks', 'NPROP'), ('eram', 'V'), ('verde', 'ADJ'), ('floresta', 'N'), (',', ','), ('vermelho', 'ADJ'), ('escuro', 'N'), ('e', 'KC'), ('branco', 'N'), ('.', '.'), ('Em', 'PREP|+'), ('1978', 'N'), (',', ','), ('eles', 'PROPESS'), ('adicionaram', 'V'), ('vários', 'PROADJ'), ('tons', 'N'), ('de', 'PREP'), ('verde', 'ADJ'), ('aos', 'ADV'), ('uniformes', 'N'), ('e', 'KC'), (',', ','), ('em', 'PREP|+'), ('1985', 'N'), (',', ','), ('eliminaram', 'V'), ('o', 'ART'), ('vermelho', 'ADJ'), ('das', 'NPROP'), ('cores', 'N'), ('da', 'NPROP'), ('equipe', 'N'), ('.', '.'), ('Mudanças', 'N'), ('de', 'PREP'), ('dono', 'N'), ('e', 'KC'), ('de', 'PREP'), ('arena', 'N'), ('Em', 'PREP|+'), ('1985', 'N'), (',', ','), ('Fitzgerald', 'NPROP'), ('e', 'KC'), ('seus', 'PROADJ'), ('parceiros', 'N'), ('decidiram', 'V'), ('vender', 'V'), ('os', 'ART'), ('Bucks', 'NPROP'), ('.', '.'), ('Ele', 'PROPESS'), ('estava', 'V'), ('com', 'PREP'), ('problemas', 'N'), ('de', 'PREP'), ('saúde', 'N'), ('e', 'KC'), ('alguns', 'PROADJ'), ('de', 'PREP'), ('seus', 'PROADJ'), ('investidores', 'N'), ('queriam', 'V'), ('sair', 'V'), ('.', '.'), ('Os', 'ART'), ('Bucks', 'NPROP'), ('estavam', 'V'), ('jogando', 'V'), ('na', 'NPROP'), ('menor', 'ADJ'), ('arena', 'N'), ('da', 'NPROP'), ('NBA', 'NPROP'), ('e', 'KC'), ('a', 'ART'), ('cidade', 'N'), ('não', 'ADV'), ('queria', 'V'), ('construir', 'V'), ('uma', 'ART'), ('nova', 'ADJ'), ('.', '.'), ('O', 'ART'), ('empresário', 'N'), ('de', 'PREP'), ('Milwaukee', 'NPROP'), ('e', 'KC'), ('futuro', 'N'), ('senador', 'N'), ('norte-americano', 'ADJ'), (',', ','), ('Herb', 'NPROP'), ('Kohl', 'NPROP'), (',', ','), ('comprou', 'V'), ('o', 'ART'), ('Bucks', 'NPROP'), ('depois', 'ADV'), ('de', 'PREP'), ('temer', 'V'), ('que', 'PRO-KS-REL'), ('investidores', 'N'), ('de', 'PREP'), ('fora', 'PREP|+'), ('da', 'NPROP'), ('cidade', 'N'), ('pudessem', 'VAUX'), ('comprar', 'V'), ('a', 'ART'), ('equipe', 'N'), ('e', 'KC'), ('removê-la', None), ('de', 'PREP'), ('Milwaukee', 'NPROP'), ('.', '.'), ('Antes', 'ADV'), ('da', 'NPROP'), ('conclusão', 'N'), ('da', 'NPROP'), ('transação', 'N'), (',', ','), ('Lloyd', 'NPROP'), ('Pettit', None), ('e', 'KC'), ('sua', 'PROADJ'), ('esposa', 'N'), (',', ','), ('Jane', 'NPROP'), ('Bradley', 'NPROP'), ('Pettit', None), (',', ','), ('anunciaram', 'V'), ('que', 'PRO-KS-REL'), ('estavam', 'V'), ('doando', 'V'), ('uma', 'ART'), ('nova', 'ADJ'), ('arena', 'N'), ('chamada', 'PCP'), ('Bradley', 'NPROP'), ('Center', 'NPROP'), ('.', '.'), ('Em', 'PREP|+'), ('2003', None), (',', ','), ('depois', 'ADV'), ('de', 'PREP'), ('considerar', 'V'), ('vender', 'V'), ('a', 'ART'), ('equipe', 'N'), (',', ','), ('Kohl', 'NPROP'), ('anunciou', 'V'), ('que', 'PRO-KS-REL'), ('havia', 'VAUX'), ('decidido', 'PCP'), ('não', 'ADV'), ('vender', 'V'), ('os', 'ART'), ('Bucks', 'NPROP'), ('para', 'PREP'), ('Michael', 'NPROP'), ('Jordan', 'NPROP'), ('e', 'KC'), ('que', 'PRO-KS-REL'), ('``', None), ('continuaria', 'V'), ('a', 'ART'), ('possuí-los', None), (',', ','), ('melhorá-los', None), ('e', 'KC'), ('comprometê-los', None), ('a', 'ART'), ('permanecer', 'V'), ('em', 'PREP|+'), ('Wisconsin', None), (\"''\", None), ('.', '.'), ('Em', 'PREP|+'), ('21', 'NUM'), ('de', 'PREP'), ('maio', 'N'), ('de', 'PREP'), ('2012', 'N|AP'), (',', ','), ('os', 'ART'), ('direitos', 'N'), ('de', 'PREP'), ('nomeação', 'N'), ('do', 'NPROP'), ('Bradley', 'NPROP'), ('Center', 'NPROP'), ('foram', 'VAUX'), ('vendidos', 'PCP'), ('à', 'NPROP'), ('BMO', None), ('Harris', 'NPROP'), ('Bank', 'NPROP'), ('.', '.'), ('Depois', 'ADV'), ('que', 'PRO-KS-REL'), ('os', 'ART'), ('herdeiros', 'N'), ('da', 'NPROP'), ('fortuna', 'N'), ('Bradley', 'NPROP'), ('deram', 'V'), ('sua', 'PROADJ'), ('aprovação', 'N'), (',', ','), ('a', 'ART'), ('arena', 'N'), ('foi', 'VAUX'), ('renomeada', None), ('como', 'PREP'), ('``', None), ('BMO', None), ('Harris', 'NPROP'), ('Bradley', 'NPROP'), ('Center', 'NPROP'), (\"''\", None), ('.', '.'), ('[', '['), ('30', 'NUM'), (']', None), ('1990-1998', None), (':', ':'), ('Era', 'V'), ('de', 'PREP'), ('dificuldade', 'N'), ('Toni', 'NPROP'), ('Kukoč', None), ('jogando', 'V'), ('pelos', None), ('Bucks', 'NPROP'), ('.', '.'), ('Na', 'NPROP'), ('maior', 'ADJ'), ('parte', 'N'), ('da', 'NPROP'), ('década', 'N'), ('de', 'PREP'), ('1990', 'N'), (',', ','), ('a', 'ART'), ('franquia', 'N'), ('foi', 'VAUX'), ('atolada', None), ('em', 'PREP|+'), ('mediocridade', 'N'), ('sendo', 'VAUX'), ('comandada', 'PCP'), ('pelos', None), ('treinadores', 'N'), ('Frank', 'NPROP'), ('Hamblen', None), (',', ','), ('Mike', 'NPROP'), ('Dunleavy', None), ('e', 'KC'), ('Chris', 'NPROP'), ('Ford', 'NPROP'), ('.', '.'), ('De', 'PREP|+'), ('1991', 'N'), ('a', 'ART'), ('1998', 'N'), (',', ','), ('os', 'ART'), ('Bucks', 'NPROP'), ('sofreram', 'V'), ('um', 'ART'), ('recorde', 'N'), ('de', 'PREP'), ('sete', 'NUM'), ('temporadas', 'N'), ('consecutivas', 'ADJ'), ('com', 'PREP'), ('mais', 'ADV'), ('derrotas', 'N'), ('do', 'NPROP'), ('que', 'PRO-KS-REL'), ('vitórias', 'N'), ('.', '.'), ('Durante', 'PREP'), ('esse', 'PROADJ'), ('período', 'N'), (',', ','), ('os', 'ART'), ('Bucks', 'NPROP'), ('selecionaram', 'V'), ('Glenn', 'NPROP'), ('Robinson', 'NPROP'), ('com', 'PREP'), ('a', 'ART'), ('primeira', 'ADJ'), ('escolha', 'N'), ('geral', 'ADJ'), ('no', 'KC'), ('Draft', None), ('de', 'PREP'), ('1994', 'N'), ('[', '['), ('31', 'NUM'), (']', None), ('e', 'KC'), (',', ','), ('em', 'PREP|+'), ('1996', 'N'), (',', ','), ('adquiriu', 'V'), ('o', 'ART'), ('novato', 'N'), ('Ray', 'NPROP'), ('Allen', 'NPROP'), ('em', 'PREP|+'), ('uma', 'ART'), ('negociação', 'N'), ('com', 'PREP'), ('o', 'ART'), ('Minnesota', 'NPROP'), ('Timberwolves', 'NPROP'), ('.', '.'), ('Ambos', 'PROSUB'), ('os', 'ART'), ('jogadores', 'N'), ('teriam', 'VAUX'), ('papéis', 'N'), ('proeminentes', None), ('no', 'KC'), ('ressurgimento', 'N'), ('dos', 'NPROP'), ('Bucks', 'NPROP'), ('durante', 'PREP'), ('o', 'ART'), ('final', 'N'), ('dos', 'NPROP'), ('anos', 'N'), ('90', 'NUM'), ('.', '.'), ('Após', 'PREP'), ('o', 'ART'), ('25º', 'ADJ'), ('aniversário', 'N'), ('da', 'NPROP'), ('franquia', 'N'), ('em', 'PREP|+'), ('1993', 'N'), (',', ','), ('os', 'ART'), ('Bucks', 'NPROP'), ('revisou', None), ('seu', 'PROADJ'), ('logotipo', 'N'), ('e', 'KC'), ('seus', 'PROADJ'), ('uniformes', 'N'), ('.', '.'), ('O', 'ART'), ('antigo', 'ADJ'), ('logotipo', 'N'), (',', ','), ('que', 'PRO-KS-REL'), ('apresentava', 'V'), ('um', 'ART'), ('cervo', 'N'), ('de', 'PREP'), ('desenho', 'N'), ('animado', 'PCP'), (',', ','), ('foi', 'VAUX'), ('substituído', 'PCP'), ('por', 'PREP|+'), ('um', 'ART'), ('mais', 'ADV'), ('realista', 'ADJ'), ('.', '.'), ('O', 'ART'), ('esquema', 'N'), ('de', 'PREP'), ('cores', 'N'), ('primárias', 'ADJ'), ('também', 'PDEN'), ('foi', 'VAUX'), ('alterado', 'PCP'), (',', ','), ('quando', 'KS'), ('o', 'ART'), ('vermelho', 'ADJ'), ('foi', 'VAUX'), ('suplantado', 'PCP'), ('pelo', 'PDEN'), ('roxo', 'ADJ'), ('.', '.'), ('Os', 'ART'), ('uniformes', 'N'), ('roxos', None), ('substituíram', 'V'), ('os', 'ART'), ('antigos', 'ADJ'), ('uniformes', 'N'), ('verdes', 'ADJ'), ('.', '.'), ('Na', 'NPROP'), ('Temporada', None), ('de', 'PREP'), ('1997–98', None), (',', ','), ('os', 'ART'), ('Bucks', 'NPROP'), ('terminaram', 'V'), ('a', 'ART'), ('sua', 'PROADJ'), ('temporada', 'N'), ('com', 'PREP'), ('um', 'ART'), ('recorde', 'N'), ('de', 'PREP'), ('36-46', None), (',', ','), ('não', 'ADV'), ('conseguindo', 'V'), ('ir', 'V'), ('para', 'PREP'), ('os', 'ART'), ('playoffs', 'N|EST'), ('pela', 'NPROP'), ('sétima', 'ADJ'), ('vez', 'N'), ('consecutiva', 'ADJ'), ('.', '.'), ('[', '['), ('32', 'NUM'), (']', None), ('1998–2003', None), (':', ':'), ('Era', 'V'), ('do', 'NPROP'), ('Big', 'NPROP'), ('Three', 'NPROP'), ('Após', 'PREP'), ('uma', 'ART'), ('década', 'N'), ('morando', 'V'), ('na', 'NPROP'), ('parte', 'N'), ('de', 'PREP'), ('baixo', 'ADJ'), ('da', 'NPROP'), ('classificação', 'N'), ('da', 'NPROP'), ('NBA', 'NPROP'), (',', ','), ('os', 'ART'), ('Bucks', 'NPROP'), ('procurou', 'V'), ('dar', 'V'), ('credibilidade', 'N'), ('às', 'ADV'), ('suas', 'PROADJ'), ('operações', 'N'), ('de', 'PREP'), ('basquete', 'N'), ('.', '.'), ('Em', 'PREP|+'), ('1998', 'N'), (',', ','), ('a', 'ART'), ('equipe', 'N'), ('contratou', 'V'), ('o', 'ART'), ('técnico', 'N'), ('George', 'NPROP'), ('Karl', 'NPROP'), (',', ','), ('que', 'PRO-KS-REL'), ('havia', 'VAUX'), ('chegado', 'PCP'), ('às', 'ADV'), ('finais', 'N'), ('da', 'NPROP'), ('NBA', 'NPROP'), ('com', 'PREP'), ('o', 'ART'), ('Seattle', 'NPROP'), ('SuperSonics', None), ('.', '.'), ('Sob', 'PREP'), ('a', 'ART'), ('liderança', 'N'), ('de', 'PREP'), ('Karl', 'NPROP'), ('e', 'KC'), ('o', 'ART'), ('gerente', 'N'), ('geral', 'ADJ'), ('Ernie', 'NPROP'), ('Grunfeld', None), (',', ','), ('e', 'KC'), ('com', 'PREP'), ('a', 'ART'), ('constante', 'ADJ'), ('adição', 'N'), ('de', 'PREP'), ('talentos', 'N'), ('como', 'PREP'), ('Tim', 'NPROP'), ('Thomas', 'NPROP'), ('e', 'KC'), ('Sam', 'NPROP'), ('Cassell', None), (',', ','), ('os', 'ART'), ('Bucks', 'NPROP'), ('se', 'PROPESS'), ('tornaram', 'V'), ('uma', 'ART'), ('equipe', 'N'), ('de', 'PREP'), ('elite', 'N'), ('na', 'NPROP'), ('Conferência', 'NPROP'), ('Leste', 'NPROP'), ('.', '.'), ('O', 'ART'), ('núcleo', 'N'), ('do', 'NPROP'), ('``', None), ('Big', 'NPROP'), ('Three', 'NPROP'), (\"''\", None), ('-', '-'), ('constituído', 'PCP'), ('por', 'PREP|+'), ('Ray', 'NPROP'), ('Allen', 'NPROP'), (',', ','), ('Cassell', None), ('e', 'KC'), ('Robinson', 'NPROP'), ('-', '-'), ('junto', 'PREP|+'), ('com', 'PREP'), ('Karl', 'NPROP'), (',', ','), ('criou', 'V'), ('uma', 'ART'), ('era', 'V'), ('de', 'PREP'), ('renascimento', 'N'), ('bem-sucedida', 'ADJ'), ('em', 'PREP|+'), ('Milwaukee', 'NPROP'), ('.', '.'), ('A', 'ART'), ('equipe', 'N'), ('atingiu', 'V'), ('seu', 'PROADJ'), ('apogeu', 'N'), ('na', 'NPROP'), ('temporada', 'N'), ('de', 'PREP'), ('2000-01', None), (',', ','), ('vencendo', 'V'), ('52', 'NUM'), ('jogos', 'N'), ('e', 'KC'), ('seu', 'PROADJ'), ('primeiro', 'ADJ'), ('título', 'N'), ('de', 'PREP'), ('divisão', 'N'), ('em', 'PREP|+'), ('15', 'NUM'), ('anos', 'N'), ('.', '.'), ('[', '['), ('33', 'NUM'), (']', None), ('Os', 'ART'), ('Bucks', 'NPROP'), ('chegou', 'V'), ('às', 'ADV'), ('finais', 'N'), ('da', 'NPROP'), ('Conferência', 'NPROP'), ('Leste', 'NPROP'), ('de', 'PREP'), ('2001', 'N'), ('mas', 'KC'), ('perderam', 'V'), ('em', 'PREP|+'), ('sete', 'NUM'), ('jogos', 'N'), ('para', 'PREP'), ('os', 'ART'), ('76ers', None), ('.', '.'), ('[', '['), ('34', 'NUM'), (']', None), ('A', 'ART'), ('equipe', 'N'), ('procurou', 'V'), ('fazer', 'V'), ('acréscimos', 'N'), ('importantes', 'ADJ'), ('para', 'PREP'), ('colocar', 'V'), ('a', 'ART'), ('equipe', 'N'), ('nas', 'NPROP'), ('finais', 'N'), ('da', 'NPROP'), ('NBA', 'NPROP'), ('.', '.'), ('Por', 'PREP'), ('trás', 'ADV'), ('do', 'NPROP'), ('forte', 'ADJ'), ('incentivo', 'N'), ('de', 'PREP'), ('George', 'NPROP'), ('Karl', 'NPROP'), (',', ','), ('eles', 'PROPESS'), ('adquiriu', 'V'), ('Anthony', 'NPROP'), ('Mason', 'NPROP'), ('no', 'KC'), ('início', 'N'), ('da', 'NPROP'), ('temporada', 'N'), ('de', 'PREP'), ('2001-02', None), ('.', '.'), ('No', 'KC'), ('papel', 'N'), (',', ','), ('essa', 'PROADJ'), ('mudança', 'N'), ('fez', 'V'), ('dos', 'NPROP'), ('Bucks', 'NPROP'), ('o', 'ART'), ('time', 'N'), ('favorito', 'N'), ('no', 'KC'), ('Leste', 'NPROP'), ('.', '.'), ('No', 'KC'), ('entanto', 'KC'), (',', ','), ('Mason', 'NPROP'), ('lutou', 'V'), ('com', 'PREP'), ('seu', 'PROADJ'), ('peso', 'N'), ('e', 'KC'), ('teve', 'V'), ('dificuldade', 'N'), ('em', 'PREP|+'), ('encontrar', 'V'), ('seu', 'PROADJ'), ('papel', 'N'), ('na', 'NPROP'), ('equipe', 'N'), ('.', '.'), ('Os', 'ART'), ('Bucks', 'NPROP'), (',', ','), ('que', 'PRO-KS-REL'), ('no', 'KC'), ('meio', 'N'), ('da', 'NPROP'), ('temporada', 'N'), ('teve', 'V'), ('a', 'ART'), ('quarta', 'N'), ('melhor', 'ADJ'), ('campanha', 'N'), ('na', 'NPROP'), ('Conferência', 'NPROP'), ('Leste', 'NPROP'), (',', ','), ('caiu', 'V'), ('em', 'PREP|+'), ('fevereiro', 'N'), ('e', 'KC'), ('março', 'N'), ('.', '.'), ('O', 'ART'), ('colapso', 'N'), ('culminou', 'V'), ('com', 'PREP'), ('uma', 'ART'), ('derrota', 'N'), ('para', 'PREP'), ('o', 'ART'), ('Detroit', 'NPROP'), ('Pistons', 'NPROP'), ('no', 'KC'), ('último', 'ADJ'), ('jogo', 'N'), ('da', 'NPROP'), ('temporada', 'N'), (',', ','), ('que', 'PRO-KS-REL'), ('eliminou', 'V'), ('os', 'ART'), ('Bucks', 'NPROP'), ('dos', 'NPROP'), ('playoffs', 'N|EST'), ('e', 'KC'), ('deu', 'V'), ('a', 'ART'), ('divisão', 'N'), ('aos', 'ADV'), ('Pistons', 'NPROP'), ('.', '.'), ('A', 'ART'), ('queda', 'N'), ('criou', 'V'), ('tensão', 'N'), ('entre', 'PREP'), ('Karl', 'NPROP'), ('e', 'KC'), ('os', 'ART'), ('jogadores', 'N'), (',', ','), ('resultando', 'V'), ('em', 'PREP|+'), ('uma', 'ART'), ('troca', 'N'), ('de', 'PREP'), ('Glenn', 'NPROP'), ('Robinson', 'NPROP'), ('para', 'PREP'), ('Atlanta', 'NPROP'), ('(', '('), ('por', 'PREP|+'), ('Toni', 'NPROP'), ('Kukoč', None), ('e', 'KC'), ('uma', 'ART'), ('seleção', 'N'), ('de', 'PREP'), ('draft', 'N|EST'), ('que', 'PRO-KS-REL'), ('foi', 'VAUX'), ('usada', 'PCP'), ('para', 'PREP'), ('selecionar', 'V'), ('T.', 'NPROP'), ('J.', 'NPROP'), ('Ford', 'NPROP'), (')', ')'), ('.', '.'), ('Durante', 'PREP'), ('a', 'ART'), ('temporada', 'N'), ('de', 'PREP'), ('2002-03', None), (',', ','), ('os', 'ART'), ('Bucks', 'NPROP'), ('trocaram', 'V'), ('Ray', 'NPROP'), ('Allen', 'NPROP'), ('e', 'KC'), ('Ronald', 'NPROP'), ('Murray', 'NPROP'), ('para', 'PREP'), ('o', 'ART'), ('Seattle', 'NPROP'), ('SuperSonics', None), ('em', 'PREP|+'), ('troca', 'N'), ('de', 'PREP'), ('Gary', 'NPROP'), ('Payton', 'NPROP'), ('e', 'KC'), ('Desmond', None), ('Mason', 'NPROP'), ('.', '.'), ('O', 'ART'), ('negócio', 'N'), ('permitiu', 'V'), ('que', 'PRO-KS-REL'), ('o', 'ART'), ('astro', 'N'), ('emergente', 'ADJ'), ('Michael', 'NPROP'), ('Redd', None), ('visse', 'V'), ('um', 'ART'), ('aumento', 'N'), ('no', 'KC'), ('tempo', 'N'), ('de', 'PREP'), ('jogo', 'N'), ('e', 'KC'), (',', ','), ('com', 'PREP'), ('Payton', 'NPROP'), ('na', 'NPROP'), ('quadra', 'N'), ('de', 'PREP'), ('defesa', 'N'), (',', ','), ('eles', 'PROPESS'), ('terminaram', 'V'), ('a', 'ART'), ('temporada', 'N'), ('com', 'PREP'), ('um', 'ART'), ('recorde', 'N'), ('de', 'PREP'), ('42-40', None), ('.', '.'), ('[', '['), ('35', 'NUM'), (']', None), ('Os', 'ART'), ('Bucks', 'NPROP'), ('foram', 'VAUX'), ('para', 'PREP'), ('os', 'ART'), ('playoffs', 'N|EST'), (',', ','), ('mas', 'KC'), ('perderam', 'V'), ('na', 'NPROP'), ('primeira', 'ADJ'), ('rodada', 'N'), ('para', 'PREP'), ('o', 'ART'), ('New', 'NPROP'), ('Jersey', 'NPROP'), ('Nets', 'NPROP'), ('em', 'PREP|+'), ('seis', 'NUM'), ('jogos', 'N'), ('.', '.'), ('[', '['), ('36', 'NUM'), (']', None), ('Após', 'PREP'), ('a', 'ART'), ('temporada', 'N'), (',', ','), ('a', 'ART'), ('equipe', 'N'), ('perdeu', 'V'), ('o', 'ART'), ('treinador', 'N'), ('e', 'KC'), ('os', 'ART'), ('jogadores', 'N'), ('mais', 'ADV'), ('responsáveis', 'ADJ'), ('\\u200b\\u200bpelo', None), ('sucesso', 'N'), ('da', 'NPROP'), ('equipe', 'N'), ('.', '.'), ('2003-2009', None), (':', ':'), ('Era', 'V'), ('Michael', 'NPROP'), ('Redd', None), ('Michael', 'NPROP'), ('Redd', None), ('jogando', 'V'), ('pelos', None), ('Bucks', 'NPROP'), ('.', '.'), ('Sob', 'PREP'), ('a', 'ART'), ('direção', 'N'), ('do', 'NPROP'), ('novo', 'ADJ'), ('gerente', 'N'), ('geral', 'ADJ'), ('Larry', 'NPROP'), ('Harris', 'NPROP'), (',', ','), ('os', 'ART'), ('Bucks', 'NPROP'), ('enfrentaram', 'V'), ('inconsistências', 'N'), ('e', 'KC'), ('lesões', 'N'), ('pelos', None), ('próximos', 'ADJ'), ('seis', 'NUM'), ('anos', 'N'), ('.', '.'), ('Durante', 'PREP'), ('esse', 'PROADJ'), ('período', 'N'), (',', ','), ('eles', 'PROPESS'), ('chegaram', 'V'), ('aos', 'ADV'), ('playoffs', 'N|EST'), ('duas', 'NUM'), ('vezes', 'N'), (',', ','), ('primeiro', 'ADJ'), ('com', 'PREP'), ('o', 'ART'), ('técnico', 'N'), ('Terry', 'NPROP'), ('Porter', 'NPROP'), ('em', 'PREP|+'), ('2004', None), ('[', '['), ('37', 'NUM'), (']', None), ('e', 'KC'), ('depois', 'ADV'), ('com', 'PREP'), ('Terry', 'NPROP'), ('Stotts', None), ('em', 'PREP|+'), ('2006', 'N'), ('.', '.'), ('[', '['), ('38', 'NUM'), (']', None), ('Em', 'PREP|+'), ('ambos', 'PROSUB'), ('os', 'ART'), ('casos', 'N'), (',', ','), ('foram', 'VAUX'), ('derrotados', 'PCP'), ('pelo', 'PDEN'), ('Detroit', 'NPROP'), ('Pistons', 'NPROP'), ('em', 'PREP|+'), ('cinco', 'NUM'), ('jogos', 'N'), ('.', '.'), ('Durante', 'PREP'), ('esse', 'PROADJ'), ('período', 'N'), (',', ','), ('Michael', 'NPROP'), ('Redd', None), ('se', 'PROPESS'), ('transformou', 'V'), ('em', 'PREP|+'), ('uma', 'ART'), ('estrela', 'N'), (',', ','), ('tornando-se', None), ('o', 'ART'), ('novo', 'ADJ'), ('``', None), ('rosto', 'N'), ('da', 'NPROP'), ('franquia', 'N'), (\"''\", None), ('.', '.'), ('Os', 'ART'), ('Bucks', 'NPROP'), ('tiveram', 'V'), ('a', 'ART'), ('primeira', 'ADJ'), ('escolha', 'N'), ('no', 'KC'), ('Draft', None), ('de', 'PREP'), ('2005', None), ('e', 'KC'), ('selecionou', 'V'), ('Andrew', 'NPROP'), ('Bogut', None), ('.', '.'), ('[', '['), ('39', 'NUM'), (']', None), ('Bogut', None), ('lutou', 'V'), ('com', 'PREP'), ('as', 'ART'), ('lesões', 'N'), ('nos', 'PROPESS'), ('primeiros', 'ADJ'), ('quatro', 'NUM'), ('anos', 'N'), ('em', 'PREP|+'), ('Milwaukee', 'NPROP'), (',', ','), ('mas', 'KC'), ('com', 'PREP'), ('o', 'ART'), ('tempo', 'N'), ('se', 'PROPESS'), ('tornou', 'V'), ('um', 'ART'), ('dos', 'NPROP'), ('principais', 'ADJ'), ('contribuintes', 'N'), ('da', 'NPROP'), ('equipe', 'N'), ('.', '.'), ('Na', 'NPROP'), ('temporada', 'N'), ('de', 'PREP'), ('2005–06', None), (',', ','), ('o', 'ART'), ('time', 'N'), ('terminou', 'V'), ('com', 'PREP'), ('um', 'ART'), ('recorde', 'N'), ('de', 'PREP'), ('40-42', None), (',', ','), ('o', 'ART'), ('último', 'ADJ'), ('em', 'PREP|+'), ('sua', 'PROADJ'), ('divisão', 'N'), (',', ','), ('24', 'NUM'), ('jogos', 'N'), ('atrás', 'ADV'), ('do', 'NPROP'), ('Detroit', 'NPROP'), (',', ','), ('mas', 'KC'), ('ainda', 'ADV'), ('foram', 'VAUX'), ('para', 'PREP'), ('os', 'ART'), ('playoffs', 'N|EST'), ('em', 'PREP|+'), ('uma', 'ART'), ('temporada', 'N'), ('em', 'PREP|+'), ('que', 'PRO-KS-REL'), ('todos', 'PROADJ'), ('os', 'ART'), ('times', 'N'), ('de', 'PREP'), ('sua', 'PROADJ'), ('divisão', 'N'), ('se', 'PROPESS'), ('classificaram', 'V'), ('.', '.'), ('Eles', 'PROPESS'), ('foram', 'VAUX'), ('eliminados', 'PCP'), ('pelos', None), ('Pistons', 'NPROP'), ('por', 'PREP|+'), ('4-1', 'N|AP'), ('.', '.'), ('[', '['), ('40', 'NUM'), (']', None), ('Após', 'PREP'), ('a', 'ART'), ('temporada', 'N'), (',', ','), ('os', 'ART'), ('Bucks', 'NPROP'), ('anunciaram', 'V'), ('que', 'PRO-KS-REL'), ('não', 'ADV'), ('renovariam', None), ('o', 'ART'), ('contrato', 'N'), ('do', 'NPROP'), ('gerente', 'N'), ('geral', 'ADJ'), ('Larry', 'NPROP'), ('Harris', 'NPROP'), (',', ','), ('que', 'PRO-KS-REL'), ('expiraria', None), ('em', 'PREP|+'), ('junho', 'N'), ('.', '.'), ('A', 'ART'), ('equipe', 'N'), ('contratou', 'V'), ('John', 'NPROP'), ('Hammond', None), (',', ','), ('ex-vice-presidente', 'N'), ('de', 'PREP'), ('operações', 'N'), ('de', 'PREP'), ('basquete', 'N'), ('dos', 'NPROP'), ('Pistons', 'NPROP'), (',', ','), ('como', 'PREP'), ('seu', 'PROADJ'), ('novo', 'ADJ'), ('gerente', 'N'), ('geral', 'ADJ'), (',', ','), ('dando', 'V'), ('à', 'NPROP'), ('equipe', 'N'), ('de', 'PREP'), ('Milwaukee', 'NPROP'), ('um', 'ART'), ('novo', 'ADJ'), ('diretor', 'N'), ('recentemente', 'ADV'), ('associado', 'PCP'), ('ao', 'PREP'), ('sucesso', 'N'), ('.', '.'), ('[', '['), ('41', 'NUM'), (']', None), ('Em', 'PREP|+'), ('26', 'NUM'), ('de', 'PREP'), ('junho', 'N'), ('de', 'PREP'), ('2008', None), (',', ','), ('os', 'ART'), ('Bucks', 'NPROP'), ('selecionaram', 'V'), ('Joe', 'NPROP'), ('Alexander', 'NPROP'), (',', ','), ('da', 'NPROP'), ('Virgínia', 'NPROP'), ('Ocidental', 'NPROP'), (',', ','), ('como', 'PREP'), ('a', 'ART'), ('oitava', 'ADJ'), ('escolha', 'N'), ('geral', 'ADJ'), ('do', 'NPROP'), ('Draft', None), ('de', 'PREP'), ('2008', None), ('.', '.'), ('[', '['), ('42', 'NUM'), (']', None), ('Alexander', 'NPROP'), ('foi', 'VAUX'), ('o', 'ART'), ('primeiro', 'ADJ'), ('jogador', 'N'), ('nascido', 'PCP'), ('em', 'PREP|+'), ('Taiwan', 'NPROP'), ('na', 'NPROP'), ('NBA', 'NPROP'), ('.', '.'), ('2009–2013', None), (':', ':'), ('Chegada', 'NPROP'), ('de', 'PREP'), ('Brandon', None), ('Jennings', 'NPROP'), ('Brandon', None), ('Jennings', 'NPROP'), ('nos', 'PROPESS'), ('Bucks', 'NPROP'), ('.', '.'), ('No', 'KC'), ('Draft', None), ('da', 'NPROP'), ('NBA', 'NPROP'), ('de', 'PREP'), ('2009', None), (',', ','), ('o', 'ART'), ('Milwaukee', 'NPROP'), ('Bucks', 'NPROP'), ('selecionou', 'V'), ('o', 'ART'), ('armador', 'N'), ('Brandon', None), ('Jennings', 'NPROP'), (',', ','), ('que', 'PRO-KS-REL'), ('não', 'ADV'), ('havia', 'VAUX'), ('feito', 'PCP'), ('universidade', 'N'), (',', ','), ('mas', 'KC'), ('jogado', 'PCP'), ('na', 'NPROP'), ('Itália', 'NPROP'), ('no', 'KC'), ('ano', 'N'), ('anterior', 'ADJ'), ('.', '.'), ('[', '['), ('43', 'NUM'), (']', None), ('A', 'ART'), ('chegada', 'N'), ('de', 'PREP'), ('Jennings', 'NPROP'), (',', ','), ('juntamente', 'ADV'), ('com', 'PREP'), ('a', 'ART'), ('melhoria', 'N'), ('de', 'PREP'), ('Andrew', 'NPROP'), ('Bogut', None), ('e', 'KC'), ('de', 'PREP'), ('Ersan', None), ('İlyasova', None), (',', ','), ('fizeram', 'V'), ('com', 'PREP'), ('que', 'PRO-KS-REL'), ('a', 'ART'), ('equipe', 'N'), ('fosse', 'V'), ('um', 'ART'), ('candidato', 'N'), ('aos', 'ADV'), ('playoffs', 'N|EST'), ('.', '.'), ('A', 'ART'), ('equipe', 'N'), ('conquistou', 'V'), ('uma', 'ART'), ('vaga', 'N'), ('nos', 'PROPESS'), ('playoffs', 'N|EST'), ('em', 'PREP|+'), ('6', 'NUM'), ('de', 'PREP'), ('abril', 'N'), ('de', 'PREP'), ('2010', 'N|AP'), (',', ','), ('com', 'PREP'), ('uma', 'ART'), ('vitória', 'N'), ('sobre', 'PREP'), ('o', 'ART'), ('Chicago', 'NPROP'), ('Bulls', 'NPROP'), ('.', '.'), ('Foi', 'V'), ('durante', 'PREP'), ('esse', 'PROADJ'), ('período', 'N'), ('que', 'PRO-KS-REL'), ('a', 'ART'), ('frase', 'N'), ('``', None), ('Fear', None), ('the', 'NPROP'), ('Deer', None), (\"''\", None), ('começou', 'VAUX'), (',', ','), ('provavelmente', 'ADV'), ('sendo', 'VAUX'), ('feita', 'PCP'), ('por', 'PREP|+'), ('um', 'ART'), ('comentarista', 'N'), ('da', 'NPROP'), ('ESPN', 'NPROP'), (',', ','), ('e', 'KC'), ('foi', 'VAUX'), ('adotada', 'PCP'), ('em', 'PREP|+'), ('fóruns', 'N'), ('e', 'KC'), ('tornou-se', None), ('o', 'ART'), ('grito', 'N'), ('de', 'PREP'), ('guerra', 'N'), ('da', 'NPROP'), ('equipe', 'N'), ('nos', 'PROPESS'), ('playoffs', 'N|EST'), ('da', 'NPROP'), ('NBA', 'NPROP'), ('.', '.'), ('[', '['), ('44', 'NUM'), (']', None), ('Os', 'ART'), ('Bucks', 'NPROP'), ('terminaram', 'V'), ('a', 'ART'), ('temporada', 'N'), ('regular', 'ADJ'), ('com', 'PREP'), ('um', 'ART'), ('recorde', 'N'), ('de', 'PREP'), ('46-36', None), ('[', '['), ('45', 'NUM'), (']', None), ('e', 'KC'), ('foram', 'VAUX'), ('eliminados', 'PCP'), ('na', 'NPROP'), ('primeira', 'ADJ'), ('rodada', 'N'), ('contra', 'PREP'), ('o', 'ART'), ('Atlanta', 'NPROP'), ('Hawks', 'NPROP'), ('.', '.'), ('[', '['), ('46', 'NUM'), (']', None), ('Foi', 'V'), ('o', 'ART'), ('ponto', 'N'), ('mais', 'ADV'), ('longe', 'ADV'), ('que', 'PRO-KS-REL'), ('Milwaukee', 'NPROP'), ('chegou', 'V'), ('na', 'NPROP'), ('pós-temporada', None), ('desde', 'PREP'), ('2001', 'N'), ('.', '.'), ('Na', 'NPROP'), ('temporada', 'N'), ('de', 'PREP'), ('2010-11', None), (',', ','), ('os', 'ART'), ('Bucks', 'NPROP'), ('terminaram', 'V'), ('em', 'PREP|+'), ('nono', 'ADJ'), ('na', 'NPROP'), ('Conferência', 'NPROP'), ('Leste', 'NPROP'), (',', ','), ('fora', 'PREP|+'), ('do', 'NPROP'), ('alcance', 'N'), ('dos', 'NPROP'), ('playoffs', 'N|EST'), ('.', '.'), ('[', '['), ('47', 'NUM'), (']', None), ('Com', 'PREP'), ('Bogut', None), ('fora', 'PREP|+'), ('pelo', 'PDEN'), ('resto', 'N'), ('da', 'NPROP'), ('temporada', 'N'), ('e', 'KC'), ('Stephen', 'NPROP'), ('Jackson', 'NPROP'), ('brigando', 'V'), ('com', 'PREP'), ('o', 'ART'), ('técnico', 'N'), ('Scott', 'NPROP'), ('Skiles', None), (',', ','), ('a', 'ART'), ('equipe', 'N'), ('decidiu', 'V'), ('trocar', 'V'), ('os', 'ART'), ('dois', 'NUM'), ('jogadores', 'N'), ('.', '.'), ('Em', 'PREP|+'), ('13', 'NUM'), ('de', 'PREP'), ('março', 'N'), ('de', 'PREP'), ('2012', 'N|AP'), (',', ','), ('48', 'NUM'), ('horas', 'N'), ('antes', 'ADV'), ('do', 'NPROP'), ('prazo', 'N'), (',', ','), ('os', 'ART'), ('Bucks', 'NPROP'), ('mandaram', 'V'), ('Bogut', None), ('e', 'KC'), ('Jackson', 'NPROP'), ('para', 'PREP'), ('o', 'ART'), ('Golden', 'NPROP'), ('State', 'NPROP'), ('Warriors', 'NPROP'), ('em', 'PREP|+'), ('troca', 'N'), ('de', 'PREP'), ('Monta', 'V|+'), ('Ellis', 'NPROP'), (',', ','), ('Ekpe', None), ('Udoh', None), ('e', 'KC'), ('Kwame', None), ('Brown', 'NPROP'), ('.', '.'), ('Após', 'PREP'), ('32', 'NUM'), ('jogos', 'N'), ('da', 'NPROP'), ('temporada', 'N'), ('de', 'PREP'), ('2012–13', None), (',', ','), ('a', 'ART'), ('equipe', 'N'), ('demitiu', 'V'), ('Skiles', None), (',', ','), ('seu', 'PROADJ'), ('treinador', 'N'), ('desde', 'PREP'), ('2008', None), ('.', '.'), ('Jim', 'NPROP'), ('Boylan', None), ('foi', 'VAUX'), ('anunciado', 'PCP'), ('como', 'PREP'), ('treinador', 'N'), ('interino', 'ADJ'), ('e', 'KC'), ('levou', 'V'), ('os', 'ART'), ('Bucks', 'NPROP'), ('a', 'ART'), ('um', 'ART'), ('recorde', 'N'), ('de', 'PREP'), ('38-44', None), ('.', '.'), ('[', '['), ('48', 'NUM'), (']', None), ('Os', 'ART'), ('Bucks', 'NPROP'), ('se', 'PROPESS'), ('classificaram', 'V'), ('para', 'PREP'), ('os', 'ART'), ('playoffs', 'N|EST'), ('mas', 'KC'), ('foram', 'VAUX'), ('rapidamente', 'ADV'), ('derrotados', 'PCP'), ('por', 'PREP|+'), ('4-0', None), ('pelo', 'PDEN'), ('Miami', 'NPROP'), ('Heat', 'NPROP'), ('.', '.'), ('[', '['), ('49', 'NUM'), (']', None), ('2013–Presente', None), (':', ':'), ('Era', 'V'), ('Giannis', None), ('Antetokounmpo', None), ('2013–2014', None), (':', ':'), ('Sob', 'PREP'), ('o', 'ART'), ('comando', 'N'), ('de', 'PREP'), ('Larry', 'NPROP'), ('Drew', 'NPROP'), ('Giannis', None), ('Antetokounmpo', None), ('jogando', 'V'), ('pelos', None), ('Bucks', 'NPROP'), ('.', '.'), ('Jim', 'NPROP'), ('Boylan', None), ('foi', 'VAUX'), ('dispensado', 'PCP'), ('de', 'PREP'), ('suas', 'PROADJ'), ('funções', 'N'), ('de', 'PREP'), ('treinador', 'N'), ('e', 'KC'), ('o', 'ART'), ('ex-técnico', 'N'), ('do', 'NPROP'), ('Atlanta', 'NPROP'), ('Hawks', 'NPROP'), (',', ','), ('Larry', 'NPROP'), ('Drew', 'NPROP'), (',', ','), ('foi', 'VAUX'), ('contratado', 'PCP'), ('.', '.'), ('Em', 'PREP|+'), ('27', 'NUM'), ('de', 'PREP'), ('junho', 'N'), ('de', 'PREP'), ('2013', None), (',', ','), ('os', 'ART'), ('Bucks', 'NPROP'), ('selecionaram', 'V'), ('o', 'ART'), ('grego', 'ADJ'), ('Giannis', None), ('Antetokounmpo', None), ('como', 'PREP'), ('a', 'ART'), ('15ª', 'ADJ'), ('escolha', 'N'), ('geral', 'ADJ'), ('do', 'NPROP'), ('Draft', None), ('de', 'PREP'), ('2013', None), ('.', '.'), ('[', '['), ('50', 'NUM'), (']', None), ('No', 'KC'), ('início', 'N'), ('da', 'NPROP'), ('temporada', 'N'), ('de', 'PREP'), ('2013-14', None), (',', ','), ('os', 'ART'), ('Bucks', 'NPROP'), ('tinham', 'V'), ('apenas', 'PDEN'), ('quatro', 'NUM'), ('jogadores', 'N'), ('de', 'PREP'), ('sua', 'PROADJ'), ('equipe', 'N'), ('da', 'NPROP'), ('temporada', 'N'), ('anterior', 'ADJ'), ('.', '.'), ('A', 'ART'), ('temporada', 'N'), ('foi', 'VAUX'), ('de', 'PREP'), ('dificuldade', 'N'), ('com', 'PREP'), ('a', 'ART'), ('equipe', 'N'), ('tendo', 'V'), ('o', 'ART'), ('pior', 'ADJ'), ('recorda', 'V'), ('da', 'NPROP'), ('história', 'N'), ('da', 'NPROP'), ('equipe', 'N'), ('com', 'PREP'), ('15-67', None), ('.', '.'), ('[', '['), ('51', 'NUM'), (']', None), ('Em', 'PREP|+'), ('16', 'NUM'), ('de', 'PREP'), ('abril', 'N'), ('de', 'PREP'), ('2014', None), (',', ','), ('o', 'ART'), ('antigo', 'ADJ'), ('dono', 'N'), ('dos', 'NPROP'), ('Bucks', 'NPROP'), (',', ','), ('Herb', 'NPROP'), ('Kohl', 'NPROP'), (',', ','), ('concordou', 'V'), ('em', 'PREP|+'), ('vender', 'V'), ('a', 'ART'), ('sua', 'PROADJ'), ('participação', 'N'), ('majoritária', 'ADJ'), ('da', 'NPROP'), ('equipe', 'N'), ('aos', 'ADV'), ('bilionários', None), ('de', 'PREP'), ('Nova', 'NPROP'), ('York', 'NPROP'), (',', ','), ('Wes', None), ('Edens', None), ('e', 'KC'), ('Marc', 'NPROP'), ('Lasry', None), (',', ','), ('por', 'PREP|+'), ('US', None), ('$', '$'), ('550', 'NUM'), ('milhões', 'N'), (',', ','), ('mas', 'KC'), ('Kohl', 'NPROP'), ('ainda', 'ADV'), ('mantém', 'V'), ('uma', 'ART'), ('participação', 'N'), ('minoritária', 'ADJ'), ('significativa', 'ADJ'), ('na', 'NPROP'), ('equipe', 'N'), ('.', '.'), ('[', '['), ('52', 'NUM'), (']', None), ('Espera-se', None), ('que', 'PRO-KS-REL'), ('os', 'ART'), ('novos', 'ADJ'), ('proprietários', 'N'), ('mantenham', None), ('a', 'ART'), ('equipe', 'N'), ('em', 'PREP|+'), ('Milwaukee', 'NPROP'), ('e', 'KC'), ('também', 'PDEN'), ('contribuiriam', 'V'), ('com', 'PREP'), ('US', None), ('$', '$'), ('100', 'NUM'), ('milhões', 'N'), ('para', 'PREP'), ('a', 'ART'), ('construção', 'N'), ('de', 'PREP'), ('uma', 'ART'), ('nova', 'ADJ'), ('arena', 'N'), ('para', 'PREP'), ('a', 'ART'), ('franquia', 'N'), ('.', '.'), ('Em', 'PREP|+'), ('26', 'NUM'), ('de', 'PREP'), ('junho', 'N'), ('de', 'PREP'), ('2014', None), (',', ','), ('os', 'ART'), ('Bucks', 'NPROP'), ('selecionou', 'V'), ('Jabari', None), ('Parker', 'NPROP'), ('de', 'PREP'), ('Duke', 'NPROP'), ('como', 'PREP'), ('a', 'ART'), ('segunda', 'ADJ'), ('escolha', 'N'), ('geral', 'ADJ'), ('do', 'NPROP'), ('Draft', None), ('de', 'PREP'), ('2014', None), ('.', '.'), ('[', '['), ('53', 'NUM'), (']', None), ('2014–2018', None), (':', ':'), ('Sob', 'PREP'), ('o', 'ART'), ('comando', 'N'), ('de', 'PREP'), ('Jason', 'NPROP'), ('Kidd', 'NPROP'), ('Em', 'PREP|+'), ('1', 'NUM'), ('de', 'PREP'), ('julho', 'N'), ('de', 'PREP'), ('2014', None), (',', ','), ('o', 'ART'), ('Milwaukee', 'NPROP'), ('Bucks', 'NPROP'), ('contratou', 'V'), ('Jason', 'NPROP'), ('Kidd', 'NPROP'), ('para', 'PREP'), ('ser', 'VAUX'), ('o', 'ART'), ('seu', 'PROADJ'), ('novo', 'ADJ'), ('técnico', 'N'), ('.', '.'), ('Com', 'PREP'), ('as', 'ART'), ('muitas', 'PROADJ'), ('mudanças', 'N'), ('nos', 'PROPESS'), ('Bucks', 'NPROP'), (',', ','), ('dentro', 'PREP|+'), ('e', 'KC'), ('fora', 'PREP|+'), ('de', 'PREP'), ('quadra', 'N'), (',', ','), ('o', 'ART'), ('novo', 'ADJ'), ('slogan', 'N|EST'), ('dos', 'NPROP'), ('Bucks', 'NPROP'), ('para', 'PREP'), ('a', 'ART'), ('temporada', 'N'), ('de', 'PREP'), ('2014-15', None), ('se', 'PROPESS'), ('tornou', 'V'), ('``', None), ('Own', 'NPROP'), ('The', 'NPROP'), ('Future', 'NPROP'), (\"''\", None), ('.', '.'), ('A', 'ART'), ('equipe', 'N'), ('terminou', 'V'), ('a', 'ART'), ('temporada', 'N'), ('de', 'PREP'), ('2014-15', None), ('com', 'PREP'), ('um', 'ART'), ('recorde', 'N'), ('de', 'PREP'), ('41–41', None), ('.', '.'), ('[', '['), ('54', 'NUM'), (']', None), ('Sua', 'PROADJ'), ('melhoria', 'N'), ('de', 'PREP'), ('26', 'NUM'), ('jogos', 'N'), ('em', 'PREP|+'), ('relação', 'PREP|+'), ('à', 'NPROP'), ('temporada', 'N'), ('anterior', 'ADJ'), ('foi', 'VAUX'), ('a', 'ART'), ('segunda', 'ADJ'), ('maior', 'ADJ'), ('da', 'NPROP'), ('história', 'N'), ('da', 'NPROP'), ('franquia', 'N'), ('.', '.'), ('Eles', 'PROPESS'), ('se', 'PROPESS'), ('classificaram', 'V'), ('para', 'PREP'), ('os', 'ART'), ('playoffs', 'N|EST'), ('como', 'PREP'), ('a', 'ART'), ('6ª', 'ADJ'), ('melhor', 'ADJ'), ('campanha', 'N'), ('na', 'NPROP'), ('Conferência', 'NPROP'), ('Leste', 'NPROP'), (',', ','), ('onde', 'ADV-KS-REL'), ('foi', 'VAUX'), ('eliminado', 'PCP'), ('pelo', 'PDEN'), ('Chicago', 'NPROP'), ('Bulls', 'NPROP'), ('na', 'NPROP'), ('primeira', 'ADJ'), ('rodada', 'N'), ('.', '.'), ('[', '['), ('55', 'NUM'), (']', None), ('Em', 'PREP|+'), ('6', 'NUM'), ('de', 'PREP'), ('julho', 'N'), ('de', 'PREP'), ('2015', None), (',', ','), ('o', 'ART'), ('presidente', 'N'), ('dos', 'NPROP'), ('Bucks', 'NPROP'), (',', ','), ('Peter', 'NPROP'), ('Feigin', None), (',', ','), ('declarou', 'V'), ('que', 'PRO-KS-REL'), (',', ','), ('se', 'PROPESS'), ('o', 'ART'), ('financiamento', 'N'), ('público', 'N'), ('para', 'PREP'), ('uma', 'ART'), ('nova', 'ADJ'), ('arena', 'N'), ('cair', 'V'), (',', ','), ('a', 'ART'), ('NBA', 'NPROP'), ('poderá', 'VAUX'), ('comprar', 'V'), ('a', 'ART'), ('equipe', 'N'), ('e', 'KC'), ('transferi-la', None), ('para', 'PREP'), ('Las', 'NPROP'), ('Vegas', 'NPROP'), ('ou', 'KC'), ('Seattle', 'NPROP'), ('.', '.'), ('Os', 'ART'), ('atuais', 'ADJ'), ('donos', 'N'), ('dos', 'NPROP'), ('Bucks', 'NPROP'), (',', ','), ('Wes', None), ('Edens', None), (',', ','), ('Marc', 'NPROP'), ('Lasry', None), ('e', 'KC'), ('Jamie', 'NPROP'), ('Dinan', None), (',', ','), ('combinaram-se', None), ('com', 'PREP'), ('Herb', 'NPROP'), ('Kohl', 'NPROP'), ('para', 'PREP'), ('prometer', 'V|+'), ('US', None), ('$', '$'), ('250', 'NUM'), ('milhões', 'N'), ('para', 'PREP'), ('uma', 'ART'), ('nova', 'ADJ'), ('arena', 'N'), ('e', 'KC'), ('buscaram', 'V'), ('uma', 'ART'), ('partida', 'N'), ('do', 'NPROP'), ('público', 'N'), ('.', '.'), ('Desses', None), ('fundos', 'N'), (',', ','), ('US', None), ('$', '$'), ('93', 'N'), ('milhões', 'N'), ('viriam', 'V'), ('do', 'NPROP'), ('Wisconsin', None), ('Center', 'NPROP'), ('District', None), ('na', 'NPROP'), ('forma', 'N'), ('de', 'PREP'), ('novas', 'ADJ'), ('dívidas', 'N'), ('para', 'PREP'), ('os', 'ART'), ('cidadãos', 'N'), ('de', 'PREP'), ('Milwaukee', 'NPROP'), ('.', '.'), ('O', 'ART'), ('distrito', 'N'), ('não', 'ADV'), ('começaria', 'V'), ('a', 'ART'), ('reembolsar', 'V'), ('os', 'ART'), ('títulos', 'N'), ('até', 'PREP'), ('13', 'NUM'), ('anos', 'N'), ('depois', 'ADV'), ('.', '.'), ('[', '['), ('56', 'NUM'), (']', None), ('Em', 'PREP|+'), ('15', 'NUM'), ('de', 'PREP'), ('julho', 'N'), ('de', 'PREP'), ('2015', None), (',', ','), ('o', 'ART'), ('futuro', 'N'), ('dos', 'NPROP'), ('Bucks', 'NPROP'), ('em', 'PREP|+'), ('Milwaukee', 'NPROP'), ('foi', 'VAUX'), ('solidificado', 'PCP'), ('depois', 'ADV'), ('que', 'PRO-KS-REL'), ('o', 'ART'), ('Senado', 'NPROP'), ('do', 'NPROP'), ('Estado', 'N'), ('de', 'PREP'), ('Wisconsin', None), ('votoua', None), ('favor', 'PREP|+'), ('de', 'PREP'), ('uma', 'ART'), ('proposta', 'N'), ('de', 'PREP'), ('uso', 'N'), ('de', 'PREP'), ('dinheiro', 'N'), ('público', 'N'), ('para', 'PREP'), ('ajudar', 'V'), ('a', 'ART'), ('financiar', 'V'), ('uma', 'ART'), ('nova', 'ADJ'), ('arena', 'N'), ('.', '.'), ('A', 'ART'), ('nova', 'ADJ'), ('arena', 'N'), ('substituiria', None), ('o', 'ART'), ('BMO', None), ('Harris', 'NPROP'), ('Bradley', 'NPROP'), ('Center', 'NPROP'), (',', ','), ('que', 'PRO-KS-REL'), ('na', 'NPROP'), ('época', 'N'), ('era', 'V'), ('a', 'ART'), ('terceira', 'ADJ'), ('mais', 'ADV'), ('antiga', 'ADJ'), ('a', 'ART'), ('ser', 'VAUX'), ('usada', 'PCP'), ('por', 'PREP|+'), ('uma', 'ART'), ('equipe', 'N'), ('da', 'NPROP'), ('NBA', 'NPROP'), (',', ','), ('atrás', 'ADV'), ('do', 'NPROP'), ('Oracle', 'NPROP'), ('Arena', 'NPROP'), ('e', 'KC'), ('do', 'NPROP'), ('Madison', 'NPROP'), ('Square', 'NPROP'), ('Garden', 'NPROP'), ('.', '.'), ('O', 'ART'), ('Bradley', 'NPROP'), ('Center', 'NPROP'), ('foi', 'VAUX'), ('inaugurado', 'PCP'), ('em', 'PREP|+'), ('1988', 'N'), ('e', 'KC'), ('havia', 'VAUX'), ('sido', 'PCP'), ('usado', 'PCP'), ('pelos', None), ('Bucks', 'NPROP'), ('por', 'PREP|+'), ('27', 'NUM'), ('temporadas', 'N'), ('consecutivas', 'ADJ'), ('.', '.'), ('[', '['), ('57', 'NUM'), (']', None), ('[', '['), ('58', 'NUM'), (']', None), ('Na', 'NPROP'), ('quadra', 'N'), (',', ','), ('o', 'ART'), ('elenco', 'N'), ('jovem', 'ADJ'), ('do', 'NPROP'), ('Bucks', 'NPROP'), ('deu', 'V'), ('um', 'ART'), ('passo', 'N'), ('atrás', 'ADV'), (',', ','), ('alcançando', 'V'), ('um', 'ART'), ('recorde', 'N'), ('de', 'PREP'), ('33-49', None), ('na', 'NPROP'), ('temporada', 'N'), ('de', 'PREP'), ('2015-16', None), (',', ','), ('embora', 'KS'), ('Giannis', None), ('Antetokounmpo', None), ('tenha', 'VAUX'), ('tido', 'PCP'), ('um', 'ART'), ('melhora', 'V'), ('encorajadora', None), ('na', 'NPROP'), ('metade', 'N'), ('final', 'N'), ('da', 'NPROP'), ('temporada', 'N'), (',', ','), ('acumulando', 'V'), ('5', 'NUM'), ('triplos', None), ('duplos', 'ADJ'), ('.', '.'), ('[', '['), ('59', 'NUM'), (']', None), ('Em', 'PREP|+'), ('19', 'N|AP'), ('de', 'PREP'), ('setembro', 'N'), ('de', 'PREP'), ('2016', None), (',', ','), ('os', 'ART'), ('Bucks', 'NPROP'), ('e', 'KC'), ('Giannis', None), ('Antetokounmpo', None), ('concordaram', 'V'), ('com', 'PREP'), ('uma', 'ART'), ('extensão', 'N'), ('de', 'PREP'), ('contrato', 'N'), ('de', 'PREP'), ('US', None), ('$', '$'), ('100', 'NUM'), ('milhões', 'N'), ('em', 'PREP|+'), ('4', 'NUM'), ('anos', 'N'), ('.', '.'), ('Além', 'PREP|+'), ('disso', 'ADV'), (',', ','), ('a', 'ART'), ('equipe', 'N'), ('acrescentaria', None), ('novas', 'ADJ'), ('melhorias', 'N'), ('à', 'NPROP'), ('equipe', 'N'), ('.', '.'), ('Em', 'PREP|+'), ('8', 'NUM'), ('de', 'PREP'), ('abril', 'N'), ('de', 'PREP'), ('2017', None), (',', ','), ('os', 'ART'), ('Bucks', 'NPROP'), ('venceram', 'V'), ('o', 'ART'), ('Philadelphia', 'NPROP'), ('76ers', None), ('por', 'PREP|+'), ('90-82', None), (',', ','), ('conquistando', 'V'), ('uma', 'ART'), ('vaga', 'N'), ('nos', 'PROPESS'), ('playoffs', 'N|EST'), ('.', '.'), ('Em', 'PREP|+'), ('10', 'NUM'), ('de', 'PREP'), ('abril', 'N'), (',', ','), ('os', 'ART'), ('Bucks', 'NPROP'), ('venceu', 'V'), ('o', 'ART'), ('Charlotte', 'NPROP'), ('Hornets', 'NPROP'), ('por', 'PREP|+'), ('89-79', None), ('e', 'KC'), ('conquistou', 'V'), ('apenas', 'PDEN'), ('a', 'ART'), ('terceira', 'ADJ'), ('temporada', 'N'), ('vencedora', 'ADJ'), ('da', 'NPROP'), ('equipe', 'N'), ('desde', 'PREP'), ('2001', 'N'), ('.', '.'), ('A', 'ART'), ('equipe', 'N'), ('terminou', 'V'), ('a', 'ART'), ('temporada', 'N'), ('de', 'PREP'), ('2016-17', None), ('com', 'PREP'), ('um', 'ART'), ('recorde', 'N'), ('de', 'PREP'), ('42-40', None), ('.', '.'), ('[', '['), ('60', 'NUM'), (']', None), ('Giannis', None), ('Antetokounmpo', None), ('fez', 'V'), ('história', 'N'), (',', ','), ('tornando-se', None), ('o', 'ART'), ('quinto', 'ADJ'), ('jogador', 'N'), ('da', 'NPROP'), ('NBA', 'NPROP'), ('a', 'ART'), ('liderar', 'V'), ('seu', 'PROADJ'), ('time', 'N'), ('nas', 'NPROP'), ('cinco', 'NUM'), ('principais', 'ADJ'), ('categorias', 'N'), ('estatísticas', 'N'), ('e', 'KC'), ('foi', 'VAUX'), ('o', 'ART'), ('primeiro', 'ADJ'), ('na', 'NPROP'), ('história', 'N'), ('da', 'NPROP'), ('NBA', 'NPROP'), ('a', 'ART'), ('terminar', 'V'), ('entre', 'PREP'), ('os', 'ART'), ('20', 'NUM'), ('primeiros', 'ADJ'), ('na', 'NPROP'), ('liga', 'V'), ('em', 'PREP|+'), ('cada', 'PROADJ'), ('categoria', 'N'), ('.', '.'), ('Os', 'ART'), ('Bucks', 'NPROP'), ('perdeu', 'V'), ('na', 'NPROP'), ('rodada', 'N'), ('de', 'PREP'), ('abertura', 'N'), ('para', 'PREP'), ('o', 'ART'), ('Toronto', 'NPROP'), ('Raptors', None), ('por', 'PREP|+'), ('4-2', 'N|AP'), ('.', '.'), ('[', '['), ('61', 'NUM'), (']', None), ('Em', 'PREP|+'), ('22', 'NUM'), ('de', 'PREP'), ('janeiro', 'N'), ('de', 'PREP'), ('2018', None), (',', ','), ('a', 'ART'), ('equipe', 'N'), ('demitiu', 'V'), ('Jason', 'NPROP'), ('Kidd', 'NPROP'), (',', ','), ('que', 'PRO-KS-REL'), ('tinha', 'V'), ('um', 'ART'), ('recorde', 'N'), ('de', 'PREP'), ('23-22', None), ('na', 'NPROP'), ('temporada', 'N'), ('de', 'PREP'), ('2017-18', None), ('.', '.'), ('O', 'ART'), ('técnico', 'N'), ('assistente', 'N'), (',', ','), ('Joe', 'NPROP'), ('Prunty', None), (',', ','), ('foi', 'VAUX'), ('anunciado', 'PCP'), ('como', 'PREP'), ('substituto', 'N'), ('de', 'PREP'), ('Kidd', 'NPROP'), ('em', 'PREP|+'), ('caráter', 'N'), ('provisório', 'ADJ'), ('pelo', 'PDEN'), ('resto', 'N'), ('da', 'NPROP'), ('temporada', 'N'), ('.', '.'), ('Prunty', None), ('terminou', 'V'), ('a', 'ART'), ('temporada', 'N'), ('com', 'PREP'), ('um', 'ART'), ('recorde', 'N'), ('de', 'PREP'), ('21-16', None), (',', ','), ('levando', 'V'), ('a', 'ART'), ('equipe', 'N'), ('a', 'ART'), ('um', 'ART'), ('recorde', 'N'), ('geral', 'ADJ'), ('de', 'PREP'), ('44-38', None), (',', ','), ('o', 'ART'), ('melhor', 'ADJ'), ('desde', 'PREP'), ('a', 'ART'), ('temporada', 'N'), ('de', 'PREP'), ('2009-10', None), ('.', '.'), ('[', '['), ('62', 'NUM'), (']', None), ('Os', 'ART'), ('Bucks', 'NPROP'), ('foram', 'VAUX'), ('eliminados', 'PCP'), ('na', 'NPROP'), ('primeira', 'ADJ'), ('rodada', 'N'), ('pelo', 'PDEN'), ('Boston', 'NPROP'), ('Celtics', 'NPROP'), ('por', 'PREP|+'), ('4-3', 'N|AP'), ('.', '.'), ('[', '['), ('63', 'NUM'), (']', None), ('2018–Presente', None), (':', ':'), ('Sob', 'PREP'), ('o', 'ART'), ('comando', 'N'), ('de', 'PREP'), ('Mike', 'NPROP'), ('Budenholzer', None), ('Em', 'PREP|+'), ('17', 'NUM'), ('de', 'PREP'), ('maio', 'N'), ('de', 'PREP'), ('2018', None), (',', ','), ('os', 'ART'), ('Bucks', 'NPROP'), ('anunciaram', 'V'), ('o', 'ART'), ('ex-técnico', 'N'), ('do', 'NPROP'), ('Atlanta', 'NPROP'), ('Hawks', 'NPROP'), (',', ','), ('Mike', 'NPROP'), ('Budenholzer', None), (',', ','), ('como', 'PREP'), ('seu', 'PROADJ'), ('novo', 'ADJ'), ('técnico', 'N'), ('.', '.'), ('[', '['), ('64', 'NUM'), (']', None), ('Em', 'PREP|+'), ('26', 'NUM'), ('de', 'PREP'), ('agosto', 'N'), ('de', 'PREP'), ('2018', None), (',', ','), ('a', 'ART'), ('nova', 'ADJ'), ('arena', 'N'), ('dos', 'NPROP'), ('Bucks', 'NPROP'), (',', ','), ('Fiserv', None), ('Forum', 'NPROP'), (',', ','), ('foi', 'VAUX'), ('aberta', 'PCP'), ('ao', 'PREP'), ('público', 'N'), ('.', '.'), ('Os', 'ART'), ('Bucks', 'NPROP'), ('terminaram', 'V'), ('a', 'ART'), ('temporada', 'N'), ('de', 'PREP'), ('2018-19', None), ('com', 'PREP'), ('um', 'ART'), ('recorde', 'N'), ('de', 'PREP'), ('60-22', None), (',', ','), ('a', 'ART'), ('quinta', 'N'), ('temporada', 'N'), ('de', 'PREP'), ('60', 'NUM'), ('vitórias', 'N'), ('na', 'NPROP'), ('história', 'N'), ('da', 'NPROP'), ('franquia', 'N'), ('.', '.'), ('[', '['), ('65', 'NUM'), (']', None), ('Eles', 'PROPESS'), ('também', 'PDEN'), ('terminaram', 'V'), ('com', 'PREP'), ('o', 'ART'), ('melhor', 'ADJ'), ('recorde', 'N'), ('da', 'NPROP'), ('liga', 'V'), ('pela', 'NPROP'), ('segunda', 'ADJ'), ('vez', 'N'), ('na', 'NPROP'), ('história', 'N'), ('da', 'NPROP'), ('franquia', 'N'), (',', ','), ('igualando', 'V'), ('a', 'ART'), ('temporada', 'N'), ('de', 'PREP'), ('1970-71', None), ('.', '.'), ('Isso', 'PROSUB'), ('garantiu', 'V'), ('a', 'ART'), ('eles', 'PROPESS'), ('vantagem', 'N'), ('em', 'PREP|+'), ('quadra', 'N'), ('em', 'PREP|+'), ('casa', 'N'), ('em', 'PREP|+'), ('qualquer', 'PROADJ'), ('série', 'N'), ('de', 'PREP'), ('playoffs', 'N|EST'), ('pela', 'NPROP'), ('primeira', 'ADJ'), ('vez', 'N'), ('desde', 'PREP'), ('2001', 'N'), ('e', 'KC'), ('apenas', 'PDEN'), ('pela', 'NPROP'), ('segunda', 'ADJ'), ('vez', 'N'), ('no', 'KC'), ('novo', 'ADJ'), ('milênio', 'N'), ('.', '.'), ('Eles', 'PROPESS'), ('eliminaram', 'V'), ('o', 'ART'), ('Detroit', 'NPROP'), ('Pistons', 'NPROP'), ('[', '['), ('66', 'NUM'), (']', None), ('e', 'KC'), ('o', 'ART'), ('Boston', 'NPROP'), ('Celtics', 'NPROP'), ('[', '['), ('67', 'NUM'), (']', None), ('para', 'PREP'), ('chegar', 'V'), ('à', 'NPROP'), ('sua', 'PROADJ'), ('primeira', 'ADJ'), ('final', 'N'), ('de', 'PREP'), ('conferência', 'N'), ('desde', 'PREP'), ('2001', 'N'), (',', ','), ('onde', 'ADV-KS-REL'), ('perderam', 'V'), ('para', 'PREP'), ('o', 'ART'), ('eventual', 'ADJ'), ('campeão', 'N'), ('da', 'NPROP'), ('liga', 'V'), (',', ','), ('Toronto', 'NPROP'), ('Raptors', None), (',', ','), ('em', 'PREP|+'), ('seis', 'NUM'), ('jogos', 'N'), ('.', '.'), ('[', '['), ('68', 'NUM'), (']', None), ('Após', 'PREP'), ('a', 'ART'), ('temporada', 'N'), (',', ','), ('Giannis', None), ('Antetokounmpo', None), ('foi', 'VAUX'), ('nomeado', 'PCP'), ('o', 'ART'), ('MVP', 'NPROP'), ('da', 'NPROP'), ('liga', 'V'), ('.', '.'), ('Na', 'NPROP'), ('temporada', 'N'), ('de', 'PREP'), ('2019-20', None), (',', ','), ('os', 'ART'), ('Bucks', 'NPROP'), ('conquistaram', 'V'), ('uma', 'ART'), ('vaga', 'N'), ('nos', 'PROPESS'), ('playoffs', 'N|EST'), ('após', 'PREP'), ('o', 'ART'), ('56º', None), ('jogo', 'N'), ('da', 'NPROP'), ('temporada', 'N'), ('regular', 'ADJ'), ('da', 'NPROP'), ('equipe', 'N'), (',', ','), ('tornando-se', None), ('o', 'ART'), ('time', 'N'), ('mais', 'ADV'), ('rápido', 'ADJ'), ('a', 'ART'), ('conquistar', 'V'), ('um', 'ART'), ('lugar', 'N'), ('nos', 'PROPESS'), ('playoffs', 'N|EST'), ('medido', 'PCP'), ('pelo', 'PDEN'), ('número', 'N'), ('de', 'PREP'), ('jogos', 'N'), ('disputados', 'PCP'), ('e', 'KC'), ('pela', 'NPROP'), ('data', 'N'), ('do', 'NPROP'), ('calendário', 'N'), ('(', '('), ('23', 'NUM'), ('de', 'PREP'), ('fevereiro', 'N'), (')', ')'), ('desde', 'PREP'), ('que', 'PRO-KS-REL'), ('a', 'ART'), ('NBA', 'NPROP'), ('mudou', 'V'), ('seu', 'PROADJ'), ('formato', 'N'), ('de', 'PREP'), ('playoff', 'N|EST'), ('em', 'PREP|+'), ('1984', 'N'), ('.', '.'), ('[', '['), ('69', 'NUM'), (']', None), ('Após', 'PREP'), ('a', 'ART'), ('suspensão', 'N'), ('da', 'NPROP'), ('temporada', 'N'), (',', ','), ('os', 'ART'), ('Bucks', 'NPROP'), ('foram', 'VAUX'), ('uma', 'ART'), ('das', 'NPROP'), ('22', 'NUM'), ('equipes', 'N'), ('convidadas', 'PCP'), ('para', 'PREP'), ('a', 'ART'), ('Bolha', None), ('da', 'NPROP'), ('NBA', 'NPROP'), ('para', 'PREP'), ('participar', 'V'), ('dos', 'NPROP'), ('últimos', 'ADJ'), ('8', 'NUM'), ('jogos', 'N'), ('da', 'NPROP'), ('temporada', 'N'), ('regular', 'ADJ'), ('.', '.'), ('[', '['), ('70', 'NUM'), (']', None), ('Em', 'PREP|+'), ('26', 'NUM'), ('de', 'PREP'), ('agosto', 'N'), (',', ','), ('os', 'ART'), ('jogadores', 'N'), ('dos', 'NPROP'), ('Bucks', 'NPROP'), ('se', 'PROPESS'), ('recusaram', 'V'), ('a', 'ART'), ('jogar', 'V'), ('em', 'PREP|+'), ('sua', 'PROADJ'), ('partida', 'N'), ('de', 'PREP'), ('playoff', 'N|EST'), ('contra', 'PREP'), ('o', 'ART'), ('Orlando', 'NPROP'), ('Magic', 'NPROP'), ('após', 'PREP'), ('o', 'ART'), ('assassinato', 'N'), ('de', 'PREP'), ('Jacob', 'NPROP'), ('Blake', 'NPROP'), ('pela', 'NPROP'), ('polícia', 'N'), ('.', '.'), ('[', '['), ('71', 'NUM'), (']', None), ('[', '['), ('72', 'NUM'), (']', None), ('Antetokounmpo', None), ('recebeu', 'V'), ('seu', 'PROADJ'), ('segundo', 'PREP'), ('prêmio', 'N'), ('consecutivo', 'ADJ'), ('de', 'PREP'), ('MVP', 'NPROP'), ('após', 'PREP'), ('os', 'ART'), ('Bucks', 'NPROP'), ('perder', 'V'), ('nas', 'NPROP'), ('semifinais', 'N'), ('dos', 'NPROP'), ('playoffs', 'N|EST'), ('para', 'PREP'), ('o', 'ART'), ('Miami', 'NPROP'), ('Heat', 'NPROP'), ('.', '.'), ('[', '['), ('73', 'NUM'), (']', None), ('[', '['), ('74', 'N'), (']', None), ('Durante', 'PREP'), ('a', 'ART'), ('primeira', 'ADJ'), ('posse', 'N'), ('do', 'NPROP'), ('primeiro', 'ADJ'), ('jogo', 'N'), ('da', 'NPROP'), ('temporada', 'N'), ('de', 'PREP'), ('2020-21', None), ('contra', 'PREP'), ('o', 'ART'), ('Detroit', 'NPROP'), ('Pistons', 'NPROP'), ('em', 'PREP|+'), ('6', 'NUM'), ('de', 'PREP'), ('janeiro', 'N'), (',', ','), ('ambas', 'PROSUB'), ('as', 'ART'), ('equipes', 'N'), ('se', 'PROPESS'), ('ajoelharam', None), ('em', 'PREP|+'), ('protesto', 'N'), ('ao', 'PREP'), ('anúncio', 'N'), ('de', 'PREP'), ('que', 'PRO-KS-REL'), ('acusações', 'N'), ('criminais', None), ('não', 'ADV'), ('seriam', 'V'), ('feitas', 'PCP'), ('contra', 'PREP'), ('policiais', 'N'), ('no', 'KC'), ('assassinato', 'N'), ('de', 'PREP'), ('Blake', 'NPROP'), ('.', '.'), ('Os', 'ART'), ('Bucks', 'NPROP'), ('seguraram', 'V'), ('a', 'ART'), ('bola', 'N'), ('por', 'PREP|+'), ('sete', 'NUM'), ('segundos', 'N'), ('em', 'PREP|+'), ('referência', 'N'), ('aos', 'ADV'), ('sete', 'NUM'), ('tiros', 'N'), ('de', 'PREP'), ('Blake', 'NPROP'), ('.', '.'), ('[', '['), ('75', 'NUM'), (']', None)]\n"
          ]
        }
      ]
    },
    {
      "cell_type": "code",
      "metadata": {
        "id": "QujO575Aq9Pn"
      },
      "source": [
        "# Colocando uma etiqueta padrao\n",
        "etiq_padrao = DefaultTagger('N')\n",
        "etiquetador = UnigramTagger(sentencas_treino, backoff=etiq_padrao)\n",
        "etiquetado = etiquetador.tag(tokens)\n",
        "print(etiquetado)"
      ],
      "execution_count": null,
      "outputs": []
    },
    {
      "cell_type": "code",
      "metadata": {
        "id": "LM_3lZxWsR9i"
      },
      "source": [
        "from nltk.chunk import RegexpParser"
      ],
      "execution_count": null,
      "outputs": []
    },
    {
      "cell_type": "code",
      "metadata": {
        "colab": {
          "background_save": true
        },
        "id": "BUZG8Pq9sahf",
        "outputId": "1d95d204-73c2-4254-b4d6-611a933f9abb"
      },
      "source": [
        "pattern = 'NP: {<NPROP><NPROP> | <N><N> }'\n",
        "analise_gramatical = RegexpParser(pattern)\n",
        "arvore = analise_gramatical.parse(etiquetado)\n",
        "print(arvore)"
      ],
      "execution_count": null,
      "outputs": [
        {
          "name": "stdout",
          "output_type": "stream",
          "text": [
            "<class 'nltk.tree.Tree'>\n"
          ]
        }
      ]
    }
  ]
}